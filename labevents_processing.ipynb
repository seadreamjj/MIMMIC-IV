{
 "cells": [
  {
   "cell_type": "code",
   "execution_count": 2,
   "metadata": {},
   "outputs": [
    {
     "data": {
      "image/png": "[encoded data removed]",
      "text/plain": [
       "<Figure size 640x480 with 1 Axes>"
      ]
     },
     "metadata": {},
     "output_type": "display_data"
    }
   ],
   "source": [
    "import pandas as pd\n",
    "import numpy as np\n",
    "import matplotlib.pyplot as plt\n",
    "\n",
    "\n",
    "# test\n",
    "x = np.linspace(0, 2*np.pi, 100)\n",
    "y = np.sin(x)\n",
    "\n",
    "# draw\n",
    "plt.plot(x, y)\n",
    "plt.xlabel('x')\n",
    "plt.ylabel('y')\n",
    "plt.title('Sin Wave')\n",
    "plt.show()\n"
   ]
  },
  {
   "cell_type": "code",
   "execution_count": 3,
   "metadata": {},
   "outputs": [],
   "source": [
    "mimic_path='/Users/jieche/Desktop/machine learning/mimic-iv-2.2/'\n",
    "\n"
   ]
  },
  {
   "cell_type": "code",
   "execution_count": 5,
   "metadata": {},
   "outputs": [],
   "source": [
    "chunk_size = 1500000\n",
    "\n",
    "# Read the CSV file in chunks and save each chunk as a CSV file\n",
    "i = 0\n",
    "for chunk in pd.read_csv(mimic_path + '/hosp/labevents.csv.gz', compression='gzip', chunksize=chunk_size):\n",
    "    chunk.drop(['labevent_id', 'hadm_id','order_provider_id', 'value', 'ref_range_lower', 'ref_range_upper', 'flag', 'priority', 'comments'],\n",
    "               axis='columns', inplace=True)\n",
    "    chunk.to_csv(f'chunk_{i}.csv', index=False)\n",
    "    i += 1\n",
    "\n",
    "# Read and concatenate the saved chunks into a single dataframe\n",
    "chunks = []\n",
    "for i in range(i):\n",
    "    chunk = pd.read_csv(f'chunk_{i}.csv')\n",
    "    chunks.append(chunk)\n",
    "\n",
    "lab_results = pd.concat(chunks, ignore_index=True)\n"
   ]
  },
  {
   "cell_type": "code",
   "execution_count": 8,
   "metadata": {},
   "outputs": [],
   "source": [
    "i=0\n",
    "\n",
    "\n",
    "# Read and concatenate the saved chunks into a single dataframe\n",
    "\n",
    "chunks = []\n",
    "for i in range(79):\n",
    "    chunk = pd.read_csv(f'chunk_{i}.csv')\n",
    "    chunks.append(chunk)\n",
    "\n",
    "\n",
    "lab_results = pd.concat(chunks, ignore_index=True)\n"
   ]
  },
  {
   "cell_type": "code",
   "execution_count": 6,
   "metadata": {},
   "outputs": [
    {
     "name": "stdout",
     "output_type": "stream",
     "text": [
      "<class 'pandas.core.frame.DataFrame'>\n",
      "RangeIndex: 118171367 entries, 0 to 118171366\n",
      "Data columns (total 7 columns):\n",
      " #   Column       Dtype  \n",
      "---  ------       -----  \n",
      " 0   subject_id   int64  \n",
      " 1   specimen_id  int64  \n",
      " 2   itemid       int64  \n",
      " 3   charttime    object \n",
      " 4   storetime    object \n",
      " 5   valuenum     float64\n",
      " 6   valueuom     object \n",
      "dtypes: float64(1), int64(3), object(3)\n",
      "memory usage: 6.2+ GB\n"
     ]
    }
   ],
   "source": [
    "diag.info()"
   ]
  },
  {
   "cell_type": "code",
   "execution_count": 7,
   "metadata": {},
   "outputs": [
    {
     "data": {
      "text/html": [
       "<div>\n",
       "<style scoped>\n",
       "    .dataframe tbody tr th:only-of-type {\n",
       "        vertical-align: middle;\n",
       "    }\n",
       "\n",
       "    .dataframe tbody tr th {\n",
       "        vertical-align: top;\n",
       "    }\n",
       "\n",
       "    .dataframe thead th {\n",
       "        text-align: right;\n",
       "    }\n",
       "</style>\n",
       "<table border=\"1\" class=\"dataframe\">\n",
       "  <thead>\n",
       "    <tr style=\"text-align: right;\">\n",
       "      <th></th>\n",
       "      <th>subject_id</th>\n",
       "      <th>specimen_id</th>\n",
       "      <th>itemid</th>\n",
       "      <th>charttime</th>\n",
       "      <th>storetime</th>\n",
       "      <th>valuenum</th>\n",
       "      <th>valueuom</th>\n",
       "    </tr>\n",
       "  </thead>\n",
       "  <tbody>\n",
       "    <tr>\n",
       "      <th>0</th>\n",
       "      <td>10000032</td>\n",
       "      <td>45421181</td>\n",
       "      <td>51237</td>\n",
       "      <td>2180-03-23 11:51:00</td>\n",
       "      <td>2180-03-23 15:15:00</td>\n",
       "      <td>1.4</td>\n",
       "      <td>NaN</td>\n",
       "    </tr>\n",
       "    <tr>\n",
       "      <th>1</th>\n",
       "      <td>10000032</td>\n",
       "      <td>45421181</td>\n",
       "      <td>51274</td>\n",
       "      <td>2180-03-23 11:51:00</td>\n",
       "      <td>2180-03-23 15:15:00</td>\n",
       "      <td>15.1</td>\n",
       "      <td>sec</td>\n",
       "    </tr>\n",
       "    <tr>\n",
       "      <th>2</th>\n",
       "      <td>10000032</td>\n",
       "      <td>52958335</td>\n",
       "      <td>50853</td>\n",
       "      <td>2180-03-23 11:51:00</td>\n",
       "      <td>2180-03-25 11:06:00</td>\n",
       "      <td>15.0</td>\n",
       "      <td>ng/mL</td>\n",
       "    </tr>\n",
       "    <tr>\n",
       "      <th>3</th>\n",
       "      <td>10000032</td>\n",
       "      <td>52958335</td>\n",
       "      <td>50861</td>\n",
       "      <td>2180-03-23 11:51:00</td>\n",
       "      <td>2180-03-23 16:40:00</td>\n",
       "      <td>102.0</td>\n",
       "      <td>IU/L</td>\n",
       "    </tr>\n",
       "    <tr>\n",
       "      <th>4</th>\n",
       "      <td>10000032</td>\n",
       "      <td>52958335</td>\n",
       "      <td>50862</td>\n",
       "      <td>2180-03-23 11:51:00</td>\n",
       "      <td>2180-03-23 16:40:00</td>\n",
       "      <td>3.3</td>\n",
       "      <td>g/dL</td>\n",
       "    </tr>\n",
       "  </tbody>\n",
       "</table>\n",
       "</div>"
      ],
      "text/plain": [
       "   subject_id  specimen_id  itemid            charttime            storetime  \\\n",
       "0    10000032     45421181   51237  2180-03-23 11:51:00  2180-03-23 15:15:00   \n",
       "1    10000032     45421181   51274  2180-03-23 11:51:00  2180-03-23 15:15:00   \n",
       "2    10000032     52958335   50853  2180-03-23 11:51:00  2180-03-25 11:06:00   \n",
       "3    10000032     52958335   50861  2180-03-23 11:51:00  2180-03-23 16:40:00   \n",
       "4    10000032     52958335   50862  2180-03-23 11:51:00  2180-03-23 16:40:00   \n",
       "\n",
       "   valuenum valueuom  \n",
       "0       1.4      NaN  \n",
       "1      15.1      sec  \n",
       "2      15.0    ng/mL  \n",
       "3     102.0     IU/L  \n",
       "4       3.3     g/dL  "
      ]
     },
     "execution_count": 7,
     "metadata": {},
     "output_type": "execute_result"
    }
   ],
   "source": [
    "diag.head()"
   ]
  },
  {
   "cell_type": "code",
   "execution_count": 9,
   "metadata": {},
   "outputs": [],
   "source": [
    "lab_results = lab_results.drop('specimen_id', axis=1)"
   ]
  },
  {
   "cell_type": "code",
   "execution_count": 10,
   "metadata": {},
   "outputs": [
    {
     "name": "stdout",
     "output_type": "stream",
     "text": [
      "<class 'pandas.core.frame.DataFrame'>\n",
      "RangeIndex: 118171367 entries, 0 to 118171366\n",
      "Data columns (total 6 columns):\n",
      " #   Column      Dtype  \n",
      "---  ------      -----  \n",
      " 0   subject_id  int64  \n",
      " 1   itemid      int64  \n",
      " 2   charttime   object \n",
      " 3   storetime   object \n",
      " 4   valuenum    float64\n",
      " 5   valueuom    object \n",
      "dtypes: float64(1), int64(2), object(3)\n",
      "memory usage: 5.3+ GB\n"
     ]
    }
   ],
   "source": [
    "lab_results.info()\n"
   ]
  },
  {
   "cell_type": "code",
   "execution_count": 11,
   "metadata": {},
   "outputs": [],
   "source": [
    "lab_results.to_csv('lab_results.csv', index=False)\n"
   ]
  },
  {
   "cell_type": "code",
   "execution_count": 17,
   "metadata": {},
   "outputs": [
    {
     "data": {
      "text/plain": [
       "51221    3325700\n",
       "50912    3282278\n",
       "51265    3216656\n",
       "51006    3189474\n",
       "51222    3188835\n",
       "          ...   \n",
       "51784          1\n",
       "51459          1\n",
       "52113          1\n",
       "52371          1\n",
       "52055          1\n",
       "Name: itemid, Length: 915, dtype: int64"
      ]
     },
     "execution_count": 17,
     "metadata": {},
     "output_type": "execute_result"
    }
   ],
   "source": [
    "lab_results['itemid'].value_counts()\n"
   ]
  },
  {
   "cell_type": "code",
   "execution_count": 21,
   "metadata": {},
   "outputs": [
    {
     "name": "stdout",
     "output_type": "stream",
     "text": [
      "[51221, 50912, 51265, 51006, 51222, 51301, 51249, 51279, 51250, 51248, 51277, 50971, 50983, 50902, 50882, 50868, 50931, 50893, 50960, 50970, 50934, 51678, 50947, 51237, 51274, 50920, 52172, 50861, 50878, 51275, 51244, 51256, 51254, 51200, 51146, 50885, 50863, 50862, 51498, 51508, 51486, 51506, 51491, 51466, 51492, 51478, 51484, 51464, 51487, 51514, 51087, 52033, 50820, 52075, 52073, 52074, 52069, 51133, 50821, 50802, 50804, 50818, 50813, 51516, 51493, 51463, 51519, 51476, 50954, 52135, 51003, 51512, 50993, 50933, 50808, 50910, 50887, 51266, 50907, 51000, 50822, 50904, 50903, 51137, 51267, 50956, 51246, 50955, 51268, 51252, 50911, 51233, 50852, 50905, 51144, 50809, 51251, 51255, 51143, 51613, 51082, 50817, 50979, 50976, 51103, 50812, 50924, 51007, 51107, 50930, 50889, 50952, 51260, 50824, 50810, 50811, 51214, 51482, 50998, 50953, 51010, 50825, 50995]\n"
     ]
    }
   ],
   "source": [
    "freq_items = lab_results['itemid'].value_counts()\n",
    "freq_items = freq_items[freq_items > 100000].index.tolist()\n",
    "print(freq_items)"
   ]
  },
  {
   "cell_type": "code",
   "execution_count": 45,
   "metadata": {},
   "outputs": [
    {
     "data": {
      "text/plain": [
       "211004"
      ]
     },
     "execution_count": 45,
     "metadata": {},
     "output_type": "execute_result"
    }
   ],
   "source": [
    "lab_results['itemid'].value_counts().get(50809, 0)\n"
   ]
  },
  {
   "attachments": {},
   "cell_type": "markdown",
   "metadata": {},
   "source": [
    "The values I need are: glucose 50809, Hemoglobin A1c 50852, Triglycerides 51000, HDL 50904, LDL 50905, creatinine 50912, uric acid 51007 ,Urea Nitrogen 51006"
   ]
  },
  {
   "cell_type": "code",
   "execution_count": 47,
   "metadata": {},
   "outputs": [],
   "source": [
    "# 将需要的 itemid 对应的 valuenum 透视出来\n",
    "lab_results_pivot = lab_results[lab_results['itemid'].isin([50809, 50852, 51000, 50904, 50905, 50912, 51007, 51006])]\\\n",
    "    .pivot_table(index='itemid', columns='subject_id', values='valuenum', aggfunc='mean')\n",
    "\n",
    "#lab_results_pivot = lab_results[lab_results['itemid'].isin([50809, 50852, 51000, 50904, 50905, 50912, 51007, 51006])]\\\n",
    "    #.pivot_table(index='subject_id', columns='itemid', values='valuenum', aggfunc='list') \\\n",
    "    #.stack() \\\n",
    "    #.reset_index(name='value') \\\n",
    "    #.rename(columns={'level_1': 'itemid'})\n",
    "# 将透视后的数据转置，使得 subject_id 成为行索引\n",
    "lab_results_pivot = lab_results_pivot.T\n",
    "# 将列名重命名为对应的 itemid\n",
    "lab_results_pivot.columns = ['Glucose', 'Hemoglobin A1c',\n",
    "                             'HDL', 'LDL', 'Creatinine', 'Triglycerides', 'Urea Nitrogen', 'Uric Acid']\n",
    "#lab_results_pivot = lab_results_pivot.reset_index()\n",
    "# 将透视结果与原数据集合并，保留所有的 subject_id\n",
    "#lab_results_new = pd.merge(lab_results[['subject_id']].drop_duplicates(), lab_results_pivot, left_on='subject_id', right_index=True, how='left')\n"
   ]
  },
  {
   "cell_type": "code",
   "execution_count": 48,
   "metadata": {},
   "outputs": [
    {
     "data": {
      "text/html": [
       "<div>\n",
       "<style scoped>\n",
       "    .dataframe tbody tr th:only-of-type {\n",
       "        vertical-align: middle;\n",
       "    }\n",
       "\n",
       "    .dataframe tbody tr th {\n",
       "        vertical-align: top;\n",
       "    }\n",
       "\n",
       "    .dataframe thead th {\n",
       "        text-align: right;\n",
       "    }\n",
       "</style>\n",
       "<table border=\"1\" class=\"dataframe\">\n",
       "  <thead>\n",
       "    <tr style=\"text-align: right;\">\n",
       "      <th></th>\n",
       "      <th>Glucose</th>\n",
       "      <th>Hemoglobin A1c</th>\n",
       "      <th>HDL</th>\n",
       "      <th>LDL</th>\n",
       "      <th>Creatinine</th>\n",
       "      <th>Triglycerides</th>\n",
       "      <th>Urea Nitrogen</th>\n",
       "      <th>Uric Acid</th>\n",
       "    </tr>\n",
       "    <tr>\n",
       "      <th>subject_id</th>\n",
       "      <th></th>\n",
       "      <th></th>\n",
       "      <th></th>\n",
       "      <th></th>\n",
       "      <th></th>\n",
       "      <th></th>\n",
       "      <th></th>\n",
       "      <th></th>\n",
       "    </tr>\n",
       "  </thead>\n",
       "  <tbody>\n",
       "    <tr>\n",
       "      <th>10000032</th>\n",
       "      <td>NaN</td>\n",
       "      <td>NaN</td>\n",
       "      <td>52.000000</td>\n",
       "      <td>135.000000</td>\n",
       "      <td>0.466667</td>\n",
       "      <td>73.000000</td>\n",
       "      <td>30.388889</td>\n",
       "      <td>NaN</td>\n",
       "    </tr>\n",
       "    <tr>\n",
       "      <th>10000048</th>\n",
       "      <td>NaN</td>\n",
       "      <td>NaN</td>\n",
       "      <td>NaN</td>\n",
       "      <td>NaN</td>\n",
       "      <td>0.700000</td>\n",
       "      <td>NaN</td>\n",
       "      <td>16.000000</td>\n",
       "      <td>NaN</td>\n",
       "    </tr>\n",
       "    <tr>\n",
       "      <th>10000084</th>\n",
       "      <td>NaN</td>\n",
       "      <td>NaN</td>\n",
       "      <td>NaN</td>\n",
       "      <td>NaN</td>\n",
       "      <td>0.733333</td>\n",
       "      <td>NaN</td>\n",
       "      <td>12.666667</td>\n",
       "      <td>NaN</td>\n",
       "    </tr>\n",
       "    <tr>\n",
       "      <th>10000108</th>\n",
       "      <td>NaN</td>\n",
       "      <td>NaN</td>\n",
       "      <td>NaN</td>\n",
       "      <td>NaN</td>\n",
       "      <td>1.000000</td>\n",
       "      <td>NaN</td>\n",
       "      <td>12.000000</td>\n",
       "      <td>NaN</td>\n",
       "    </tr>\n",
       "    <tr>\n",
       "      <th>10000117</th>\n",
       "      <td>NaN</td>\n",
       "      <td>5.3</td>\n",
       "      <td>71.142857</td>\n",
       "      <td>154.285714</td>\n",
       "      <td>0.868750</td>\n",
       "      <td>90.857143</td>\n",
       "      <td>10.066667</td>\n",
       "      <td>NaN</td>\n",
       "    </tr>\n",
       "  </tbody>\n",
       "</table>\n",
       "</div>"
      ],
      "text/plain": [
       "            Glucose  Hemoglobin A1c        HDL         LDL  Creatinine  \\\n",
       "subject_id                                                               \n",
       "10000032        NaN             NaN  52.000000  135.000000    0.466667   \n",
       "10000048        NaN             NaN        NaN         NaN    0.700000   \n",
       "10000084        NaN             NaN        NaN         NaN    0.733333   \n",
       "10000108        NaN             NaN        NaN         NaN    1.000000   \n",
       "10000117        NaN             5.3  71.142857  154.285714    0.868750   \n",
       "\n",
       "            Triglycerides  Urea Nitrogen  Uric Acid  \n",
       "subject_id                                           \n",
       "10000032        73.000000      30.388889        NaN  \n",
       "10000048              NaN      16.000000        NaN  \n",
       "10000084              NaN      12.666667        NaN  \n",
       "10000108              NaN      12.000000        NaN  \n",
       "10000117        90.857143      10.066667        NaN  "
      ]
     },
     "execution_count": 48,
     "metadata": {},
     "output_type": "execute_result"
    }
   ],
   "source": [
    "lab_results_pivot.head()\n"
   ]
  },
  {
   "cell_type": "code",
   "execution_count": 49,
   "metadata": {},
   "outputs": [
    {
     "name": "stdout",
     "output_type": "stream",
     "text": [
      "<class 'pandas.core.frame.DataFrame'>\n",
      "Int64Index: 242288 entries, 10000032 to 19999987\n",
      "Data columns (total 8 columns):\n",
      " #   Column          Non-Null Count   Dtype  \n",
      "---  ------          --------------   -----  \n",
      " 0   Glucose         46609 non-null   float64\n",
      " 1   Hemoglobin A1c  74715 non-null   float64\n",
      " 2   HDL             82375 non-null   float64\n",
      " 3   LDL             78437 non-null   float64\n",
      " 4   Creatinine      239831 non-null  float64\n",
      " 5   Triglycerides   84508 non-null   float64\n",
      " 6   Urea Nitrogen   237983 non-null  float64\n",
      " 7   Uric Acid       23723 non-null   float64\n",
      "dtypes: float64(8)\n",
      "memory usage: 16.6 MB\n"
     ]
    }
   ],
   "source": [
    "lab_results_pivot.info()"
   ]
  },
  {
   "cell_type": "code",
   "execution_count": 50,
   "metadata": {},
   "outputs": [],
   "source": [
    "lab_results_pivot.to_csv('lab_results_pivot.csv')\n"
   ]
  }
 ],
 "metadata": {
  "kernelspec": {
   "display_name": "base",
   "language": "python",
   "name": "python3"
  },
  "language_info": {
   "codemirror_mode": {
    "name": "ipython",
    "version": 3
   },
   "file_extension": ".py",
   "mimetype": "text/x-python",
   "name": "python",
   "nbconvert_exporter": "python",
   "pygments_lexer": "ipython3",
   "version": "3.9.13"
  },
  "orig_nbformat": 4,
  "vscode": {
   "interpreter": {
    "hash": "cfd69f74615c4ef0133400a3bcd721013fb2808b284b1b6ac6c4460012cd3018"
   }
  }
 },
 "nbformat": 4,
 "nbformat_minor": 2
}
