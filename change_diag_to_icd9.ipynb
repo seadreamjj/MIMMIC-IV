{
 "cells": [
  {
   "cell_type": "code",
   "execution_count": null,
   "metadata": {},
   "outputs": [],
   "source": [
    "# read diagnoses_icd table\n",
    "icds = pd.read_csv(mimic_path + 'hosp/diagnoses_icd.csv.gz',\n",
    "                   compression='gzip')\n",
    "\n",
    "icds.head()\n"
   ]
  },
  {
   "cell_type": "code",
   "execution_count": null,
   "metadata": {},
   "outputs": [],
   "source": [
    "icds.info()"
   ]
  },
  {
   "cell_type": "code",
   "execution_count": null,
   "metadata": {},
   "outputs": [],
   "source": [
    "icds.icd_version.value_counts()\n"
   ]
  },
  {
   "cell_type": "code",
   "execution_count": null,
   "metadata": {},
   "outputs": [],
   "source": [
    "# transfer from icd10 to icd9, here it takes a long time (~6h), I store the result in another file so that I don't need to do that each time\n",
    "import pandas as pd\n",
    "import csv\n",
    "\n",
    "\n",
    "def icd10_to_icd9(icd10):\n",
    "    with open('ICD_9_10_d_v1.1.csv', newline='', encoding='utf-8') as csvfile:\n",
    "        reader = csv.reader(csvfile)\n",
    "        for row in reader:\n",
    "            if row[0] == icd10:\n",
    "                return row[1]\n",
    "    return ''\n",
    "\n",
    "\n",
    "df = pd.read_csv(mimic_path + 'hosp/diagnoses_icd.csv.gz',\n",
    "                 compression='gzip', header=None)\n",
    "\n",
    "# use loc to choose all icd=10 ,and transfer it to icd9\n",
    "icd10_mask = df.loc[:, 4] == '10'\n",
    "df.loc[icd10_mask, 3] = df.loc[icd10_mask, 2].apply(icd10_to_icd9)\n",
    "\n",
    "\n",
    "df.head()\n"
   ]
  },
  {
   "cell_type": "code",
   "execution_count": null,
   "metadata": {},
   "outputs": [],
   "source": [
    "df.to_csv('diag_icds_transfer.csv', index=False)\n"
   ]
  }
 ],
 "metadata": {
  "kernelspec": {
   "display_name": "Python 3",
   "language": "python",
   "name": "python3"
  },
  "language_info": {
   "name": "python",
   "version": "3.11.1"
  },
  "orig_nbformat": 4,
  "vscode": {
   "interpreter": {
    "hash": "aee8b7b246df8f9039afb4144a1f6fd8d2ca17a180786b69acc140d282b71a49"
   }
  }
 },
 "nbformat": 4,
 "nbformat_minor": 2
}
