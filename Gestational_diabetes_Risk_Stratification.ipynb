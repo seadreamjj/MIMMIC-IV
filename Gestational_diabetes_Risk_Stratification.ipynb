{
 "cells": [
  {
   "attachments": {},
   "cell_type": "markdown",
   "metadata": {},
   "source": [
    "Risk Stratification\n",
    "\n",
    "Requirements:\n",
    "Develop a model to stratify patients according to their risk of contracting/developing certain conditions. The choice of condition is entirely upto you. You could choose to stratify patients according to their risk of developing heart attacks, diabetes etc. Report which features are of interest to your chosen pathology. Also report which features strongly predict the different risk classes, for instance certain features could strongly predict higher risk categories, but weakly predict lower risk, while other features could better predict the lower risk categories. "
   ]
  },
  {
   "attachments": {},
   "cell_type": "markdown",
   "metadata": {},
   "source": [
    "\n",
    "\n",
    "In this project, I choose  diabetes, which I would predict patients' risk of developing gestational diabetes. I would also like to explore the different risk classes, and how they are related to each other.\n"
   ]
  },
  {
   "attachments": {},
   "cell_type": "markdown",
   "metadata": {},
   "source": [
    "Part I  Data preprocessing and Data cleaning"
   ]
  },
  {
   "cell_type": "code",
   "execution_count": 1,
   "metadata": {},
   "outputs": [
    {
     "data": {
      "image/png": "[encoded data removed]",
      "text/plain": [
       "<Figure size 640x480 with 1 Axes>"
      ]
     },
     "metadata": {},
     "output_type": "display_data"
    }
   ],
   "source": [
    "import pandas as pd\n",
    "import numpy as np\n",
    "import matplotlib.pyplot as plt\n",
    "\n",
    "\n",
    "# test\n",
    "x = np.linspace(0, 2*np.pi, 100)\n",
    "y = np.sin(x)\n",
    "\n",
    "# draw\n",
    "plt.plot(x, y)\n",
    "plt.xlabel('x')\n",
    "plt.ylabel('y')\n",
    "plt.title('Sin Wave')\n",
    "plt.show()\n"
   ]
  },
  {
   "cell_type": "code",
   "execution_count": 2,
   "metadata": {},
   "outputs": [],
   "source": [
    "#import the data\n",
    "mimic_path='/Users/jieche/Desktop/machine learning/mimic-iv-2.2/'"
   ]
  },
  {
   "cell_type": "code",
   "execution_count": 4,
   "metadata": {},
   "outputs": [
    {
     "data": {
      "text/html": [
       "<div>\n",
       "<style scoped>\n",
       "    .dataframe tbody tr th:only-of-type {\n",
       "        vertical-align: middle;\n",
       "    }\n",
       "\n",
       "    .dataframe tbody tr th {\n",
       "        vertical-align: top;\n",
       "    }\n",
       "\n",
       "    .dataframe thead th {\n",
       "        text-align: right;\n",
       "    }\n",
       "</style>\n",
       "<table border=\"1\" class=\"dataframe\">\n",
       "  <thead>\n",
       "    <tr style=\"text-align: right;\">\n",
       "      <th></th>\n",
       "      <th>subject_id</th>\n",
       "      <th>hadm_id</th>\n",
       "      <th>admittime</th>\n",
       "      <th>dischtime</th>\n",
       "      <th>deathtime</th>\n",
       "      <th>admission_type</th>\n",
       "      <th>admit_provider_id</th>\n",
       "      <th>admission_location</th>\n",
       "      <th>discharge_location</th>\n",
       "      <th>insurance</th>\n",
       "      <th>language</th>\n",
       "      <th>marital_status</th>\n",
       "      <th>race</th>\n",
       "      <th>edregtime</th>\n",
       "      <th>edouttime</th>\n",
       "      <th>hospital_expire_flag</th>\n",
       "    </tr>\n",
       "  </thead>\n",
       "  <tbody>\n",
       "    <tr>\n",
       "      <th>0</th>\n",
       "      <td>10000032</td>\n",
       "      <td>22595853</td>\n",
       "      <td>2180-05-06 22:23:00</td>\n",
       "      <td>2180-05-07 17:15:00</td>\n",
       "      <td>NaN</td>\n",
       "      <td>URGENT</td>\n",
       "      <td>P874LG</td>\n",
       "      <td>TRANSFER FROM HOSPITAL</td>\n",
       "      <td>HOME</td>\n",
       "      <td>Other</td>\n",
       "      <td>ENGLISH</td>\n",
       "      <td>WIDOWED</td>\n",
       "      <td>WHITE</td>\n",
       "      <td>2180-05-06 19:17:00</td>\n",
       "      <td>2180-05-06 23:30:00</td>\n",
       "      <td>0</td>\n",
       "    </tr>\n",
       "    <tr>\n",
       "      <th>1</th>\n",
       "      <td>10000032</td>\n",
       "      <td>22841357</td>\n",
       "      <td>2180-06-26 18:27:00</td>\n",
       "      <td>2180-06-27 18:49:00</td>\n",
       "      <td>NaN</td>\n",
       "      <td>EW EMER.</td>\n",
       "      <td>P09Q6Y</td>\n",
       "      <td>EMERGENCY ROOM</td>\n",
       "      <td>HOME</td>\n",
       "      <td>Medicaid</td>\n",
       "      <td>ENGLISH</td>\n",
       "      <td>WIDOWED</td>\n",
       "      <td>WHITE</td>\n",
       "      <td>2180-06-26 15:54:00</td>\n",
       "      <td>2180-06-26 21:31:00</td>\n",
       "      <td>0</td>\n",
       "    </tr>\n",
       "    <tr>\n",
       "      <th>2</th>\n",
       "      <td>10000032</td>\n",
       "      <td>25742920</td>\n",
       "      <td>2180-08-05 23:44:00</td>\n",
       "      <td>2180-08-07 17:50:00</td>\n",
       "      <td>NaN</td>\n",
       "      <td>EW EMER.</td>\n",
       "      <td>P60CC5</td>\n",
       "      <td>EMERGENCY ROOM</td>\n",
       "      <td>HOSPICE</td>\n",
       "      <td>Medicaid</td>\n",
       "      <td>ENGLISH</td>\n",
       "      <td>WIDOWED</td>\n",
       "      <td>WHITE</td>\n",
       "      <td>2180-08-05 20:58:00</td>\n",
       "      <td>2180-08-06 01:44:00</td>\n",
       "      <td>0</td>\n",
       "    </tr>\n",
       "    <tr>\n",
       "      <th>3</th>\n",
       "      <td>10000032</td>\n",
       "      <td>29079034</td>\n",
       "      <td>2180-07-23 12:35:00</td>\n",
       "      <td>2180-07-25 17:55:00</td>\n",
       "      <td>NaN</td>\n",
       "      <td>EW EMER.</td>\n",
       "      <td>P30KEH</td>\n",
       "      <td>EMERGENCY ROOM</td>\n",
       "      <td>HOME</td>\n",
       "      <td>Medicaid</td>\n",
       "      <td>ENGLISH</td>\n",
       "      <td>WIDOWED</td>\n",
       "      <td>WHITE</td>\n",
       "      <td>2180-07-23 05:54:00</td>\n",
       "      <td>2180-07-23 14:00:00</td>\n",
       "      <td>0</td>\n",
       "    </tr>\n",
       "    <tr>\n",
       "      <th>4</th>\n",
       "      <td>10000068</td>\n",
       "      <td>25022803</td>\n",
       "      <td>2160-03-03 23:16:00</td>\n",
       "      <td>2160-03-04 06:26:00</td>\n",
       "      <td>NaN</td>\n",
       "      <td>EU OBSERVATION</td>\n",
       "      <td>P51VDL</td>\n",
       "      <td>EMERGENCY ROOM</td>\n",
       "      <td>NaN</td>\n",
       "      <td>Other</td>\n",
       "      <td>ENGLISH</td>\n",
       "      <td>SINGLE</td>\n",
       "      <td>WHITE</td>\n",
       "      <td>2160-03-03 21:55:00</td>\n",
       "      <td>2160-03-04 06:26:00</td>\n",
       "      <td>0</td>\n",
       "    </tr>\n",
       "  </tbody>\n",
       "</table>\n",
       "</div>"
      ],
      "text/plain": [
       "   subject_id   hadm_id            admittime            dischtime deathtime  \\\n",
       "0    10000032  22595853  2180-05-06 22:23:00  2180-05-07 17:15:00       NaN   \n",
       "1    10000032  22841357  2180-06-26 18:27:00  2180-06-27 18:49:00       NaN   \n",
       "2    10000032  25742920  2180-08-05 23:44:00  2180-08-07 17:50:00       NaN   \n",
       "3    10000032  29079034  2180-07-23 12:35:00  2180-07-25 17:55:00       NaN   \n",
       "4    10000068  25022803  2160-03-03 23:16:00  2160-03-04 06:26:00       NaN   \n",
       "\n",
       "   admission_type admit_provider_id      admission_location  \\\n",
       "0          URGENT            P874LG  TRANSFER FROM HOSPITAL   \n",
       "1        EW EMER.            P09Q6Y          EMERGENCY ROOM   \n",
       "2        EW EMER.            P60CC5          EMERGENCY ROOM   \n",
       "3        EW EMER.            P30KEH          EMERGENCY ROOM   \n",
       "4  EU OBSERVATION            P51VDL          EMERGENCY ROOM   \n",
       "\n",
       "  discharge_location insurance language marital_status   race  \\\n",
       "0               HOME     Other  ENGLISH        WIDOWED  WHITE   \n",
       "1               HOME  Medicaid  ENGLISH        WIDOWED  WHITE   \n",
       "2            HOSPICE  Medicaid  ENGLISH        WIDOWED  WHITE   \n",
       "3               HOME  Medicaid  ENGLISH        WIDOWED  WHITE   \n",
       "4                NaN     Other  ENGLISH         SINGLE  WHITE   \n",
       "\n",
       "             edregtime            edouttime  hospital_expire_flag  \n",
       "0  2180-05-06 19:17:00  2180-05-06 23:30:00                     0  \n",
       "1  2180-06-26 15:54:00  2180-06-26 21:31:00                     0  \n",
       "2  2180-08-05 20:58:00  2180-08-06 01:44:00                     0  \n",
       "3  2180-07-23 05:54:00  2180-07-23 14:00:00                     0  \n",
       "4  2160-03-03 21:55:00  2160-03-04 06:26:00                     0  "
      ]
     },
     "execution_count": 4,
     "metadata": {},
     "output_type": "execute_result"
    }
   ],
   "source": [
    "#Begin with admission data\n",
    "admits = pd.read_csv(mimic_path + 'hosp/admissions.csv.gz', compression='gzip')\n",
    "admits.head()\n"
   ]
  },
  {
   "cell_type": "markdown",
   "metadata": {},
   "source": []
  },
  {
   "cell_type": "code",
   "execution_count": 5,
   "metadata": {},
   "outputs": [
    {
     "data": {
      "text/html": [
       "<div>\n",
       "<style scoped>\n",
       "    .dataframe tbody tr th:only-of-type {\n",
       "        vertical-align: middle;\n",
       "    }\n",
       "\n",
       "    .dataframe tbody tr th {\n",
       "        vertical-align: top;\n",
       "    }\n",
       "\n",
       "    .dataframe thead th {\n",
       "        text-align: right;\n",
       "    }\n",
       "</style>\n",
       "<table border=\"1\" class=\"dataframe\">\n",
       "  <thead>\n",
       "    <tr style=\"text-align: right;\">\n",
       "      <th></th>\n",
       "      <th>subject_id</th>\n",
       "      <th>hadm_id</th>\n",
       "      <th>race</th>\n",
       "    </tr>\n",
       "  </thead>\n",
       "  <tbody>\n",
       "    <tr>\n",
       "      <th>0</th>\n",
       "      <td>10000032</td>\n",
       "      <td>22595853</td>\n",
       "      <td>WHITE</td>\n",
       "    </tr>\n",
       "    <tr>\n",
       "      <th>1</th>\n",
       "      <td>10000032</td>\n",
       "      <td>22841357</td>\n",
       "      <td>WHITE</td>\n",
       "    </tr>\n",
       "    <tr>\n",
       "      <th>2</th>\n",
       "      <td>10000032</td>\n",
       "      <td>25742920</td>\n",
       "      <td>WHITE</td>\n",
       "    </tr>\n",
       "    <tr>\n",
       "      <th>3</th>\n",
       "      <td>10000032</td>\n",
       "      <td>29079034</td>\n",
       "      <td>WHITE</td>\n",
       "    </tr>\n",
       "    <tr>\n",
       "      <th>4</th>\n",
       "      <td>10000068</td>\n",
       "      <td>25022803</td>\n",
       "      <td>WHITE</td>\n",
       "    </tr>\n",
       "  </tbody>\n",
       "</table>\n",
       "</div>"
      ],
      "text/plain": [
       "   subject_id   hadm_id   race\n",
       "0    10000032  22595853  WHITE\n",
       "1    10000032  22841357  WHITE\n",
       "2    10000032  25742920  WHITE\n",
       "3    10000032  29079034  WHITE\n",
       "4    10000068  25022803  WHITE"
      ]
     },
     "execution_count": 5,
     "metadata": {},
     "output_type": "execute_result"
    }
   ],
   "source": [
    "#Only keep the useful information for analysis.\n",
    "admits = admits[['subject_id','hadm_id', 'race']]\n",
    "admits.head()\n"
   ]
  },
  {
   "cell_type": "code",
   "execution_count": 6,
   "metadata": {},
   "outputs": [
    {
     "data": {
      "text/plain": [
       "WHITE                                        272932\n",
       "BLACK/AFRICAN AMERICAN                        59959\n",
       "OTHER                                         15102\n",
       "UNKNOWN                                       10668\n",
       "HISPANIC/LATINO - PUERTO RICAN                 8076\n",
       "WHITE - OTHER EUROPEAN                         7925\n",
       "HISPANIC OR LATINO                             7754\n",
       "ASIAN                                          6156\n",
       "ASIAN - CHINESE                                5587\n",
       "WHITE - RUSSIAN                                5024\n",
       "BLACK/CAPE VERDEAN                             4765\n",
       "HISPANIC/LATINO - DOMINICAN                    4383\n",
       "BLACK/CARIBBEAN ISLAND                         2704\n",
       "BLACK/AFRICAN                                  2530\n",
       "PATIENT DECLINED TO ANSWER                     1761\n",
       "UNABLE TO OBTAIN                               1603\n",
       "PORTUGUESE                                     1510\n",
       "ASIAN - SOUTH EAST ASIAN                       1446\n",
       "HISPANIC/LATINO - GUATEMALAN                   1330\n",
       "ASIAN - ASIAN INDIAN                           1198\n",
       "WHITE - EASTERN EUROPEAN                       1170\n",
       "WHITE - BRAZILIAN                              1103\n",
       "AMERICAN INDIAN/ALASKA NATIVE                   919\n",
       "HISPANIC/LATINO - SALVADORAN                    892\n",
       "HISPANIC/LATINO - MEXICAN                       665\n",
       "HISPANIC/LATINO - COLUMBIAN                     639\n",
       "MULTIPLE RACE/ETHNICITY                         560\n",
       "HISPANIC/LATINO - HONDURAN                      536\n",
       "ASIAN - KOREAN                                  506\n",
       "SOUTH AMERICAN                                  505\n",
       "HISPANIC/LATINO - CUBAN                         500\n",
       "HISPANIC/LATINO - CENTRAL AMERICAN              437\n",
       "NATIVE HAWAIIAN OR OTHER PACIFIC ISLANDER       386\n",
       "Name: race, dtype: int64"
      ]
     },
     "execution_count": 6,
     "metadata": {},
     "output_type": "execute_result"
    }
   ],
   "source": [
    "#Simplify the data\n",
    "admits['race'].value_counts()\n"
   ]
  },
  {
   "cell_type": "code",
   "execution_count": 7,
   "metadata": {},
   "outputs": [
    {
     "data": {
      "text/plain": [
       "WHITE                                        288154\n",
       "BLACK                                         69958\n",
       "HISPANIC                                      25212\n",
       "OTHER                                         15102\n",
       "ASIAN                                         14893\n",
       "UNKNOWN                                       10668\n",
       "PATIENT DECLINED TO ANSWER                     1761\n",
       "UNABLE TO OBTAIN                               1603\n",
       "PORTUGUESE                                     1510\n",
       "AMERICAN INDIAN/ALASKA NATIVE                   919\n",
       "MULTIPLE RACE/ETHNICITY                         560\n",
       "SOUTH AMERICAN                                  505\n",
       "NATIVE HAWAIIAN OR OTHER PACIFIC ISLANDER       386\n",
       "Name: race, dtype: int64"
      ]
     },
     "execution_count": 7,
     "metadata": {},
     "output_type": "execute_result"
    }
   ],
   "source": [
    "import re\n",
    "\n",
    "# 将所有以\"white\"开头的字符串替换为\"white\"\n",
    "admits['race'] = admits['race'].apply(\n",
    "    lambda x: re.sub(r'^WHITE.*', 'WHITE', str(x)))\n",
    "admits['race'] = admits['race'].apply(\n",
    "    lambda x: re.sub(r'^BLACK.*', 'BLACK', str(x)))\n",
    "admits['race'] = admits['race'].apply(\n",
    "    lambda x: re.sub(r'^ASIAN.*', 'ASIAN', str(x)))\n",
    "admits['race'] = admits['race'].apply(\n",
    "    lambda x: re.sub(r'^HISPANIC.*', 'HISPANIC', str(x)))\n",
    "admits['race'].value_counts()\n"
   ]
  },
  {
   "cell_type": "code",
   "execution_count": 8,
   "metadata": {},
   "outputs": [
    {
     "name": "stderr",
     "output_type": "stream",
     "text": [
      "/var/folders/ck/8r_z2td51y379bxk8krf4ss00000gn/T/ipykernel_42836/2112628393.py:2: SettingWithCopyWarning: \n",
      "A value is trying to be set on a copy of a slice from a DataFrame\n",
      "\n",
      "See the caveats in the documentation: https://pandas.pydata.org/pandas-docs/stable/user_guide/indexing.html#returning-a-view-versus-a-copy\n",
      "  admits['race'].loc[~admits['race'].isin(\n"
     ]
    },
    {
     "data": {
      "text/plain": [
       "WHITE            288154\n",
       "BLACK             69958\n",
       "HISPANIC          25212\n",
       "OTHER/UNKNOWN     17912\n",
       "OTHER             15102\n",
       "ASIAN             14893\n",
       "Name: race, dtype: int64"
      ]
     },
     "execution_count": 8,
     "metadata": {},
     "output_type": "execute_result"
    }
   ],
   "source": [
    "# put the others in the same category: other/unknown\n",
    "admits['race'].loc[~admits['race'].isin(\n",
    "    admits['race'].value_counts().nlargest(5).index.tolist())] = 'OTHER/UNKNOWN'\n",
    "admits['race'].value_counts()\n"
   ]
  },
  {
   "cell_type": "code",
   "execution_count": 9,
   "metadata": {},
   "outputs": [
    {
     "data": {
      "text/plain": [
       "WHITE            288154\n",
       "BLACK             69958\n",
       "OTHER/UNKNOWN     33014\n",
       "HISPANIC          25212\n",
       "ASIAN             14893\n",
       "Name: race, dtype: int64"
      ]
     },
     "execution_count": 9,
     "metadata": {},
     "output_type": "execute_result"
    }
   ],
   "source": [
    "# combine other and other/unknown\n",
    "admits['race'].replace(\n",
    "    ['OTHER/UNKNOWN', 'OTHER'], value='OTHER/UNKNOWN', inplace=True)\n",
    "admits['race'].value_counts()\n"
   ]
  },
  {
   "attachments": {},
   "cell_type": "markdown",
   "metadata": {},
   "source": []
  },
  {
   "cell_type": "code",
   "execution_count": 10,
   "metadata": {},
   "outputs": [
    {
     "data": {
      "text/html": [
       "<div>\n",
       "<style scoped>\n",
       "    .dataframe tbody tr th:only-of-type {\n",
       "        vertical-align: middle;\n",
       "    }\n",
       "\n",
       "    .dataframe tbody tr th {\n",
       "        vertical-align: top;\n",
       "    }\n",
       "\n",
       "    .dataframe thead th {\n",
       "        text-align: right;\n",
       "    }\n",
       "</style>\n",
       "<table border=\"1\" class=\"dataframe\">\n",
       "  <thead>\n",
       "    <tr style=\"text-align: right;\">\n",
       "      <th></th>\n",
       "      <th>subject_id</th>\n",
       "      <th>gender</th>\n",
       "      <th>anchor_age</th>\n",
       "      <th>anchor_year</th>\n",
       "      <th>anchor_year_group</th>\n",
       "      <th>dod</th>\n",
       "    </tr>\n",
       "  </thead>\n",
       "  <tbody>\n",
       "    <tr>\n",
       "      <th>0</th>\n",
       "      <td>10000032</td>\n",
       "      <td>F</td>\n",
       "      <td>52</td>\n",
       "      <td>2180</td>\n",
       "      <td>2014 - 2016</td>\n",
       "      <td>2180-09-09</td>\n",
       "    </tr>\n",
       "    <tr>\n",
       "      <th>1</th>\n",
       "      <td>10000048</td>\n",
       "      <td>F</td>\n",
       "      <td>23</td>\n",
       "      <td>2126</td>\n",
       "      <td>2008 - 2010</td>\n",
       "      <td>NaN</td>\n",
       "    </tr>\n",
       "    <tr>\n",
       "      <th>2</th>\n",
       "      <td>10000068</td>\n",
       "      <td>F</td>\n",
       "      <td>19</td>\n",
       "      <td>2160</td>\n",
       "      <td>2008 - 2010</td>\n",
       "      <td>NaN</td>\n",
       "    </tr>\n",
       "    <tr>\n",
       "      <th>3</th>\n",
       "      <td>10000084</td>\n",
       "      <td>M</td>\n",
       "      <td>72</td>\n",
       "      <td>2160</td>\n",
       "      <td>2017 - 2019</td>\n",
       "      <td>2161-02-13</td>\n",
       "    </tr>\n",
       "    <tr>\n",
       "      <th>4</th>\n",
       "      <td>10000102</td>\n",
       "      <td>F</td>\n",
       "      <td>27</td>\n",
       "      <td>2136</td>\n",
       "      <td>2008 - 2010</td>\n",
       "      <td>NaN</td>\n",
       "    </tr>\n",
       "  </tbody>\n",
       "</table>\n",
       "</div>"
      ],
      "text/plain": [
       "   subject_id gender  anchor_age  anchor_year anchor_year_group         dod\n",
       "0    10000032      F          52         2180       2014 - 2016  2180-09-09\n",
       "1    10000048      F          23         2126       2008 - 2010         NaN\n",
       "2    10000068      F          19         2160       2008 - 2010         NaN\n",
       "3    10000084      M          72         2160       2017 - 2019  2161-02-13\n",
       "4    10000102      F          27         2136       2008 - 2010         NaN"
      ]
     },
     "execution_count": 10,
     "metadata": {},
     "output_type": "execute_result"
    }
   ],
   "source": [
    "# patient\n",
    "patients = pd.read_csv(mimic_path + 'hosp/patients.csv.gz', compression='gzip')\n",
    "patients.head()\n"
   ]
  },
  {
   "cell_type": "code",
   "execution_count": 11,
   "metadata": {},
   "outputs": [
    {
     "data": {
      "text/html": [
       "<div>\n",
       "<style scoped>\n",
       "    .dataframe tbody tr th:only-of-type {\n",
       "        vertical-align: middle;\n",
       "    }\n",
       "\n",
       "    .dataframe tbody tr th {\n",
       "        vertical-align: top;\n",
       "    }\n",
       "\n",
       "    .dataframe thead th {\n",
       "        text-align: right;\n",
       "    }\n",
       "</style>\n",
       "<table border=\"1\" class=\"dataframe\">\n",
       "  <thead>\n",
       "    <tr style=\"text-align: right;\">\n",
       "      <th></th>\n",
       "      <th>subject_id</th>\n",
       "      <th>gender</th>\n",
       "      <th>anchor_age</th>\n",
       "      <th>anchor_year</th>\n",
       "      <th>anchor_year_group</th>\n",
       "      <th>dod</th>\n",
       "    </tr>\n",
       "  </thead>\n",
       "  <tbody>\n",
       "    <tr>\n",
       "      <th>0</th>\n",
       "      <td>10000032</td>\n",
       "      <td>F</td>\n",
       "      <td>52</td>\n",
       "      <td>2180</td>\n",
       "      <td>2014 - 2016</td>\n",
       "      <td>2180-09-09</td>\n",
       "    </tr>\n",
       "    <tr>\n",
       "      <th>1</th>\n",
       "      <td>10000048</td>\n",
       "      <td>F</td>\n",
       "      <td>23</td>\n",
       "      <td>2126</td>\n",
       "      <td>2008 - 2010</td>\n",
       "      <td>NaN</td>\n",
       "    </tr>\n",
       "    <tr>\n",
       "      <th>2</th>\n",
       "      <td>10000068</td>\n",
       "      <td>F</td>\n",
       "      <td>19</td>\n",
       "      <td>2160</td>\n",
       "      <td>2008 - 2010</td>\n",
       "      <td>NaN</td>\n",
       "    </tr>\n",
       "    <tr>\n",
       "      <th>3</th>\n",
       "      <td>10000102</td>\n",
       "      <td>F</td>\n",
       "      <td>27</td>\n",
       "      <td>2136</td>\n",
       "      <td>2008 - 2010</td>\n",
       "      <td>NaN</td>\n",
       "    </tr>\n",
       "    <tr>\n",
       "      <th>4</th>\n",
       "      <td>10000117</td>\n",
       "      <td>F</td>\n",
       "      <td>48</td>\n",
       "      <td>2174</td>\n",
       "      <td>2008 - 2010</td>\n",
       "      <td>NaN</td>\n",
       "    </tr>\n",
       "  </tbody>\n",
       "</table>\n",
       "</div>"
      ],
      "text/plain": [
       "   subject_id gender  anchor_age  anchor_year anchor_year_group         dod\n",
       "0    10000032      F          52         2180       2014 - 2016  2180-09-09\n",
       "1    10000048      F          23         2126       2008 - 2010         NaN\n",
       "2    10000068      F          19         2160       2008 - 2010         NaN\n",
       "3    10000102      F          27         2136       2008 - 2010         NaN\n",
       "4    10000117      F          48         2174       2008 - 2010         NaN"
      ]
     },
     "execution_count": 11,
     "metadata": {},
     "output_type": "execute_result"
    }
   ],
   "source": [
    "#only keep the women between 18-65\n",
    "# 只保留女性\n",
    "patients = patients[patients['gender'] == 'F']\n",
    "\n",
    "# 只保留年龄在18-65岁之间的患者\n",
    "patients = patients[(patients['anchor_age'] >= 18) &\n",
    "                    (patients['anchor_age'] <= 65)]\n",
    "\n",
    "# 重置索引\n",
    "patients = patients.reset_index(drop=True)\n",
    "\n",
    "# 输出结果\n",
    "patients.head()\n"
   ]
  },
  {
   "cell_type": "code",
   "execution_count": 12,
   "metadata": {},
   "outputs": [
    {
     "data": {
      "text/html": [
       "<div>\n",
       "<style scoped>\n",
       "    .dataframe tbody tr th:only-of-type {\n",
       "        vertical-align: middle;\n",
       "    }\n",
       "\n",
       "    .dataframe tbody tr th {\n",
       "        vertical-align: top;\n",
       "    }\n",
       "\n",
       "    .dataframe thead th {\n",
       "        text-align: right;\n",
       "    }\n",
       "</style>\n",
       "<table border=\"1\" class=\"dataframe\">\n",
       "  <thead>\n",
       "    <tr style=\"text-align: right;\">\n",
       "      <th></th>\n",
       "      <th>subject_id</th>\n",
       "      <th>anchor_age</th>\n",
       "    </tr>\n",
       "  </thead>\n",
       "  <tbody>\n",
       "    <tr>\n",
       "      <th>0</th>\n",
       "      <td>10000032</td>\n",
       "      <td>52</td>\n",
       "    </tr>\n",
       "    <tr>\n",
       "      <th>1</th>\n",
       "      <td>10000048</td>\n",
       "      <td>23</td>\n",
       "    </tr>\n",
       "    <tr>\n",
       "      <th>2</th>\n",
       "      <td>10000068</td>\n",
       "      <td>19</td>\n",
       "    </tr>\n",
       "    <tr>\n",
       "      <th>3</th>\n",
       "      <td>10000102</td>\n",
       "      <td>27</td>\n",
       "    </tr>\n",
       "    <tr>\n",
       "      <th>4</th>\n",
       "      <td>10000117</td>\n",
       "      <td>48</td>\n",
       "    </tr>\n",
       "  </tbody>\n",
       "</table>\n",
       "</div>"
      ],
      "text/plain": [
       "   subject_id  anchor_age\n",
       "0    10000032          52\n",
       "1    10000048          23\n",
       "2    10000068          19\n",
       "3    10000102          27\n",
       "4    10000117          48"
      ]
     },
     "execution_count": 12,
     "metadata": {},
     "output_type": "execute_result"
    }
   ],
   "source": [
    "#Only keep id, gender, and age\n",
    "patients = patients[['subject_id','anchor_age']]\n",
    "patients.head()\n"
   ]
  },
  {
   "cell_type": "code",
   "execution_count": 13,
   "metadata": {},
   "outputs": [
    {
     "name": "stdout",
     "output_type": "stream",
     "text": [
      "<class 'pandas.core.frame.DataFrame'>\n",
      "RangeIndex: 119710 entries, 0 to 119709\n",
      "Data columns (total 2 columns):\n",
      " #   Column      Non-Null Count   Dtype\n",
      "---  ------      --------------   -----\n",
      " 0   subject_id  119710 non-null  int64\n",
      " 1   anchor_age  119710 non-null  int64\n",
      "dtypes: int64(2)\n",
      "memory usage: 1.8 MB\n"
     ]
    }
   ],
   "source": [
    "patients.info()"
   ]
  },
  {
   "cell_type": "code",
   "execution_count": 15,
   "metadata": {},
   "outputs": [
    {
     "data": {
      "text/plain": [
       "count    119710.000000\n",
       "mean         38.397878\n",
       "std          14.485048\n",
       "min          18.000000\n",
       "25%          25.000000\n",
       "50%          36.000000\n",
       "75%          52.000000\n",
       "max          65.000000\n",
       "Name: anchor_age, dtype: float64"
      ]
     },
     "execution_count": 15,
     "metadata": {},
     "output_type": "execute_result"
    }
   ],
   "source": [
    "patients.anchor_age.describe()\n"
   ]
  },
  {
   "cell_type": "code",
   "execution_count": 16,
   "metadata": {},
   "outputs": [
    {
     "data": {
      "image/png": "[encoded data removed]",
      "text/plain": [
       "<Figure size 640x480 with 1 Axes>"
      ]
     },
     "metadata": {},
     "output_type": "display_data"
    }
   ],
   "source": [
    "plt.hist(patients['anchor_age'], bins=20, color='#a12a52')\n",
    "plt.ylabel('Count')\n",
    "plt.xlabel('Age (years)')\n",
    "plt.title('Distribution of Age in MIMIC-IV')\n",
    "plt.tick_params(left=False, bottom=False, top=False, right=False)\n",
    "plt.show()\n"
   ]
  },
  {
   "cell_type": "code",
   "execution_count": 17,
   "metadata": {},
   "outputs": [
    {
     "data": {
      "text/plain": [
       "YOUNG_ADULT     46440\n",
       "SENIOR          32068\n",
       "MIDDLE_ADULT    22266\n",
       "OLD_ADULT       18936\n",
       "Name: anchor_age, dtype: int64"
      ]
     },
     "execution_count": 17,
     "metadata": {},
     "output_type": "execute_result"
    }
   ],
   "source": [
    "age_ranges = [(18, 30), (31, 40), (41, 50), (51, 65)]\n",
    "for num, cat_range in enumerate(age_ranges):\n",
    "    patients['anchor_age'] = np.where(patients['anchor_age'].between(\n",
    "        cat_range[0], cat_range[1]), num, patients['anchor_age'])\n",
    "\n",
    "age_dict = {0: 'YOUNG_ADULT', 1: 'MIDDLE_ADULT', 2: 'OLD_ADULT', 3: 'SENIOR'}\n",
    "patients['anchor_age'] = patients['anchor_age'].replace(age_dict)\n",
    "patients.anchor_age.value_counts()\n"
   ]
  },
  {
   "cell_type": "code",
   "execution_count": 18,
   "metadata": {},
   "outputs": [
    {
     "data": {
      "text/html": [
       "<div>\n",
       "<style scoped>\n",
       "    .dataframe tbody tr th:only-of-type {\n",
       "        vertical-align: middle;\n",
       "    }\n",
       "\n",
       "    .dataframe tbody tr th {\n",
       "        vertical-align: top;\n",
       "    }\n",
       "\n",
       "    .dataframe thead th {\n",
       "        text-align: right;\n",
       "    }\n",
       "</style>\n",
       "<table border=\"1\" class=\"dataframe\">\n",
       "  <thead>\n",
       "    <tr style=\"text-align: right;\">\n",
       "      <th></th>\n",
       "      <th>subject_id</th>\n",
       "      <th>hadm_id</th>\n",
       "      <th>race</th>\n",
       "      <th>anchor_age</th>\n",
       "    </tr>\n",
       "  </thead>\n",
       "  <tbody>\n",
       "    <tr>\n",
       "      <th>0</th>\n",
       "      <td>10000032</td>\n",
       "      <td>22595853</td>\n",
       "      <td>WHITE</td>\n",
       "      <td>SENIOR</td>\n",
       "    </tr>\n",
       "    <tr>\n",
       "      <th>1</th>\n",
       "      <td>10000032</td>\n",
       "      <td>22841357</td>\n",
       "      <td>WHITE</td>\n",
       "      <td>SENIOR</td>\n",
       "    </tr>\n",
       "    <tr>\n",
       "      <th>2</th>\n",
       "      <td>10000032</td>\n",
       "      <td>25742920</td>\n",
       "      <td>WHITE</td>\n",
       "      <td>SENIOR</td>\n",
       "    </tr>\n",
       "    <tr>\n",
       "      <th>3</th>\n",
       "      <td>10000032</td>\n",
       "      <td>29079034</td>\n",
       "      <td>WHITE</td>\n",
       "      <td>SENIOR</td>\n",
       "    </tr>\n",
       "    <tr>\n",
       "      <th>4</th>\n",
       "      <td>10000068</td>\n",
       "      <td>25022803</td>\n",
       "      <td>WHITE</td>\n",
       "      <td>YOUNG_ADULT</td>\n",
       "    </tr>\n",
       "  </tbody>\n",
       "</table>\n",
       "</div>"
      ],
      "text/plain": [
       "   subject_id   hadm_id   race   anchor_age\n",
       "0    10000032  22595853  WHITE       SENIOR\n",
       "1    10000032  22841357  WHITE       SENIOR\n",
       "2    10000032  25742920  WHITE       SENIOR\n",
       "3    10000032  29079034  WHITE       SENIOR\n",
       "4    10000068  25022803  WHITE  YOUNG_ADULT"
      ]
     },
     "execution_count": 18,
     "metadata": {},
     "output_type": "execute_result"
    }
   ],
   "source": [
    "# merge patients and admisssions(according to the description, subject id is the identification of patients, while hadm id is the event number, here use the subject id)\n",
    "admits_patients = pd.merge(admits, patients, how='inner', on='subject_id')\n",
    "admits_patients.head()\n"
   ]
  },
  {
   "cell_type": "code",
   "execution_count": 19,
   "metadata": {},
   "outputs": [
    {
     "name": "stdout",
     "output_type": "stream",
     "text": [
      "<class 'pandas.core.frame.DataFrame'>\n",
      "Int64Index: 144141 entries, 0 to 144140\n",
      "Data columns (total 4 columns):\n",
      " #   Column      Non-Null Count   Dtype \n",
      "---  ------      --------------   ----- \n",
      " 0   subject_id  144141 non-null  int64 \n",
      " 1   hadm_id     144141 non-null  int64 \n",
      " 2   race        144141 non-null  object\n",
      " 3   anchor_age  144141 non-null  object\n",
      "dtypes: int64(2), object(2)\n",
      "memory usage: 5.5+ MB\n"
     ]
    }
   ],
   "source": [
    "admits_patients.info()"
   ]
  },
  {
   "cell_type": "markdown",
   "metadata": {},
   "source": []
  },
  {
   "cell_type": "code",
   "execution_count": 23,
   "metadata": {},
   "outputs": [
    {
     "data": {
      "text/html": [
       "<div>\n",
       "<style scoped>\n",
       "    .dataframe tbody tr th:only-of-type {\n",
       "        vertical-align: middle;\n",
       "    }\n",
       "\n",
       "    .dataframe tbody tr th {\n",
       "        vertical-align: top;\n",
       "    }\n",
       "\n",
       "    .dataframe thead th {\n",
       "        text-align: right;\n",
       "    }\n",
       "</style>\n",
       "<table border=\"1\" class=\"dataframe\">\n",
       "  <thead>\n",
       "    <tr style=\"text-align: right;\">\n",
       "      <th></th>\n",
       "      <th>subject_id</th>\n",
       "      <th>hadm_id</th>\n",
       "      <th>seq_num</th>\n",
       "      <th>icd_code</th>\n",
       "      <th>icd_version</th>\n",
       "    </tr>\n",
       "  </thead>\n",
       "  <tbody>\n",
       "    <tr>\n",
       "      <th>0</th>\n",
       "      <td>10000032</td>\n",
       "      <td>22595853</td>\n",
       "      <td>1</td>\n",
       "      <td>5723</td>\n",
       "      <td>9</td>\n",
       "    </tr>\n",
       "    <tr>\n",
       "      <th>1</th>\n",
       "      <td>10000032</td>\n",
       "      <td>22595853</td>\n",
       "      <td>2</td>\n",
       "      <td>78959</td>\n",
       "      <td>9</td>\n",
       "    </tr>\n",
       "    <tr>\n",
       "      <th>2</th>\n",
       "      <td>10000032</td>\n",
       "      <td>22595853</td>\n",
       "      <td>3</td>\n",
       "      <td>5715</td>\n",
       "      <td>9</td>\n",
       "    </tr>\n",
       "    <tr>\n",
       "      <th>3</th>\n",
       "      <td>10000032</td>\n",
       "      <td>22595853</td>\n",
       "      <td>4</td>\n",
       "      <td>07070</td>\n",
       "      <td>9</td>\n",
       "    </tr>\n",
       "    <tr>\n",
       "      <th>4</th>\n",
       "      <td>10000032</td>\n",
       "      <td>22595853</td>\n",
       "      <td>5</td>\n",
       "      <td>496</td>\n",
       "      <td>9</td>\n",
       "    </tr>\n",
       "  </tbody>\n",
       "</table>\n",
       "</div>"
      ],
      "text/plain": [
       "   subject_id   hadm_id  seq_num icd_code  icd_version\n",
       "0    10000032  22595853        1     5723            9\n",
       "1    10000032  22595853        2    78959            9\n",
       "2    10000032  22595853        3     5715            9\n",
       "3    10000032  22595853        4    07070            9\n",
       "4    10000032  22595853        5      496            9"
      ]
     },
     "execution_count": 23,
     "metadata": {},
     "output_type": "execute_result"
    }
   ],
   "source": [
    "# read diagnoses_icd table\n",
    "icds = pd.read_csv(mimic_path + 'hosp/diagnoses_icd.csv.gz',\n",
    "                   compression='gzip')\n",
    "\n",
    "icds.head()\n"
   ]
  },
  {
   "cell_type": "code",
   "execution_count": 21,
   "metadata": {},
   "outputs": [
    {
     "name": "stdout",
     "output_type": "stream",
     "text": [
      "<class 'pandas.core.frame.DataFrame'>\n",
      "RangeIndex: 4756326 entries, 0 to 4756325\n",
      "Data columns (total 5 columns):\n",
      " #   Column       Dtype \n",
      "---  ------       ----- \n",
      " 0   subject_id   int64 \n",
      " 1   hadm_id      int64 \n",
      " 2   seq_num      int64 \n",
      " 3   icd_code     object\n",
      " 4   icd_version  int64 \n",
      "dtypes: int64(4), object(1)\n",
      "memory usage: 181.4+ MB\n"
     ]
    }
   ],
   "source": [
    "icds.info()"
   ]
  },
  {
   "cell_type": "code",
   "execution_count": 24,
   "metadata": {},
   "outputs": [
    {
     "name": "stdout",
     "output_type": "stream",
     "text": [
      "4756326\n",
      "25809\n",
      "180640\n"
     ]
    }
   ],
   "source": [
    "print(icds.shape[0])\n",
    "print(icds.icd_code.nunique())\n",
    "print(icds.subject_id.nunique())\n"
   ]
  },
  {
   "cell_type": "code",
   "execution_count": 25,
   "metadata": {},
   "outputs": [],
   "source": [
    "group_icd_codes = True\n",
    "if group_icd_codes:\n",
    "    icds[\"icd_code\"] = icds[\"icd_code\"].apply(lambda x: str(x)[:8])\n"
   ]
  },
  {
   "cell_type": "code",
   "execution_count": 26,
   "metadata": {},
   "outputs": [
    {
     "name": "stdout",
     "output_type": "stream",
     "text": [
      "<class 'pandas.core.frame.DataFrame'>\n",
      "RangeIndex: 4756326 entries, 0 to 4756325\n",
      "Data columns (total 5 columns):\n",
      " #   Column       Dtype \n",
      "---  ------       ----- \n",
      " 0   subject_id   int64 \n",
      " 1   hadm_id      int64 \n",
      " 2   seq_num      int64 \n",
      " 3   icd_code     object\n",
      " 4   icd_version  int64 \n",
      "dtypes: int64(4), object(1)\n",
      "memory usage: 181.4+ MB\n"
     ]
    }
   ],
   "source": [
    "icds.info()"
   ]
  },
  {
   "cell_type": "code",
   "execution_count": 30,
   "metadata": {},
   "outputs": [
    {
     "name": "stdout",
     "output_type": "stream",
     "text": [
      "There are 13542 diagnoses of Gestational diabetes.\n"
     ]
    }
   ],
   "source": [
    "gd_patients = icds[icds['icd_code'].str.contains('O244|648')]\n",
    "\n",
    "num_gdpatients = gd_patients.shape[0]\n",
    "\n",
    "print(\"There are\", num_gdpatients, \"diagnoses of Gestational diabetes.\")\n"
   ]
  },
  {
   "cell_type": "code",
   "execution_count": 37,
   "metadata": {},
   "outputs": [],
   "source": [
    "icds['GD'] = 0\n",
    "\n",
    "\n",
    "# 在 GD 列中标记为 1\n",
    "icds.loc[icds['subject_id'].isin(gd_patients), 'GD'] = 1\n"
   ]
  },
  {
   "cell_type": "code",
   "execution_count": 39,
   "metadata": {},
   "outputs": [
    {
     "data": {
      "text/html": [
       "<div>\n",
       "<style scoped>\n",
       "    .dataframe tbody tr th:only-of-type {\n",
       "        vertical-align: middle;\n",
       "    }\n",
       "\n",
       "    .dataframe tbody tr th {\n",
       "        vertical-align: top;\n",
       "    }\n",
       "\n",
       "    .dataframe thead th {\n",
       "        text-align: right;\n",
       "    }\n",
       "</style>\n",
       "<table border=\"1\" class=\"dataframe\">\n",
       "  <thead>\n",
       "    <tr style=\"text-align: right;\">\n",
       "      <th></th>\n",
       "      <th>subject_id</th>\n",
       "      <th>hadm_id</th>\n",
       "      <th>seq_num</th>\n",
       "      <th>icd_code</th>\n",
       "      <th>icd_version</th>\n",
       "      <th>GD</th>\n",
       "      <th>diabete_history</th>\n",
       "      <th>pregnant_time</th>\n",
       "    </tr>\n",
       "  </thead>\n",
       "  <tbody>\n",
       "    <tr>\n",
       "      <th>0</th>\n",
       "      <td>10000032</td>\n",
       "      <td>22595853</td>\n",
       "      <td>1</td>\n",
       "      <td>5723</td>\n",
       "      <td>9</td>\n",
       "      <td>0</td>\n",
       "      <td>0</td>\n",
       "      <td>0</td>\n",
       "    </tr>\n",
       "    <tr>\n",
       "      <th>1</th>\n",
       "      <td>10000032</td>\n",
       "      <td>22595853</td>\n",
       "      <td>2</td>\n",
       "      <td>78959</td>\n",
       "      <td>9</td>\n",
       "      <td>0</td>\n",
       "      <td>0</td>\n",
       "      <td>0</td>\n",
       "    </tr>\n",
       "    <tr>\n",
       "      <th>2</th>\n",
       "      <td>10000032</td>\n",
       "      <td>22595853</td>\n",
       "      <td>3</td>\n",
       "      <td>5715</td>\n",
       "      <td>9</td>\n",
       "      <td>0</td>\n",
       "      <td>0</td>\n",
       "      <td>0</td>\n",
       "    </tr>\n",
       "    <tr>\n",
       "      <th>3</th>\n",
       "      <td>10000032</td>\n",
       "      <td>22595853</td>\n",
       "      <td>4</td>\n",
       "      <td>07070</td>\n",
       "      <td>9</td>\n",
       "      <td>0</td>\n",
       "      <td>0</td>\n",
       "      <td>0</td>\n",
       "    </tr>\n",
       "    <tr>\n",
       "      <th>4</th>\n",
       "      <td>10000032</td>\n",
       "      <td>22595853</td>\n",
       "      <td>5</td>\n",
       "      <td>496</td>\n",
       "      <td>9</td>\n",
       "      <td>0</td>\n",
       "      <td>0</td>\n",
       "      <td>0</td>\n",
       "    </tr>\n",
       "  </tbody>\n",
       "</table>\n",
       "</div>"
      ],
      "text/plain": [
       "   subject_id   hadm_id  seq_num icd_code  icd_version  GD  diabete_history  \\\n",
       "0    10000032  22595853        1     5723            9   0                0   \n",
       "1    10000032  22595853        2    78959            9   0                0   \n",
       "2    10000032  22595853        3     5715            9   0                0   \n",
       "3    10000032  22595853        4    07070            9   0                0   \n",
       "4    10000032  22595853        5      496            9   0                0   \n",
       "\n",
       "   pregnant_time  \n",
       "0              0  \n",
       "1              0  \n",
       "2              0  \n",
       "3              0  \n",
       "4              0  "
      ]
     },
     "execution_count": 39,
     "metadata": {},
     "output_type": "execute_result"
    }
   ],
   "source": [
    "icds.head()"
   ]
  },
  {
   "cell_type": "code",
   "execution_count": 38,
   "metadata": {},
   "outputs": [
    {
     "data": {
      "text/plain": [
       "0    4423811\n",
       "1     332515\n",
       "Name: GD, dtype: int64"
      ]
     },
     "execution_count": 38,
     "metadata": {},
     "output_type": "execute_result"
    }
   ],
   "source": [
    "icds.GD.value_counts()\n",
    "\n"
   ]
  },
  {
   "cell_type": "code",
   "execution_count": 47,
   "metadata": {},
   "outputs": [],
   "source": [
    "#find patients that suffers diabetes before gestational diabetes\n",
    "# 先将diabete_history设置为0\n",
    "icds['diabete_history'] = 0\n",
    "\n",
    "# 根据subject_id进行分组，对每个分组进行操作\n",
    "for _, group in icds.groupby('subject_id'):\n",
    "    gd_diagnoses = group[group['icd_code'].str.contains('O244|648')]\n",
    "    if not gd_diagnoses.empty:\n",
    "        first_gd_index = gd_diagnoses.index[0]\n",
    "        before_gd_diagnoses = group.loc[:first_gd_index-1]\n",
    "        if before_gd_diagnoses[before_gd_diagnoses['icd_code'].str.contains('250|E08|E09|E10|E11|E12|E13')].shape[0] > 0:\n",
    "            icds.loc[before_gd_diagnoses.index, 'diabete_history'] = 1\n"
   ]
  },
  {
   "cell_type": "code",
   "execution_count": 48,
   "metadata": {},
   "outputs": [
    {
     "data": {
      "text/plain": [
       "0    4705239\n",
       "1      51087\n",
       "Name: diabete_history, dtype: int64"
      ]
     },
     "execution_count": 48,
     "metadata": {},
     "output_type": "execute_result"
    }
   ],
   "source": [
    "icds.diabete_history.value_counts()\n"
   ]
  },
  {
   "cell_type": "code",
   "execution_count": 49,
   "metadata": {},
   "outputs": [],
   "source": [
    "\n",
    "\n",
    "\n",
    "\n",
    "# 只保留 GD、diabete_history 和 pregnant_time 三列\n",
    "diagnoses = icds[['subject_id', 'hadm_id','icd_code','GD', 'diabete_history']]\n"
   ]
  },
  {
   "cell_type": "code",
   "execution_count": 50,
   "metadata": {},
   "outputs": [
    {
     "data": {
      "text/html": [
       "<div>\n",
       "<style scoped>\n",
       "    .dataframe tbody tr th:only-of-type {\n",
       "        vertical-align: middle;\n",
       "    }\n",
       "\n",
       "    .dataframe tbody tr th {\n",
       "        vertical-align: top;\n",
       "    }\n",
       "\n",
       "    .dataframe thead th {\n",
       "        text-align: right;\n",
       "    }\n",
       "</style>\n",
       "<table border=\"1\" class=\"dataframe\">\n",
       "  <thead>\n",
       "    <tr style=\"text-align: right;\">\n",
       "      <th></th>\n",
       "      <th>subject_id</th>\n",
       "      <th>hadm_id</th>\n",
       "      <th>icd_code</th>\n",
       "      <th>GD</th>\n",
       "      <th>diabete_history</th>\n",
       "    </tr>\n",
       "  </thead>\n",
       "  <tbody>\n",
       "    <tr>\n",
       "      <th>0</th>\n",
       "      <td>10000032</td>\n",
       "      <td>22595853</td>\n",
       "      <td>5723</td>\n",
       "      <td>0</td>\n",
       "      <td>0</td>\n",
       "    </tr>\n",
       "    <tr>\n",
       "      <th>1</th>\n",
       "      <td>10000032</td>\n",
       "      <td>22595853</td>\n",
       "      <td>78959</td>\n",
       "      <td>0</td>\n",
       "      <td>0</td>\n",
       "    </tr>\n",
       "    <tr>\n",
       "      <th>2</th>\n",
       "      <td>10000032</td>\n",
       "      <td>22595853</td>\n",
       "      <td>5715</td>\n",
       "      <td>0</td>\n",
       "      <td>0</td>\n",
       "    </tr>\n",
       "    <tr>\n",
       "      <th>3</th>\n",
       "      <td>10000032</td>\n",
       "      <td>22595853</td>\n",
       "      <td>07070</td>\n",
       "      <td>0</td>\n",
       "      <td>0</td>\n",
       "    </tr>\n",
       "    <tr>\n",
       "      <th>4</th>\n",
       "      <td>10000032</td>\n",
       "      <td>22595853</td>\n",
       "      <td>496</td>\n",
       "      <td>0</td>\n",
       "      <td>0</td>\n",
       "    </tr>\n",
       "  </tbody>\n",
       "</table>\n",
       "</div>"
      ],
      "text/plain": [
       "   subject_id   hadm_id icd_code  GD  diabete_history\n",
       "0    10000032  22595853     5723   0                0\n",
       "1    10000032  22595853    78959   0                0\n",
       "2    10000032  22595853     5715   0                0\n",
       "3    10000032  22595853    07070   0                0\n",
       "4    10000032  22595853      496   0                0"
      ]
     },
     "execution_count": 50,
     "metadata": {},
     "output_type": "execute_result"
    }
   ],
   "source": [
    "diagnoses.head()"
   ]
  },
  {
   "cell_type": "code",
   "execution_count": 51,
   "metadata": {},
   "outputs": [
    {
     "name": "stdout",
     "output_type": "stream",
     "text": [
      "<class 'pandas.core.frame.DataFrame'>\n",
      "RangeIndex: 4756326 entries, 0 to 4756325\n",
      "Data columns (total 5 columns):\n",
      " #   Column           Dtype \n",
      "---  ------           ----- \n",
      " 0   subject_id       int64 \n",
      " 1   hadm_id          int64 \n",
      " 2   icd_code         object\n",
      " 3   GD               int64 \n",
      " 4   diabete_history  int64 \n",
      "dtypes: int64(4), object(1)\n",
      "memory usage: 181.4+ MB\n"
     ]
    }
   ],
   "source": [
    "diagnoses.info()"
   ]
  },
  {
   "attachments": {},
   "cell_type": "markdown",
   "metadata": {},
   "source": [
    "Change the icd10 code to icd9, as I had done in the project of readmission prediction. I have the csv file which contains the transferred file. And read it directly."
   ]
  },
  {
   "cell_type": "code",
   "execution_count": 53,
   "metadata": {},
   "outputs": [
    {
     "name": "stderr",
     "output_type": "stream",
     "text": [
      "/var/folders/ck/8r_z2td51y379bxk8krf4ss00000gn/T/ipykernel_42836/2406960701.py:1: DtypeWarning: Columns (0,1,2,4) have mixed types. Specify dtype option on import or set low_memory=False.\n",
      "  diag_icds = pd.read_csv('diag_icds_transfer.csv')\n"
     ]
    },
    {
     "data": {
      "text/html": [
       "<div>\n",
       "<style scoped>\n",
       "    .dataframe tbody tr th:only-of-type {\n",
       "        vertical-align: middle;\n",
       "    }\n",
       "\n",
       "    .dataframe tbody tr th {\n",
       "        vertical-align: top;\n",
       "    }\n",
       "\n",
       "    .dataframe thead th {\n",
       "        text-align: right;\n",
       "    }\n",
       "</style>\n",
       "<table border=\"1\" class=\"dataframe\">\n",
       "  <thead>\n",
       "    <tr style=\"text-align: right;\">\n",
       "      <th></th>\n",
       "      <th>subject_id</th>\n",
       "      <th>hadm_id</th>\n",
       "      <th>seq_num</th>\n",
       "      <th>icd_code</th>\n",
       "      <th>icd_version</th>\n",
       "    </tr>\n",
       "  </thead>\n",
       "  <tbody>\n",
       "    <tr>\n",
       "      <th>0</th>\n",
       "      <td>10000032</td>\n",
       "      <td>22595853</td>\n",
       "      <td>1</td>\n",
       "      <td>5723</td>\n",
       "      <td>9</td>\n",
       "    </tr>\n",
       "    <tr>\n",
       "      <th>1</th>\n",
       "      <td>10000032</td>\n",
       "      <td>22595853</td>\n",
       "      <td>2</td>\n",
       "      <td>78959</td>\n",
       "      <td>9</td>\n",
       "    </tr>\n",
       "    <tr>\n",
       "      <th>2</th>\n",
       "      <td>10000032</td>\n",
       "      <td>22595853</td>\n",
       "      <td>3</td>\n",
       "      <td>5715</td>\n",
       "      <td>9</td>\n",
       "    </tr>\n",
       "    <tr>\n",
       "      <th>3</th>\n",
       "      <td>10000032</td>\n",
       "      <td>22595853</td>\n",
       "      <td>4</td>\n",
       "      <td>07070</td>\n",
       "      <td>9</td>\n",
       "    </tr>\n",
       "    <tr>\n",
       "      <th>4</th>\n",
       "      <td>10000032</td>\n",
       "      <td>22595853</td>\n",
       "      <td>5</td>\n",
       "      <td>496</td>\n",
       "      <td>9</td>\n",
       "    </tr>\n",
       "  </tbody>\n",
       "</table>\n",
       "</div>"
      ],
      "text/plain": [
       "0 subject_id   hadm_id seq_num icd_code icd_version\n",
       "0   10000032  22595853       1     5723           9\n",
       "1   10000032  22595853       2    78959           9\n",
       "2   10000032  22595853       3     5715           9\n",
       "3   10000032  22595853       4    07070           9\n",
       "4   10000032  22595853       5      496           9"
      ]
     },
     "execution_count": 53,
     "metadata": {},
     "output_type": "execute_result"
    }
   ],
   "source": [
    "diag_icds = pd.read_csv('diag_icds_transfer.csv')\n",
    "\n",
    "diag_icds.columns = diag_icds.iloc[0]\n",
    "diag_icds = diag_icds.iloc[1:].reset_index(drop=True)\n",
    "\n",
    "diag_icds.head()\n"
   ]
  },
  {
   "cell_type": "code",
   "execution_count": 54,
   "metadata": {},
   "outputs": [
    {
     "name": "stdout",
     "output_type": "stream",
     "text": [
      "<class 'pandas.core.frame.DataFrame'>\n",
      "RangeIndex: 4756326 entries, 0 to 4756325\n",
      "Data columns (total 5 columns):\n",
      " #   Column       Dtype \n",
      "---  ------       ----- \n",
      " 0   subject_id   object\n",
      " 1   hadm_id      object\n",
      " 2   seq_num      object\n",
      " 3   icd_code     object\n",
      " 4   icd_version  object\n",
      "dtypes: object(5)\n",
      "memory usage: 181.4+ MB\n"
     ]
    }
   ],
   "source": [
    "diag_icds.info()\n"
   ]
  },
  {
   "cell_type": "code",
   "execution_count": 55,
   "metadata": {},
   "outputs": [
    {
     "name": "stdout",
     "output_type": "stream",
     "text": [
      "<class 'pandas.core.frame.DataFrame'>\n",
      "RangeIndex: 4756326 entries, 0 to 4756325\n",
      "Data columns (total 5 columns):\n",
      " #   Column       Dtype \n",
      "---  ------       ----- \n",
      " 0   subject_id   int64 \n",
      " 1   hadm_id      int64 \n",
      " 2   seq_num      int64 \n",
      " 3   icd_code     object\n",
      " 4   icd_version  object\n",
      "dtypes: int64(3), object(2)\n",
      "memory usage: 181.4+ MB\n"
     ]
    }
   ],
   "source": [
    "# The code is stored as object, change the datatype to int64\n",
    "diag_icds['subject_id'] = diag_icds['subject_id'].astype('int64')\n",
    "diag_icds['hadm_id'] = diag_icds['hadm_id'].astype('int64')\n",
    "diag_icds['seq_num'] = diag_icds['seq_num'].astype('int64')\n",
    "diag_icds.info()\n"
   ]
  },
  {
   "cell_type": "code",
   "execution_count": 56,
   "metadata": {},
   "outputs": [
    {
     "data": {
      "text/html": [
       "<div>\n",
       "<style scoped>\n",
       "    .dataframe tbody tr th:only-of-type {\n",
       "        vertical-align: middle;\n",
       "    }\n",
       "\n",
       "    .dataframe tbody tr th {\n",
       "        vertical-align: top;\n",
       "    }\n",
       "\n",
       "    .dataframe thead th {\n",
       "        text-align: right;\n",
       "    }\n",
       "</style>\n",
       "<table border=\"1\" class=\"dataframe\">\n",
       "  <thead>\n",
       "    <tr style=\"text-align: right;\">\n",
       "      <th></th>\n",
       "      <th>subject_id</th>\n",
       "      <th>hadm_id</th>\n",
       "      <th>seq_num</th>\n",
       "      <th>icd_code</th>\n",
       "      <th>icd_version</th>\n",
       "      <th>recode</th>\n",
       "    </tr>\n",
       "  </thead>\n",
       "  <tbody>\n",
       "    <tr>\n",
       "      <th>0</th>\n",
       "      <td>10000032</td>\n",
       "      <td>22595853</td>\n",
       "      <td>1</td>\n",
       "      <td>5723</td>\n",
       "      <td>9</td>\n",
       "      <td>572</td>\n",
       "    </tr>\n",
       "    <tr>\n",
       "      <th>1</th>\n",
       "      <td>10000032</td>\n",
       "      <td>22595853</td>\n",
       "      <td>2</td>\n",
       "      <td>78959</td>\n",
       "      <td>9</td>\n",
       "      <td>789</td>\n",
       "    </tr>\n",
       "    <tr>\n",
       "      <th>2</th>\n",
       "      <td>10000032</td>\n",
       "      <td>22595853</td>\n",
       "      <td>3</td>\n",
       "      <td>5715</td>\n",
       "      <td>9</td>\n",
       "      <td>571</td>\n",
       "    </tr>\n",
       "    <tr>\n",
       "      <th>3</th>\n",
       "      <td>10000032</td>\n",
       "      <td>22595853</td>\n",
       "      <td>4</td>\n",
       "      <td>07070</td>\n",
       "      <td>9</td>\n",
       "      <td>70</td>\n",
       "    </tr>\n",
       "    <tr>\n",
       "      <th>4</th>\n",
       "      <td>10000032</td>\n",
       "      <td>22595853</td>\n",
       "      <td>5</td>\n",
       "      <td>496</td>\n",
       "      <td>9</td>\n",
       "      <td>496</td>\n",
       "    </tr>\n",
       "  </tbody>\n",
       "</table>\n",
       "</div>"
      ],
      "text/plain": [
       "0  subject_id   hadm_id  seq_num icd_code icd_version  recode\n",
       "0    10000032  22595853        1     5723           9     572\n",
       "1    10000032  22595853        2    78959           9     789\n",
       "2    10000032  22595853        3     5715           9     571\n",
       "3    10000032  22595853        4    07070           9      70\n",
       "4    10000032  22595853        5      496           9     496"
      ]
     },
     "execution_count": 56,
     "metadata": {},
     "output_type": "execute_result"
    }
   ],
   "source": [
    "# Filter out E and V codes from ICD9 codes since processing will be done on the numeric first 3 values\n",
    "diag_icds['recode'] = diag_icds['icd_code']\n",
    "diag_icds['recode'] = diag_icds['recode'][~diag_icds['recode'].str.contains(\n",
    "    \"[a-zA-Z]\").fillna(False)]\n",
    "diag_icds['recode'].fillna(value='999', inplace=True)\n",
    "\n",
    "# Take in consideration just the first 3 integers of the ICD9 code\n",
    "diag_icds['recode'] = diag_icds['recode'].str.slice(start=0, stop=3, step=1)\n",
    "diag_icds['recode'] = diag_icds['recode'].astype(int)\n",
    "diag_icds.head()\n"
   ]
  },
  {
   "cell_type": "code",
   "execution_count": 57,
   "metadata": {},
   "outputs": [
    {
     "data": {
      "text/html": [
       "<div>\n",
       "<style scoped>\n",
       "    .dataframe tbody tr th:only-of-type {\n",
       "        vertical-align: middle;\n",
       "    }\n",
       "\n",
       "    .dataframe tbody tr th {\n",
       "        vertical-align: top;\n",
       "    }\n",
       "\n",
       "    .dataframe thead th {\n",
       "        text-align: right;\n",
       "    }\n",
       "</style>\n",
       "<table border=\"1\" class=\"dataframe\">\n",
       "  <thead>\n",
       "    <tr style=\"text-align: right;\">\n",
       "      <th></th>\n",
       "      <th>subject_id</th>\n",
       "      <th>hadm_id</th>\n",
       "      <th>seq_num</th>\n",
       "      <th>icd_code</th>\n",
       "      <th>icd_version</th>\n",
       "      <th>recode</th>\n",
       "      <th>super_category</th>\n",
       "    </tr>\n",
       "  </thead>\n",
       "  <tbody>\n",
       "    <tr>\n",
       "      <th>0</th>\n",
       "      <td>10000032</td>\n",
       "      <td>22595853</td>\n",
       "      <td>1</td>\n",
       "      <td>5723</td>\n",
       "      <td>9</td>\n",
       "      <td>8</td>\n",
       "      <td>digestive</td>\n",
       "    </tr>\n",
       "    <tr>\n",
       "      <th>1</th>\n",
       "      <td>10000032</td>\n",
       "      <td>22595853</td>\n",
       "      <td>2</td>\n",
       "      <td>78959</td>\n",
       "      <td>9</td>\n",
       "      <td>15</td>\n",
       "      <td>misc</td>\n",
       "    </tr>\n",
       "    <tr>\n",
       "      <th>2</th>\n",
       "      <td>10000032</td>\n",
       "      <td>22595853</td>\n",
       "      <td>3</td>\n",
       "      <td>5715</td>\n",
       "      <td>9</td>\n",
       "      <td>8</td>\n",
       "      <td>digestive</td>\n",
       "    </tr>\n",
       "    <tr>\n",
       "      <th>3</th>\n",
       "      <td>10000032</td>\n",
       "      <td>22595853</td>\n",
       "      <td>4</td>\n",
       "      <td>07070</td>\n",
       "      <td>9</td>\n",
       "      <td>0</td>\n",
       "      <td>infectious</td>\n",
       "    </tr>\n",
       "    <tr>\n",
       "      <th>4</th>\n",
       "      <td>10000032</td>\n",
       "      <td>22595853</td>\n",
       "      <td>5</td>\n",
       "      <td>496</td>\n",
       "      <td>9</td>\n",
       "      <td>7</td>\n",
       "      <td>respiratory</td>\n",
       "    </tr>\n",
       "  </tbody>\n",
       "</table>\n",
       "</div>"
      ],
      "text/plain": [
       "0  subject_id   hadm_id  seq_num icd_code icd_version  recode super_category\n",
       "0    10000032  22595853        1     5723           9       8      digestive\n",
       "1    10000032  22595853        2    78959           9      15           misc\n",
       "2    10000032  22595853        3     5715           9       8      digestive\n",
       "3    10000032  22595853        4    07070           9       0     infectious\n",
       "4    10000032  22595853        5      496           9       7    respiratory"
      ]
     },
     "execution_count": 57,
     "metadata": {},
     "output_type": "execute_result"
    }
   ],
   "source": [
    "# ICD-9 Main Category ranges\n",
    "icd9_ranges = [(1, 140), (140, 240), (240, 280), (280, 290), (290, 320), (320, 390),\n",
    "               (390, 460), (460, 520), (520, 580), (580,\n",
    "                                                    630), (630, 680), (680, 710),\n",
    "               (710, 740), (740, 760), (760, 780), (780, 800), (800, 1000), (1000, 2000)]\n",
    "\n",
    "# Associated category names\n",
    "diag_dict = {0: 'infectious', 1: 'neoplasms', 2: 'endocrine', 3: 'blood',\n",
    "             4: 'mental', 5: 'nervous', 6: 'circulatory', 7: 'respiratory',\n",
    "             8: 'digestive', 9: 'genitourinary', 10: 'pregnancy', 11: 'skin',\n",
    "             12: 'muscular', 13: 'congenital', 14: 'prenatal', 15: 'misc',\n",
    "             16: 'injury', 17: 'misc'}\n",
    "\n",
    "# Re-code in terms of integer\n",
    "for num, cat_range in enumerate(icd9_ranges):\n",
    "    diag_icds['recode'] = np.where(diag_icds['recode'].between(\n",
    "        cat_range[0], cat_range[1]), num, diag_icds['recode'])\n",
    "\n",
    "# Convert integer to category name using diag_dict\n",
    "diag_icds['super_category'] = diag_icds['recode'].replace(diag_dict)\n",
    "diag_icds.head()\n"
   ]
  },
  {
   "cell_type": "code",
   "execution_count": 58,
   "metadata": {},
   "outputs": [
    {
     "data": {
      "text/html": [
       "<div>\n",
       "<style scoped>\n",
       "    .dataframe tbody tr th:only-of-type {\n",
       "        vertical-align: middle;\n",
       "    }\n",
       "\n",
       "    .dataframe tbody tr th {\n",
       "        vertical-align: top;\n",
       "    }\n",
       "\n",
       "    .dataframe thead th {\n",
       "        text-align: right;\n",
       "    }\n",
       "</style>\n",
       "<table border=\"1\" class=\"dataframe\">\n",
       "  <thead>\n",
       "    <tr style=\"text-align: right;\">\n",
       "      <th></th>\n",
       "      <th>hadm_id</th>\n",
       "      <th>super_category</th>\n",
       "    </tr>\n",
       "  </thead>\n",
       "  <tbody>\n",
       "    <tr>\n",
       "      <th>0</th>\n",
       "      <td>20000019</td>\n",
       "      <td>[infectious, genitourinary, congenital, genito...</td>\n",
       "    </tr>\n",
       "    <tr>\n",
       "      <th>1</th>\n",
       "      <td>20000024</td>\n",
       "      <td>[injury, injury, injury, injury, injury, injur...</td>\n",
       "    </tr>\n",
       "    <tr>\n",
       "      <th>2</th>\n",
       "      <td>20000034</td>\n",
       "      <td>[injury, injury, injury, injury, injury, injur...</td>\n",
       "    </tr>\n",
       "    <tr>\n",
       "      <th>3</th>\n",
       "      <td>20000041</td>\n",
       "      <td>[muscular, endocrine, injury, circulatory, end...</td>\n",
       "    </tr>\n",
       "    <tr>\n",
       "      <th>4</th>\n",
       "      <td>20000057</td>\n",
       "      <td>[muscular, muscular, injury, injury, injury, r...</td>\n",
       "    </tr>\n",
       "  </tbody>\n",
       "</table>\n",
       "</div>"
      ],
      "text/plain": [
       "    hadm_id                                     super_category\n",
       "0  20000019  [infectious, genitourinary, congenital, genito...\n",
       "1  20000024  [injury, injury, injury, injury, injury, injur...\n",
       "2  20000034  [injury, injury, injury, injury, injury, injur...\n",
       "3  20000041  [muscular, endocrine, injury, circulatory, end...\n",
       "4  20000057  [muscular, muscular, injury, injury, injury, r..."
      ]
     },
     "execution_count": 58,
     "metadata": {},
     "output_type": "execute_result"
    }
   ],
   "source": [
    "# Create list of diagnoses for each admission\n",
    "hadm_list = diag_icds.groupby(\n",
    "    'hadm_id')['super_category'].apply(list).reset_index()\n",
    "hadm_list.head()\n"
   ]
  },
  {
   "cell_type": "code",
   "execution_count": 59,
   "metadata": {},
   "outputs": [
    {
     "name": "stderr",
     "output_type": "stream",
     "text": [
      "/var/folders/ck/8r_z2td51y379bxk8krf4ss00000gn/T/ipykernel_42836/1190710123.py:2: FutureWarning: Using the level keyword in DataFrame and Series aggregations is deprecated and will be removed in a future version. Use groupby instead. df.sum(level=1) should use df.groupby(level=1).sum().\n",
      "  hadm_item = pd.get_dummies(\n"
     ]
    },
    {
     "data": {
      "text/html": [
       "<div>\n",
       "<style scoped>\n",
       "    .dataframe tbody tr th:only-of-type {\n",
       "        vertical-align: middle;\n",
       "    }\n",
       "\n",
       "    .dataframe tbody tr th {\n",
       "        vertical-align: top;\n",
       "    }\n",
       "\n",
       "    .dataframe thead th {\n",
       "        text-align: right;\n",
       "    }\n",
       "</style>\n",
       "<table border=\"1\" class=\"dataframe\">\n",
       "  <thead>\n",
       "    <tr style=\"text-align: right;\">\n",
       "      <th></th>\n",
       "      <th>blood</th>\n",
       "      <th>circulatory</th>\n",
       "      <th>congenital</th>\n",
       "      <th>digestive</th>\n",
       "      <th>endocrine</th>\n",
       "      <th>genitourinary</th>\n",
       "      <th>infectious</th>\n",
       "      <th>injury</th>\n",
       "      <th>mental</th>\n",
       "      <th>misc</th>\n",
       "      <th>muscular</th>\n",
       "      <th>neoplasms</th>\n",
       "      <th>nervous</th>\n",
       "      <th>pregnancy</th>\n",
       "      <th>prenatal</th>\n",
       "      <th>respiratory</th>\n",
       "      <th>skin</th>\n",
       "    </tr>\n",
       "  </thead>\n",
       "  <tbody>\n",
       "    <tr>\n",
       "      <th>0</th>\n",
       "      <td>1</td>\n",
       "      <td>1</td>\n",
       "      <td>1</td>\n",
       "      <td>0</td>\n",
       "      <td>3</td>\n",
       "      <td>2</td>\n",
       "      <td>1</td>\n",
       "      <td>2</td>\n",
       "      <td>0</td>\n",
       "      <td>0</td>\n",
       "      <td>0</td>\n",
       "      <td>0</td>\n",
       "      <td>0</td>\n",
       "      <td>0</td>\n",
       "      <td>0</td>\n",
       "      <td>1</td>\n",
       "      <td>0</td>\n",
       "    </tr>\n",
       "    <tr>\n",
       "      <th>1</th>\n",
       "      <td>0</td>\n",
       "      <td>0</td>\n",
       "      <td>0</td>\n",
       "      <td>0</td>\n",
       "      <td>0</td>\n",
       "      <td>0</td>\n",
       "      <td>0</td>\n",
       "      <td>10</td>\n",
       "      <td>0</td>\n",
       "      <td>0</td>\n",
       "      <td>0</td>\n",
       "      <td>0</td>\n",
       "      <td>0</td>\n",
       "      <td>0</td>\n",
       "      <td>0</td>\n",
       "      <td>0</td>\n",
       "      <td>0</td>\n",
       "    </tr>\n",
       "    <tr>\n",
       "      <th>2</th>\n",
       "      <td>0</td>\n",
       "      <td>0</td>\n",
       "      <td>0</td>\n",
       "      <td>0</td>\n",
       "      <td>0</td>\n",
       "      <td>0</td>\n",
       "      <td>0</td>\n",
       "      <td>28</td>\n",
       "      <td>0</td>\n",
       "      <td>0</td>\n",
       "      <td>0</td>\n",
       "      <td>0</td>\n",
       "      <td>0</td>\n",
       "      <td>0</td>\n",
       "      <td>0</td>\n",
       "      <td>0</td>\n",
       "      <td>0</td>\n",
       "    </tr>\n",
       "    <tr>\n",
       "      <th>3</th>\n",
       "      <td>0</td>\n",
       "      <td>1</td>\n",
       "      <td>0</td>\n",
       "      <td>1</td>\n",
       "      <td>3</td>\n",
       "      <td>0</td>\n",
       "      <td>0</td>\n",
       "      <td>4</td>\n",
       "      <td>0</td>\n",
       "      <td>0</td>\n",
       "      <td>1</td>\n",
       "      <td>0</td>\n",
       "      <td>0</td>\n",
       "      <td>0</td>\n",
       "      <td>0</td>\n",
       "      <td>0</td>\n",
       "      <td>0</td>\n",
       "    </tr>\n",
       "    <tr>\n",
       "      <th>4</th>\n",
       "      <td>1</td>\n",
       "      <td>1</td>\n",
       "      <td>0</td>\n",
       "      <td>0</td>\n",
       "      <td>1</td>\n",
       "      <td>0</td>\n",
       "      <td>0</td>\n",
       "      <td>7</td>\n",
       "      <td>0</td>\n",
       "      <td>1</td>\n",
       "      <td>5</td>\n",
       "      <td>0</td>\n",
       "      <td>4</td>\n",
       "      <td>0</td>\n",
       "      <td>1</td>\n",
       "      <td>2</td>\n",
       "      <td>0</td>\n",
       "    </tr>\n",
       "  </tbody>\n",
       "</table>\n",
       "</div>"
      ],
      "text/plain": [
       "   blood  circulatory  congenital  digestive  endocrine  genitourinary  \\\n",
       "0      1            1           1          0          3              2   \n",
       "1      0            0           0          0          0              0   \n",
       "2      0            0           0          0          0              0   \n",
       "3      0            1           0          1          3              0   \n",
       "4      1            1           0          0          1              0   \n",
       "\n",
       "   infectious  injury  mental  misc  muscular  neoplasms  nervous  pregnancy  \\\n",
       "0           1       2       0     0         0          0        0          0   \n",
       "1           0      10       0     0         0          0        0          0   \n",
       "2           0      28       0     0         0          0        0          0   \n",
       "3           0       4       0     0         1          0        0          0   \n",
       "4           0       7       0     1         5          0        4          0   \n",
       "\n",
       "   prenatal  respiratory  skin  \n",
       "0         0            1     0  \n",
       "1         0            0     0  \n",
       "2         0            0     0  \n",
       "3         0            0     0  \n",
       "4         1            2     0  "
      ]
     },
     "execution_count": 59,
     "metadata": {},
     "output_type": "execute_result"
    }
   ],
   "source": [
    "# Convert diagnoses list into hospital admission-item matrix\n",
    "hadm_item = pd.get_dummies(\n",
    "    hadm_list['super_category'].apply(pd.Series).stack()).sum(level=0)\n",
    "hadm_item.head()\n"
   ]
  },
  {
   "cell_type": "code",
   "execution_count": 60,
   "metadata": {},
   "outputs": [],
   "source": [
    "# Join back with HADM_ID\n",
    "hadm_item = hadm_item.join(hadm_list['hadm_id'], how=\"outer\")\n"
   ]
  },
  {
   "cell_type": "code",
   "execution_count": 62,
   "metadata": {},
   "outputs": [],
   "source": [
    "#store as csv file\n",
    "hadm_item.to_csv('hadm_item.csv', index=False)\n"
   ]
  },
  {
   "cell_type": "code",
   "execution_count": 63,
   "metadata": {},
   "outputs": [],
   "source": [
    "#merge with diagnoses\n",
    "diag_df = pd.merge(diagnoses, hadm_item, on='hadm_id', how='inner')\n"
   ]
  },
  {
   "cell_type": "code",
   "execution_count": 64,
   "metadata": {},
   "outputs": [
    {
     "name": "stdout",
     "output_type": "stream",
     "text": [
      "<class 'pandas.core.frame.DataFrame'>\n",
      "Int64Index: 4756326 entries, 0 to 4756325\n",
      "Data columns (total 22 columns):\n",
      " #   Column           Dtype \n",
      "---  ------           ----- \n",
      " 0   subject_id       int64 \n",
      " 1   hadm_id          int64 \n",
      " 2   icd_code         object\n",
      " 3   GD               int64 \n",
      " 4   diabete_history  int64 \n",
      " 5   blood            uint8 \n",
      " 6   circulatory      uint8 \n",
      " 7   congenital       uint8 \n",
      " 8   digestive        uint8 \n",
      " 9   endocrine        uint8 \n",
      " 10  genitourinary    uint8 \n",
      " 11  infectious       uint8 \n",
      " 12  injury           uint8 \n",
      " 13  mental           uint8 \n",
      " 14  misc             uint8 \n",
      " 15  muscular         uint8 \n",
      " 16  neoplasms        uint8 \n",
      " 17  nervous          uint8 \n",
      " 18  pregnancy        uint8 \n",
      " 19  prenatal         uint8 \n",
      " 20  respiratory      uint8 \n",
      " 21  skin             uint8 \n",
      "dtypes: int64(4), object(1), uint8(17)\n",
      "memory usage: 294.8+ MB\n"
     ]
    }
   ],
   "source": [
    "diag_df.info()"
   ]
  },
  {
   "cell_type": "code",
   "execution_count": 65,
   "metadata": {},
   "outputs": [
    {
     "data": {
      "text/html": [
       "<div>\n",
       "<style scoped>\n",
       "    .dataframe tbody tr th:only-of-type {\n",
       "        vertical-align: middle;\n",
       "    }\n",
       "\n",
       "    .dataframe tbody tr th {\n",
       "        vertical-align: top;\n",
       "    }\n",
       "\n",
       "    .dataframe thead th {\n",
       "        text-align: right;\n",
       "    }\n",
       "</style>\n",
       "<table border=\"1\" class=\"dataframe\">\n",
       "  <thead>\n",
       "    <tr style=\"text-align: right;\">\n",
       "      <th></th>\n",
       "      <th>subject_id</th>\n",
       "      <th>hadm_id</th>\n",
       "      <th>icd_code</th>\n",
       "      <th>GD</th>\n",
       "      <th>diabete_history</th>\n",
       "      <th>blood</th>\n",
       "      <th>circulatory</th>\n",
       "      <th>congenital</th>\n",
       "      <th>digestive</th>\n",
       "      <th>endocrine</th>\n",
       "      <th>...</th>\n",
       "      <th>injury</th>\n",
       "      <th>mental</th>\n",
       "      <th>misc</th>\n",
       "      <th>muscular</th>\n",
       "      <th>neoplasms</th>\n",
       "      <th>nervous</th>\n",
       "      <th>pregnancy</th>\n",
       "      <th>prenatal</th>\n",
       "      <th>respiratory</th>\n",
       "      <th>skin</th>\n",
       "    </tr>\n",
       "  </thead>\n",
       "  <tbody>\n",
       "    <tr>\n",
       "      <th>0</th>\n",
       "      <td>10000032</td>\n",
       "      <td>22595853</td>\n",
       "      <td>5723</td>\n",
       "      <td>0</td>\n",
       "      <td>0</td>\n",
       "      <td>0</td>\n",
       "      <td>0</td>\n",
       "      <td>0</td>\n",
       "      <td>2</td>\n",
       "      <td>0</td>\n",
       "      <td>...</td>\n",
       "      <td>1</td>\n",
       "      <td>2</td>\n",
       "      <td>1</td>\n",
       "      <td>0</td>\n",
       "      <td>0</td>\n",
       "      <td>0</td>\n",
       "      <td>0</td>\n",
       "      <td>0</td>\n",
       "      <td>1</td>\n",
       "      <td>0</td>\n",
       "    </tr>\n",
       "    <tr>\n",
       "      <th>1</th>\n",
       "      <td>10000032</td>\n",
       "      <td>22595853</td>\n",
       "      <td>78959</td>\n",
       "      <td>0</td>\n",
       "      <td>0</td>\n",
       "      <td>0</td>\n",
       "      <td>0</td>\n",
       "      <td>0</td>\n",
       "      <td>2</td>\n",
       "      <td>0</td>\n",
       "      <td>...</td>\n",
       "      <td>1</td>\n",
       "      <td>2</td>\n",
       "      <td>1</td>\n",
       "      <td>0</td>\n",
       "      <td>0</td>\n",
       "      <td>0</td>\n",
       "      <td>0</td>\n",
       "      <td>0</td>\n",
       "      <td>1</td>\n",
       "      <td>0</td>\n",
       "    </tr>\n",
       "    <tr>\n",
       "      <th>2</th>\n",
       "      <td>10000032</td>\n",
       "      <td>22595853</td>\n",
       "      <td>5715</td>\n",
       "      <td>0</td>\n",
       "      <td>0</td>\n",
       "      <td>0</td>\n",
       "      <td>0</td>\n",
       "      <td>0</td>\n",
       "      <td>2</td>\n",
       "      <td>0</td>\n",
       "      <td>...</td>\n",
       "      <td>1</td>\n",
       "      <td>2</td>\n",
       "      <td>1</td>\n",
       "      <td>0</td>\n",
       "      <td>0</td>\n",
       "      <td>0</td>\n",
       "      <td>0</td>\n",
       "      <td>0</td>\n",
       "      <td>1</td>\n",
       "      <td>0</td>\n",
       "    </tr>\n",
       "    <tr>\n",
       "      <th>3</th>\n",
       "      <td>10000032</td>\n",
       "      <td>22595853</td>\n",
       "      <td>07070</td>\n",
       "      <td>0</td>\n",
       "      <td>0</td>\n",
       "      <td>0</td>\n",
       "      <td>0</td>\n",
       "      <td>0</td>\n",
       "      <td>2</td>\n",
       "      <td>0</td>\n",
       "      <td>...</td>\n",
       "      <td>1</td>\n",
       "      <td>2</td>\n",
       "      <td>1</td>\n",
       "      <td>0</td>\n",
       "      <td>0</td>\n",
       "      <td>0</td>\n",
       "      <td>0</td>\n",
       "      <td>0</td>\n",
       "      <td>1</td>\n",
       "      <td>0</td>\n",
       "    </tr>\n",
       "    <tr>\n",
       "      <th>4</th>\n",
       "      <td>10000032</td>\n",
       "      <td>22595853</td>\n",
       "      <td>496</td>\n",
       "      <td>0</td>\n",
       "      <td>0</td>\n",
       "      <td>0</td>\n",
       "      <td>0</td>\n",
       "      <td>0</td>\n",
       "      <td>2</td>\n",
       "      <td>0</td>\n",
       "      <td>...</td>\n",
       "      <td>1</td>\n",
       "      <td>2</td>\n",
       "      <td>1</td>\n",
       "      <td>0</td>\n",
       "      <td>0</td>\n",
       "      <td>0</td>\n",
       "      <td>0</td>\n",
       "      <td>0</td>\n",
       "      <td>1</td>\n",
       "      <td>0</td>\n",
       "    </tr>\n",
       "  </tbody>\n",
       "</table>\n",
       "<p>5 rows × 22 columns</p>\n",
       "</div>"
      ],
      "text/plain": [
       "   subject_id   hadm_id icd_code  GD  diabete_history  blood  circulatory  \\\n",
       "0    10000032  22595853     5723   0                0      0            0   \n",
       "1    10000032  22595853    78959   0                0      0            0   \n",
       "2    10000032  22595853     5715   0                0      0            0   \n",
       "3    10000032  22595853    07070   0                0      0            0   \n",
       "4    10000032  22595853      496   0                0      0            0   \n",
       "\n",
       "   congenital  digestive  endocrine  ...  injury  mental  misc  muscular  \\\n",
       "0           0          2          0  ...       1       2     1         0   \n",
       "1           0          2          0  ...       1       2     1         0   \n",
       "2           0          2          0  ...       1       2     1         0   \n",
       "3           0          2          0  ...       1       2     1         0   \n",
       "4           0          2          0  ...       1       2     1         0   \n",
       "\n",
       "   neoplasms  nervous  pregnancy  prenatal  respiratory  skin  \n",
       "0          0        0          0         0            1     0  \n",
       "1          0        0          0         0            1     0  \n",
       "2          0        0          0         0            1     0  \n",
       "3          0        0          0         0            1     0  \n",
       "4          0        0          0         0            1     0  \n",
       "\n",
       "[5 rows x 22 columns]"
      ]
     },
     "execution_count": 65,
     "metadata": {},
     "output_type": "execute_result"
    }
   ],
   "source": [
    "diag_df.head()\n"
   ]
  },
  {
   "cell_type": "markdown",
   "metadata": {},
   "source": []
  },
  {
   "cell_type": "code",
   "execution_count": 70,
   "metadata": {},
   "outputs": [
    {
     "data": {
      "text/html": [
       "<div>\n",
       "<style scoped>\n",
       "    .dataframe tbody tr th:only-of-type {\n",
       "        vertical-align: middle;\n",
       "    }\n",
       "\n",
       "    .dataframe tbody tr th {\n",
       "        vertical-align: top;\n",
       "    }\n",
       "\n",
       "    .dataframe thead th {\n",
       "        text-align: right;\n",
       "    }\n",
       "</style>\n",
       "<table border=\"1\" class=\"dataframe\">\n",
       "  <thead>\n",
       "    <tr style=\"text-align: right;\">\n",
       "      <th></th>\n",
       "      <th>subject_id</th>\n",
       "      <th>hadm_id</th>\n",
       "      <th>race</th>\n",
       "      <th>anchor_age</th>\n",
       "      <th>GD</th>\n",
       "      <th>diabete_history</th>\n",
       "      <th>blood</th>\n",
       "      <th>circulatory</th>\n",
       "      <th>congenital</th>\n",
       "      <th>digestive</th>\n",
       "      <th>...</th>\n",
       "      <th>injury</th>\n",
       "      <th>mental</th>\n",
       "      <th>misc</th>\n",
       "      <th>muscular</th>\n",
       "      <th>neoplasms</th>\n",
       "      <th>nervous</th>\n",
       "      <th>pregnancy</th>\n",
       "      <th>prenatal</th>\n",
       "      <th>respiratory</th>\n",
       "      <th>skin</th>\n",
       "    </tr>\n",
       "  </thead>\n",
       "  <tbody>\n",
       "    <tr>\n",
       "      <th>0</th>\n",
       "      <td>10000032</td>\n",
       "      <td>22595853</td>\n",
       "      <td>WHITE</td>\n",
       "      <td>SENIOR</td>\n",
       "      <td>0</td>\n",
       "      <td>0</td>\n",
       "      <td>0</td>\n",
       "      <td>0</td>\n",
       "      <td>0</td>\n",
       "      <td>2</td>\n",
       "      <td>...</td>\n",
       "      <td>1</td>\n",
       "      <td>2</td>\n",
       "      <td>1</td>\n",
       "      <td>0</td>\n",
       "      <td>0</td>\n",
       "      <td>0</td>\n",
       "      <td>0</td>\n",
       "      <td>0</td>\n",
       "      <td>1</td>\n",
       "      <td>0</td>\n",
       "    </tr>\n",
       "    <tr>\n",
       "      <th>1</th>\n",
       "      <td>10000032</td>\n",
       "      <td>22595853</td>\n",
       "      <td>WHITE</td>\n",
       "      <td>SENIOR</td>\n",
       "      <td>0</td>\n",
       "      <td>0</td>\n",
       "      <td>0</td>\n",
       "      <td>0</td>\n",
       "      <td>0</td>\n",
       "      <td>2</td>\n",
       "      <td>...</td>\n",
       "      <td>1</td>\n",
       "      <td>2</td>\n",
       "      <td>1</td>\n",
       "      <td>0</td>\n",
       "      <td>0</td>\n",
       "      <td>0</td>\n",
       "      <td>0</td>\n",
       "      <td>0</td>\n",
       "      <td>1</td>\n",
       "      <td>0</td>\n",
       "    </tr>\n",
       "    <tr>\n",
       "      <th>2</th>\n",
       "      <td>10000032</td>\n",
       "      <td>22595853</td>\n",
       "      <td>WHITE</td>\n",
       "      <td>SENIOR</td>\n",
       "      <td>0</td>\n",
       "      <td>0</td>\n",
       "      <td>0</td>\n",
       "      <td>0</td>\n",
       "      <td>0</td>\n",
       "      <td>2</td>\n",
       "      <td>...</td>\n",
       "      <td>1</td>\n",
       "      <td>2</td>\n",
       "      <td>1</td>\n",
       "      <td>0</td>\n",
       "      <td>0</td>\n",
       "      <td>0</td>\n",
       "      <td>0</td>\n",
       "      <td>0</td>\n",
       "      <td>1</td>\n",
       "      <td>0</td>\n",
       "    </tr>\n",
       "    <tr>\n",
       "      <th>3</th>\n",
       "      <td>10000032</td>\n",
       "      <td>22595853</td>\n",
       "      <td>WHITE</td>\n",
       "      <td>SENIOR</td>\n",
       "      <td>0</td>\n",
       "      <td>0</td>\n",
       "      <td>0</td>\n",
       "      <td>0</td>\n",
       "      <td>0</td>\n",
       "      <td>2</td>\n",
       "      <td>...</td>\n",
       "      <td>1</td>\n",
       "      <td>2</td>\n",
       "      <td>1</td>\n",
       "      <td>0</td>\n",
       "      <td>0</td>\n",
       "      <td>0</td>\n",
       "      <td>0</td>\n",
       "      <td>0</td>\n",
       "      <td>1</td>\n",
       "      <td>0</td>\n",
       "    </tr>\n",
       "    <tr>\n",
       "      <th>4</th>\n",
       "      <td>10000032</td>\n",
       "      <td>22595853</td>\n",
       "      <td>WHITE</td>\n",
       "      <td>SENIOR</td>\n",
       "      <td>0</td>\n",
       "      <td>0</td>\n",
       "      <td>0</td>\n",
       "      <td>0</td>\n",
       "      <td>0</td>\n",
       "      <td>2</td>\n",
       "      <td>...</td>\n",
       "      <td>1</td>\n",
       "      <td>2</td>\n",
       "      <td>1</td>\n",
       "      <td>0</td>\n",
       "      <td>0</td>\n",
       "      <td>0</td>\n",
       "      <td>0</td>\n",
       "      <td>0</td>\n",
       "      <td>1</td>\n",
       "      <td>0</td>\n",
       "    </tr>\n",
       "  </tbody>\n",
       "</table>\n",
       "<p>5 rows × 23 columns</p>\n",
       "</div>"
      ],
      "text/plain": [
       "   subject_id   hadm_id   race anchor_age  GD  diabete_history  blood  \\\n",
       "0    10000032  22595853  WHITE     SENIOR   0                0      0   \n",
       "1    10000032  22595853  WHITE     SENIOR   0                0      0   \n",
       "2    10000032  22595853  WHITE     SENIOR   0                0      0   \n",
       "3    10000032  22595853  WHITE     SENIOR   0                0      0   \n",
       "4    10000032  22595853  WHITE     SENIOR   0                0      0   \n",
       "\n",
       "   circulatory  congenital  digestive  ...  injury  mental  misc  muscular  \\\n",
       "0            0           0          2  ...       1       2     1         0   \n",
       "1            0           0          2  ...       1       2     1         0   \n",
       "2            0           0          2  ...       1       2     1         0   \n",
       "3            0           0          2  ...       1       2     1         0   \n",
       "4            0           0          2  ...       1       2     1         0   \n",
       "\n",
       "   neoplasms  nervous  pregnancy  prenatal  respiratory  skin  \n",
       "0          0        0          0         0            1     0  \n",
       "1          0        0          0         0            1     0  \n",
       "2          0        0          0         0            1     0  \n",
       "3          0        0          0         0            1     0  \n",
       "4          0        0          0         0            1     0  \n",
       "\n",
       "[5 rows x 23 columns]"
      ]
     },
     "execution_count": 70,
     "metadata": {},
     "output_type": "execute_result"
    }
   ],
   "source": [
    "# merge icds with patients and admisssions(according to the description, subject id is the identification of patients, while hadm id is the event number, here use the subject id)\n",
    "admits_patients_diag = pd.merge(admits_patients, diag_df, on='hadm_id', how='inner')\n",
    "admits_patients_diag = admits_patients_diag.drop(columns=['subject_id_y', 'icd_code'])\n",
    "admits_patients_diag = admits_patients_diag.rename(\n",
    "    columns={'subject_id_x': 'subject_id'})\n",
    "\n",
    "\n",
    "admits_patients_diag.head()\n"
   ]
  },
  {
   "cell_type": "code",
   "execution_count": 71,
   "metadata": {},
   "outputs": [
    {
     "name": "stdout",
     "output_type": "stream",
     "text": [
      "<class 'pandas.core.frame.DataFrame'>\n",
      "Int64Index: 1320142 entries, 0 to 1320141\n",
      "Data columns (total 23 columns):\n",
      " #   Column           Non-Null Count    Dtype \n",
      "---  ------           --------------    ----- \n",
      " 0   subject_id       1320142 non-null  int64 \n",
      " 1   hadm_id          1320142 non-null  int64 \n",
      " 2   race             1320142 non-null  object\n",
      " 3   anchor_age       1320142 non-null  object\n",
      " 4   GD               1320142 non-null  int64 \n",
      " 5   diabete_history  1320142 non-null  int64 \n",
      " 6   blood            1320142 non-null  uint8 \n",
      " 7   circulatory      1320142 non-null  uint8 \n",
      " 8   congenital       1320142 non-null  uint8 \n",
      " 9   digestive        1320142 non-null  uint8 \n",
      " 10  endocrine        1320142 non-null  uint8 \n",
      " 11  genitourinary    1320142 non-null  uint8 \n",
      " 12  infectious       1320142 non-null  uint8 \n",
      " 13  injury           1320142 non-null  uint8 \n",
      " 14  mental           1320142 non-null  uint8 \n",
      " 15  misc             1320142 non-null  uint8 \n",
      " 16  muscular         1320142 non-null  uint8 \n",
      " 17  neoplasms        1320142 non-null  uint8 \n",
      " 18  nervous          1320142 non-null  uint8 \n",
      " 19  pregnancy        1320142 non-null  uint8 \n",
      " 20  prenatal         1320142 non-null  uint8 \n",
      " 21  respiratory      1320142 non-null  uint8 \n",
      " 22  skin             1320142 non-null  uint8 \n",
      "dtypes: int64(4), object(2), uint8(17)\n",
      "memory usage: 91.9+ MB\n"
     ]
    }
   ],
   "source": [
    "admits_patients_diag.info()"
   ]
  },
  {
   "cell_type": "code",
   "execution_count": 72,
   "metadata": {},
   "outputs": [
    {
     "name": "stdout",
     "output_type": "stream",
     "text": [
      "Number of unique subjects: 62653\n"
     ]
    }
   ],
   "source": [
    "count_subjects = admits_patients_diag['subject_id'].nunique()\n",
    "print(f\"Number of unique subjects: {count_subjects}\")\n"
   ]
  },
  {
   "attachments": {},
   "cell_type": "markdown",
   "metadata": {},
   "source": [
    "Continue with omr"
   ]
  },
  {
   "cell_type": "code",
   "execution_count": 73,
   "metadata": {},
   "outputs": [
    {
     "data": {
      "text/html": [
       "<div>\n",
       "<style scoped>\n",
       "    .dataframe tbody tr th:only-of-type {\n",
       "        vertical-align: middle;\n",
       "    }\n",
       "\n",
       "    .dataframe tbody tr th {\n",
       "        vertical-align: top;\n",
       "    }\n",
       "\n",
       "    .dataframe thead th {\n",
       "        text-align: right;\n",
       "    }\n",
       "</style>\n",
       "<table border=\"1\" class=\"dataframe\">\n",
       "  <thead>\n",
       "    <tr style=\"text-align: right;\">\n",
       "      <th></th>\n",
       "      <th>subject_id</th>\n",
       "      <th>chartdate</th>\n",
       "      <th>seq_num</th>\n",
       "      <th>result_name</th>\n",
       "      <th>result_value</th>\n",
       "    </tr>\n",
       "  </thead>\n",
       "  <tbody>\n",
       "    <tr>\n",
       "      <th>0</th>\n",
       "      <td>10000032</td>\n",
       "      <td>2180-04-27</td>\n",
       "      <td>1</td>\n",
       "      <td>Blood Pressure</td>\n",
       "      <td>110/65</td>\n",
       "    </tr>\n",
       "    <tr>\n",
       "      <th>1</th>\n",
       "      <td>10000032</td>\n",
       "      <td>2180-04-27</td>\n",
       "      <td>1</td>\n",
       "      <td>Weight (Lbs)</td>\n",
       "      <td>94</td>\n",
       "    </tr>\n",
       "    <tr>\n",
       "      <th>2</th>\n",
       "      <td>10000032</td>\n",
       "      <td>2180-05-07</td>\n",
       "      <td>1</td>\n",
       "      <td>BMI (kg/m2)</td>\n",
       "      <td>18.0</td>\n",
       "    </tr>\n",
       "    <tr>\n",
       "      <th>3</th>\n",
       "      <td>10000032</td>\n",
       "      <td>2180-05-07</td>\n",
       "      <td>1</td>\n",
       "      <td>Height (Inches)</td>\n",
       "      <td>60</td>\n",
       "    </tr>\n",
       "    <tr>\n",
       "      <th>4</th>\n",
       "      <td>10000032</td>\n",
       "      <td>2180-05-07</td>\n",
       "      <td>1</td>\n",
       "      <td>Weight (Lbs)</td>\n",
       "      <td>92.15</td>\n",
       "    </tr>\n",
       "  </tbody>\n",
       "</table>\n",
       "</div>"
      ],
      "text/plain": [
       "   subject_id   chartdate  seq_num      result_name result_value\n",
       "0    10000032  2180-04-27        1   Blood Pressure       110/65\n",
       "1    10000032  2180-04-27        1     Weight (Lbs)           94\n",
       "2    10000032  2180-05-07        1      BMI (kg/m2)         18.0\n",
       "3    10000032  2180-05-07        1  Height (Inches)           60\n",
       "4    10000032  2180-05-07        1     Weight (Lbs)        92.15"
      ]
     },
     "execution_count": 73,
     "metadata": {},
     "output_type": "execute_result"
    }
   ],
   "source": [
    "omr = pd.read_csv(mimic_path + 'hosp/omr.csv.gz', compression='gzip')\n",
    "omr.head()\n",
    "\n"
   ]
  },
  {
   "cell_type": "code",
   "execution_count": 74,
   "metadata": {},
   "outputs": [
    {
     "name": "stdout",
     "output_type": "stream",
     "text": [
      "<class 'pandas.core.frame.DataFrame'>\n",
      "RangeIndex: 6439169 entries, 0 to 6439168\n",
      "Data columns (total 5 columns):\n",
      " #   Column        Dtype \n",
      "---  ------        ----- \n",
      " 0   subject_id    int64 \n",
      " 1   chartdate     object\n",
      " 2   seq_num       int64 \n",
      " 3   result_name   object\n",
      " 4   result_value  object\n",
      "dtypes: int64(2), object(3)\n",
      "memory usage: 245.6+ MB\n"
     ]
    }
   ],
   "source": [
    "omr.info()\n"
   ]
  },
  {
   "cell_type": "code",
   "execution_count": 75,
   "metadata": {},
   "outputs": [
    {
     "data": {
      "text/plain": [
       "Blood Pressure                      2169549\n",
       "Weight (Lbs)                        1889542\n",
       "BMI (kg/m2)                         1662112\n",
       "Height (Inches)                      706906\n",
       "Blood Pressure Sitting                 3400\n",
       "Blood Pressure Lying                   2764\n",
       "Blood Pressure Standing (1 min)        2560\n",
       "Blood Pressure Standing (3 mins)        626\n",
       "BMI                                     554\n",
       "Blood Pressure Standing                 523\n",
       "Weight                                  354\n",
       "eGFR                                    240\n",
       "Height                                   39\n",
       "Name: result_name, dtype: int64"
      ]
     },
     "execution_count": 75,
     "metadata": {},
     "output_type": "execute_result"
    }
   ],
   "source": [
    "omr.result_name.value_counts()\n"
   ]
  },
  {
   "cell_type": "code",
   "execution_count": 76,
   "metadata": {},
   "outputs": [
    {
     "data": {
      "text/plain": [
       "64        44170\n",
       "66        41355\n",
       "65        41325\n",
       "63        39441\n",
       "67        37919\n",
       "          ...  \n",
       "223.20        1\n",
       "432.9         1\n",
       "113/03        1\n",
       "228.90        1\n",
       "66.53         1\n",
       "Name: result_value, Length: 24846, dtype: int64"
      ]
     },
     "execution_count": 76,
     "metadata": {},
     "output_type": "execute_result"
    }
   ],
   "source": [
    "omr.result_value.value_counts()\n"
   ]
  },
  {
   "cell_type": "code",
   "execution_count": 79,
   "metadata": {},
   "outputs": [],
   "source": [
    "# I need blood pressure and BMI here.\n",
    "# filter for desired result names\n",
    "# Extract blood pressure and BMI results\n",
    "bp_results = omr[omr['result_name'] == 'Blood Pressure']\n",
    "bmi_results = omr[omr['result_name'] == 'BMI (kg/m2)']\n",
    "\n",
    "# Pivot results to wide format\n",
    "bp_results = bp_results.pivot_table(\n",
    "    values='result_value', index='subject_id', columns='result_name', aggfunc='first')\n",
    "bmi_results = bmi_results.pivot_table(\n",
    "    values='result_value', index='subject_id', columns='result_name', aggfunc='first')\n",
    "\n",
    "# Merge results into one dataframe\n",
    "bp_bmi_results = pd.concat([bp_results, bmi_results], axis=1)\n",
    "\n",
    "# drop NaN values\n",
    "bp_bmi_results.dropna(inplace=True)\n",
    "\n",
    "# Split blood pressure column into systolic and diastolic pressure columns\n",
    "bp_bmi_results[['Systolic_BP', 'Diastolic_BP']\n",
    "               ] = bp_bmi_results['Blood Pressure'].str.split('/', expand=True)\n",
    "\n",
    "# Convert systolic and diastolic pressure columns to numeric\n",
    "bp_bmi_results['Systolic_BP'] = pd.to_numeric(bp_bmi_results['Systolic_BP'])\n",
    "bp_bmi_results['Diastolic_BP'] = pd.to_numeric(bp_bmi_results['Diastolic_BP'])\n",
    "\n",
    "bp_bmi_results = bp_bmi_results.rename(columns={'BMI (kg/m2)': 'BMI'})\n",
    "\n",
    "\n",
    "# Convert BMI column to numeric\n",
    "bp_bmi_results['BMI'] = pd.to_numeric(bp_bmi_results['BMI'])\n",
    "\n",
    "# Add subject_id as a column\n",
    "bp_bmi_results = bp_bmi_results.reset_index()\n",
    "\n",
    "\n",
    "\n"
   ]
  },
  {
   "cell_type": "code",
   "execution_count": 81,
   "metadata": {},
   "outputs": [
    {
     "data": {
      "text/html": [
       "<div>\n",
       "<style scoped>\n",
       "    .dataframe tbody tr th:only-of-type {\n",
       "        vertical-align: middle;\n",
       "    }\n",
       "\n",
       "    .dataframe tbody tr th {\n",
       "        vertical-align: top;\n",
       "    }\n",
       "\n",
       "    .dataframe thead th {\n",
       "        text-align: right;\n",
       "    }\n",
       "</style>\n",
       "<table border=\"1\" class=\"dataframe\">\n",
       "  <thead>\n",
       "    <tr style=\"text-align: right;\">\n",
       "      <th>result_name</th>\n",
       "      <th>subject_id</th>\n",
       "      <th>BMI</th>\n",
       "      <th>Systolic_BP</th>\n",
       "      <th>Diastolic_BP</th>\n",
       "    </tr>\n",
       "  </thead>\n",
       "  <tbody>\n",
       "    <tr>\n",
       "      <th>0</th>\n",
       "      <td>10000032</td>\n",
       "      <td>18.0</td>\n",
       "      <td>110</td>\n",
       "      <td>65</td>\n",
       "    </tr>\n",
       "    <tr>\n",
       "      <th>1</th>\n",
       "      <td>10000117</td>\n",
       "      <td>19.6</td>\n",
       "      <td>124</td>\n",
       "      <td>66</td>\n",
       "    </tr>\n",
       "    <tr>\n",
       "      <th>2</th>\n",
       "      <td>10000635</td>\n",
       "      <td>31.7</td>\n",
       "      <td>140</td>\n",
       "      <td>86</td>\n",
       "    </tr>\n",
       "    <tr>\n",
       "      <th>3</th>\n",
       "      <td>10000719</td>\n",
       "      <td>37.0</td>\n",
       "      <td>144</td>\n",
       "      <td>88</td>\n",
       "    </tr>\n",
       "    <tr>\n",
       "      <th>4</th>\n",
       "      <td>10000826</td>\n",
       "      <td>20.5</td>\n",
       "      <td>88</td>\n",
       "      <td>58</td>\n",
       "    </tr>\n",
       "  </tbody>\n",
       "</table>\n",
       "</div>"
      ],
      "text/plain": [
       "result_name  subject_id   BMI  Systolic_BP  Diastolic_BP\n",
       "0              10000032  18.0          110            65\n",
       "1              10000117  19.6          124            66\n",
       "2              10000635  31.7          140            86\n",
       "3              10000719  37.0          144            88\n",
       "4              10000826  20.5           88            58"
      ]
     },
     "execution_count": 81,
     "metadata": {},
     "output_type": "execute_result"
    }
   ],
   "source": [
    "bp_bmi_results=bp_bmi_results[['subject_id', 'BMI', 'Systolic_BP', 'Diastolic_BP']]\n",
    "\n",
    "bp_bmi_results.head()\n"
   ]
  },
  {
   "cell_type": "code",
   "execution_count": 82,
   "metadata": {},
   "outputs": [
    {
     "name": "stdout",
     "output_type": "stream",
     "text": [
      "<class 'pandas.core.frame.DataFrame'>\n",
      "RangeIndex: 115523 entries, 0 to 115522\n",
      "Data columns (total 4 columns):\n",
      " #   Column        Non-Null Count   Dtype  \n",
      "---  ------        --------------   -----  \n",
      " 0   subject_id    115523 non-null  int64  \n",
      " 1   BMI           115523 non-null  float64\n",
      " 2   Systolic_BP   115523 non-null  int64  \n",
      " 3   Diastolic_BP  115523 non-null  int64  \n",
      "dtypes: float64(1), int64(3)\n",
      "memory usage: 3.5 MB\n"
     ]
    }
   ],
   "source": [
    "bp_bmi_results.info()"
   ]
  },
  {
   "cell_type": "code",
   "execution_count": 83,
   "metadata": {},
   "outputs": [],
   "source": [
    "admits_patients_diag_omr = pd.merge(admits_patients_diag, bp_bmi_results, on='subject_id', how='inner')\n"
   ]
  },
  {
   "cell_type": "code",
   "execution_count": 84,
   "metadata": {},
   "outputs": [
    {
     "data": {
      "text/html": [
       "<div>\n",
       "<style scoped>\n",
       "    .dataframe tbody tr th:only-of-type {\n",
       "        vertical-align: middle;\n",
       "    }\n",
       "\n",
       "    .dataframe tbody tr th {\n",
       "        vertical-align: top;\n",
       "    }\n",
       "\n",
       "    .dataframe thead th {\n",
       "        text-align: right;\n",
       "    }\n",
       "</style>\n",
       "<table border=\"1\" class=\"dataframe\">\n",
       "  <thead>\n",
       "    <tr style=\"text-align: right;\">\n",
       "      <th></th>\n",
       "      <th>subject_id</th>\n",
       "      <th>hadm_id</th>\n",
       "      <th>race</th>\n",
       "      <th>anchor_age</th>\n",
       "      <th>GD</th>\n",
       "      <th>diabete_history</th>\n",
       "      <th>blood</th>\n",
       "      <th>circulatory</th>\n",
       "      <th>congenital</th>\n",
       "      <th>digestive</th>\n",
       "      <th>...</th>\n",
       "      <th>muscular</th>\n",
       "      <th>neoplasms</th>\n",
       "      <th>nervous</th>\n",
       "      <th>pregnancy</th>\n",
       "      <th>prenatal</th>\n",
       "      <th>respiratory</th>\n",
       "      <th>skin</th>\n",
       "      <th>BMI</th>\n",
       "      <th>Systolic_BP</th>\n",
       "      <th>Diastolic_BP</th>\n",
       "    </tr>\n",
       "  </thead>\n",
       "  <tbody>\n",
       "    <tr>\n",
       "      <th>0</th>\n",
       "      <td>10000032</td>\n",
       "      <td>22595853</td>\n",
       "      <td>WHITE</td>\n",
       "      <td>SENIOR</td>\n",
       "      <td>0</td>\n",
       "      <td>0</td>\n",
       "      <td>0</td>\n",
       "      <td>0</td>\n",
       "      <td>0</td>\n",
       "      <td>2</td>\n",
       "      <td>...</td>\n",
       "      <td>0</td>\n",
       "      <td>0</td>\n",
       "      <td>0</td>\n",
       "      <td>0</td>\n",
       "      <td>0</td>\n",
       "      <td>1</td>\n",
       "      <td>0</td>\n",
       "      <td>18.0</td>\n",
       "      <td>110</td>\n",
       "      <td>65</td>\n",
       "    </tr>\n",
       "    <tr>\n",
       "      <th>1</th>\n",
       "      <td>10000032</td>\n",
       "      <td>22595853</td>\n",
       "      <td>WHITE</td>\n",
       "      <td>SENIOR</td>\n",
       "      <td>0</td>\n",
       "      <td>0</td>\n",
       "      <td>0</td>\n",
       "      <td>0</td>\n",
       "      <td>0</td>\n",
       "      <td>2</td>\n",
       "      <td>...</td>\n",
       "      <td>0</td>\n",
       "      <td>0</td>\n",
       "      <td>0</td>\n",
       "      <td>0</td>\n",
       "      <td>0</td>\n",
       "      <td>1</td>\n",
       "      <td>0</td>\n",
       "      <td>18.0</td>\n",
       "      <td>110</td>\n",
       "      <td>65</td>\n",
       "    </tr>\n",
       "    <tr>\n",
       "      <th>2</th>\n",
       "      <td>10000032</td>\n",
       "      <td>22595853</td>\n",
       "      <td>WHITE</td>\n",
       "      <td>SENIOR</td>\n",
       "      <td>0</td>\n",
       "      <td>0</td>\n",
       "      <td>0</td>\n",
       "      <td>0</td>\n",
       "      <td>0</td>\n",
       "      <td>2</td>\n",
       "      <td>...</td>\n",
       "      <td>0</td>\n",
       "      <td>0</td>\n",
       "      <td>0</td>\n",
       "      <td>0</td>\n",
       "      <td>0</td>\n",
       "      <td>1</td>\n",
       "      <td>0</td>\n",
       "      <td>18.0</td>\n",
       "      <td>110</td>\n",
       "      <td>65</td>\n",
       "    </tr>\n",
       "    <tr>\n",
       "      <th>3</th>\n",
       "      <td>10000032</td>\n",
       "      <td>22595853</td>\n",
       "      <td>WHITE</td>\n",
       "      <td>SENIOR</td>\n",
       "      <td>0</td>\n",
       "      <td>0</td>\n",
       "      <td>0</td>\n",
       "      <td>0</td>\n",
       "      <td>0</td>\n",
       "      <td>2</td>\n",
       "      <td>...</td>\n",
       "      <td>0</td>\n",
       "      <td>0</td>\n",
       "      <td>0</td>\n",
       "      <td>0</td>\n",
       "      <td>0</td>\n",
       "      <td>1</td>\n",
       "      <td>0</td>\n",
       "      <td>18.0</td>\n",
       "      <td>110</td>\n",
       "      <td>65</td>\n",
       "    </tr>\n",
       "    <tr>\n",
       "      <th>4</th>\n",
       "      <td>10000032</td>\n",
       "      <td>22595853</td>\n",
       "      <td>WHITE</td>\n",
       "      <td>SENIOR</td>\n",
       "      <td>0</td>\n",
       "      <td>0</td>\n",
       "      <td>0</td>\n",
       "      <td>0</td>\n",
       "      <td>0</td>\n",
       "      <td>2</td>\n",
       "      <td>...</td>\n",
       "      <td>0</td>\n",
       "      <td>0</td>\n",
       "      <td>0</td>\n",
       "      <td>0</td>\n",
       "      <td>0</td>\n",
       "      <td>1</td>\n",
       "      <td>0</td>\n",
       "      <td>18.0</td>\n",
       "      <td>110</td>\n",
       "      <td>65</td>\n",
       "    </tr>\n",
       "  </tbody>\n",
       "</table>\n",
       "<p>5 rows × 26 columns</p>\n",
       "</div>"
      ],
      "text/plain": [
       "   subject_id   hadm_id   race anchor_age  GD  diabete_history  blood  \\\n",
       "0    10000032  22595853  WHITE     SENIOR   0                0      0   \n",
       "1    10000032  22595853  WHITE     SENIOR   0                0      0   \n",
       "2    10000032  22595853  WHITE     SENIOR   0                0      0   \n",
       "3    10000032  22595853  WHITE     SENIOR   0                0      0   \n",
       "4    10000032  22595853  WHITE     SENIOR   0                0      0   \n",
       "\n",
       "   circulatory  congenital  digestive  ...  muscular  neoplasms  nervous  \\\n",
       "0            0           0          2  ...         0          0        0   \n",
       "1            0           0          2  ...         0          0        0   \n",
       "2            0           0          2  ...         0          0        0   \n",
       "3            0           0          2  ...         0          0        0   \n",
       "4            0           0          2  ...         0          0        0   \n",
       "\n",
       "   pregnancy  prenatal  respiratory  skin   BMI  Systolic_BP  Diastolic_BP  \n",
       "0          0         0            1     0  18.0          110            65  \n",
       "1          0         0            1     0  18.0          110            65  \n",
       "2          0         0            1     0  18.0          110            65  \n",
       "3          0         0            1     0  18.0          110            65  \n",
       "4          0         0            1     0  18.0          110            65  \n",
       "\n",
       "[5 rows x 26 columns]"
      ]
     },
     "execution_count": 84,
     "metadata": {},
     "output_type": "execute_result"
    }
   ],
   "source": [
    "admits_patients_diag_omr.head()"
   ]
  },
  {
   "cell_type": "code",
   "execution_count": 87,
   "metadata": {},
   "outputs": [
    {
     "name": "stdout",
     "output_type": "stream",
     "text": [
      "<class 'pandas.core.frame.DataFrame'>\n",
      "Int64Index: 990663 entries, 0 to 990662\n",
      "Data columns (total 26 columns):\n",
      " #   Column           Non-Null Count   Dtype  \n",
      "---  ------           --------------   -----  \n",
      " 0   subject_id       990663 non-null  int64  \n",
      " 1   hadm_id          990663 non-null  int64  \n",
      " 2   race             990663 non-null  object \n",
      " 3   anchor_age       990663 non-null  object \n",
      " 4   GD               990663 non-null  int64  \n",
      " 5   diabete_history  990663 non-null  int64  \n",
      " 6   blood            990663 non-null  uint8  \n",
      " 7   circulatory      990663 non-null  uint8  \n",
      " 8   congenital       990663 non-null  uint8  \n",
      " 9   digestive        990663 non-null  uint8  \n",
      " 10  endocrine        990663 non-null  uint8  \n",
      " 11  genitourinary    990663 non-null  uint8  \n",
      " 12  infectious       990663 non-null  uint8  \n",
      " 13  injury           990663 non-null  uint8  \n",
      " 14  mental           990663 non-null  uint8  \n",
      " 15  misc             990663 non-null  uint8  \n",
      " 16  muscular         990663 non-null  uint8  \n",
      " 17  neoplasms        990663 non-null  uint8  \n",
      " 18  nervous          990663 non-null  uint8  \n",
      " 19  pregnancy        990663 non-null  uint8  \n",
      " 20  prenatal         990663 non-null  uint8  \n",
      " 21  respiratory      990663 non-null  uint8  \n",
      " 22  skin             990663 non-null  uint8  \n",
      " 23  BMI              990663 non-null  float64\n",
      " 24  Systolic_BP      990663 non-null  int64  \n",
      " 25  Diastolic_BP     990663 non-null  int64  \n",
      "dtypes: float64(1), int64(6), object(2), uint8(17)\n",
      "memory usage: 91.6+ MB\n"
     ]
    }
   ],
   "source": [
    "admits_patients_diag_omr.info()"
   ]
  },
  {
   "cell_type": "code",
   "execution_count": 88,
   "metadata": {},
   "outputs": [],
   "source": [
    "admits_patients_diag_omr.to_csv('admits_patients_diag_omr.csv')\n"
   ]
  },
  {
   "cell_type": "code",
   "execution_count": 2,
   "metadata": {},
   "outputs": [],
   "source": [
    "admits_patients_diag_omr =pd.read_csv('admits_patients_diag_omr.csv')\n"
   ]
  },
  {
   "cell_type": "markdown",
   "metadata": {},
   "source": []
  },
  {
   "attachments": {},
   "cell_type": "markdown",
   "metadata": {},
   "source": [
    "labevents is a large file, I deal with it in chunks: labevents_processing.ipynb\n"
   ]
  },
  {
   "cell_type": "code",
   "execution_count": 3,
   "metadata": {},
   "outputs": [
    {
     "data": {
      "text/html": [
       "<div>\n",
       "<style scoped>\n",
       "    .dataframe tbody tr th:only-of-type {\n",
       "        vertical-align: middle;\n",
       "    }\n",
       "\n",
       "    .dataframe tbody tr th {\n",
       "        vertical-align: top;\n",
       "    }\n",
       "\n",
       "    .dataframe thead th {\n",
       "        text-align: right;\n",
       "    }\n",
       "</style>\n",
       "<table border=\"1\" class=\"dataframe\">\n",
       "  <thead>\n",
       "    <tr style=\"text-align: right;\">\n",
       "      <th></th>\n",
       "      <th>subject_id</th>\n",
       "      <th>Glucose</th>\n",
       "      <th>Hemoglobin A1c</th>\n",
       "      <th>HDL</th>\n",
       "      <th>LDL</th>\n",
       "      <th>Creatinine</th>\n",
       "      <th>Triglycerides</th>\n",
       "      <th>Urea Nitrogen</th>\n",
       "      <th>Uric Acid</th>\n",
       "    </tr>\n",
       "  </thead>\n",
       "  <tbody>\n",
       "    <tr>\n",
       "      <th>0</th>\n",
       "      <td>10000032</td>\n",
       "      <td>NaN</td>\n",
       "      <td>NaN</td>\n",
       "      <td>52.000000</td>\n",
       "      <td>135.000000</td>\n",
       "      <td>0.466667</td>\n",
       "      <td>73.000000</td>\n",
       "      <td>30.388889</td>\n",
       "      <td>NaN</td>\n",
       "    </tr>\n",
       "    <tr>\n",
       "      <th>1</th>\n",
       "      <td>10000048</td>\n",
       "      <td>NaN</td>\n",
       "      <td>NaN</td>\n",
       "      <td>NaN</td>\n",
       "      <td>NaN</td>\n",
       "      <td>0.700000</td>\n",
       "      <td>NaN</td>\n",
       "      <td>16.000000</td>\n",
       "      <td>NaN</td>\n",
       "    </tr>\n",
       "    <tr>\n",
       "      <th>2</th>\n",
       "      <td>10000084</td>\n",
       "      <td>NaN</td>\n",
       "      <td>NaN</td>\n",
       "      <td>NaN</td>\n",
       "      <td>NaN</td>\n",
       "      <td>0.733333</td>\n",
       "      <td>NaN</td>\n",
       "      <td>12.666667</td>\n",
       "      <td>NaN</td>\n",
       "    </tr>\n",
       "    <tr>\n",
       "      <th>3</th>\n",
       "      <td>10000108</td>\n",
       "      <td>NaN</td>\n",
       "      <td>NaN</td>\n",
       "      <td>NaN</td>\n",
       "      <td>NaN</td>\n",
       "      <td>1.000000</td>\n",
       "      <td>NaN</td>\n",
       "      <td>12.000000</td>\n",
       "      <td>NaN</td>\n",
       "    </tr>\n",
       "    <tr>\n",
       "      <th>4</th>\n",
       "      <td>10000117</td>\n",
       "      <td>NaN</td>\n",
       "      <td>5.3</td>\n",
       "      <td>71.142857</td>\n",
       "      <td>154.285714</td>\n",
       "      <td>0.868750</td>\n",
       "      <td>90.857143</td>\n",
       "      <td>10.066667</td>\n",
       "      <td>NaN</td>\n",
       "    </tr>\n",
       "  </tbody>\n",
       "</table>\n",
       "</div>"
      ],
      "text/plain": [
       "   subject_id  Glucose  Hemoglobin A1c        HDL         LDL  Creatinine  \\\n",
       "0    10000032      NaN             NaN  52.000000  135.000000    0.466667   \n",
       "1    10000048      NaN             NaN        NaN         NaN    0.700000   \n",
       "2    10000084      NaN             NaN        NaN         NaN    0.733333   \n",
       "3    10000108      NaN             NaN        NaN         NaN    1.000000   \n",
       "4    10000117      NaN             5.3  71.142857  154.285714    0.868750   \n",
       "\n",
       "   Triglycerides  Urea Nitrogen  Uric Acid  \n",
       "0      73.000000      30.388889        NaN  \n",
       "1            NaN      16.000000        NaN  \n",
       "2            NaN      12.666667        NaN  \n",
       "3            NaN      12.000000        NaN  \n",
       "4      90.857143      10.066667        NaN  "
      ]
     },
     "execution_count": 3,
     "metadata": {},
     "output_type": "execute_result"
    }
   ],
   "source": [
    "#labevents\n",
    "lab_result = pd.read_csv('lab_results_pivot.csv')\n",
    "lab_result.head()\n",
    "\n"
   ]
  },
  {
   "cell_type": "code",
   "execution_count": 5,
   "metadata": {},
   "outputs": [
    {
     "name": "stdout",
     "output_type": "stream",
     "text": [
      "<class 'pandas.core.frame.DataFrame'>\n",
      "RangeIndex: 242288 entries, 0 to 242287\n",
      "Data columns (total 9 columns):\n",
      " #   Column          Non-Null Count   Dtype  \n",
      "---  ------          --------------   -----  \n",
      " 0   subject_id      242288 non-null  int64  \n",
      " 1   Glucose         46609 non-null   float64\n",
      " 2   Hemoglobin A1c  74715 non-null   float64\n",
      " 3   HDL             82375 non-null   float64\n",
      " 4   LDL             78437 non-null   float64\n",
      " 5   Creatinine      239831 non-null  float64\n",
      " 6   Triglycerides   84508 non-null   float64\n",
      " 7   Urea Nitrogen   237983 non-null  float64\n",
      " 8   Uric Acid       23723 non-null   float64\n",
      "dtypes: float64(8), int64(1)\n",
      "memory usage: 16.6 MB\n"
     ]
    }
   ],
   "source": [
    "lab_result.info()\n"
   ]
  },
  {
   "cell_type": "code",
   "execution_count": 4,
   "metadata": {},
   "outputs": [
    {
     "data": {
      "text/html": [
       "<div>\n",
       "<style scoped>\n",
       "    .dataframe tbody tr th:only-of-type {\n",
       "        vertical-align: middle;\n",
       "    }\n",
       "\n",
       "    .dataframe tbody tr th {\n",
       "        vertical-align: top;\n",
       "    }\n",
       "\n",
       "    .dataframe thead th {\n",
       "        text-align: right;\n",
       "    }\n",
       "</style>\n",
       "<table border=\"1\" class=\"dataframe\">\n",
       "  <thead>\n",
       "    <tr style=\"text-align: right;\">\n",
       "      <th></th>\n",
       "      <th>Unnamed: 0</th>\n",
       "      <th>subject_id</th>\n",
       "      <th>hadm_id</th>\n",
       "      <th>race</th>\n",
       "      <th>anchor_age</th>\n",
       "      <th>GD</th>\n",
       "      <th>diabete_history</th>\n",
       "      <th>blood</th>\n",
       "      <th>circulatory</th>\n",
       "      <th>congenital</th>\n",
       "      <th>...</th>\n",
       "      <th>Systolic_BP</th>\n",
       "      <th>Diastolic_BP</th>\n",
       "      <th>Glucose</th>\n",
       "      <th>Hemoglobin A1c</th>\n",
       "      <th>HDL</th>\n",
       "      <th>LDL</th>\n",
       "      <th>Creatinine</th>\n",
       "      <th>Triglycerides</th>\n",
       "      <th>Urea Nitrogen</th>\n",
       "      <th>Uric Acid</th>\n",
       "    </tr>\n",
       "  </thead>\n",
       "  <tbody>\n",
       "    <tr>\n",
       "      <th>0</th>\n",
       "      <td>0</td>\n",
       "      <td>10000032</td>\n",
       "      <td>22595853</td>\n",
       "      <td>WHITE</td>\n",
       "      <td>SENIOR</td>\n",
       "      <td>0</td>\n",
       "      <td>0</td>\n",
       "      <td>0</td>\n",
       "      <td>0</td>\n",
       "      <td>0</td>\n",
       "      <td>...</td>\n",
       "      <td>110</td>\n",
       "      <td>65</td>\n",
       "      <td>NaN</td>\n",
       "      <td>NaN</td>\n",
       "      <td>52.0</td>\n",
       "      <td>135.0</td>\n",
       "      <td>0.466667</td>\n",
       "      <td>73.0</td>\n",
       "      <td>30.388889</td>\n",
       "      <td>NaN</td>\n",
       "    </tr>\n",
       "    <tr>\n",
       "      <th>1</th>\n",
       "      <td>1</td>\n",
       "      <td>10000032</td>\n",
       "      <td>22595853</td>\n",
       "      <td>WHITE</td>\n",
       "      <td>SENIOR</td>\n",
       "      <td>0</td>\n",
       "      <td>0</td>\n",
       "      <td>0</td>\n",
       "      <td>0</td>\n",
       "      <td>0</td>\n",
       "      <td>...</td>\n",
       "      <td>110</td>\n",
       "      <td>65</td>\n",
       "      <td>NaN</td>\n",
       "      <td>NaN</td>\n",
       "      <td>52.0</td>\n",
       "      <td>135.0</td>\n",
       "      <td>0.466667</td>\n",
       "      <td>73.0</td>\n",
       "      <td>30.388889</td>\n",
       "      <td>NaN</td>\n",
       "    </tr>\n",
       "    <tr>\n",
       "      <th>2</th>\n",
       "      <td>2</td>\n",
       "      <td>10000032</td>\n",
       "      <td>22595853</td>\n",
       "      <td>WHITE</td>\n",
       "      <td>SENIOR</td>\n",
       "      <td>0</td>\n",
       "      <td>0</td>\n",
       "      <td>0</td>\n",
       "      <td>0</td>\n",
       "      <td>0</td>\n",
       "      <td>...</td>\n",
       "      <td>110</td>\n",
       "      <td>65</td>\n",
       "      <td>NaN</td>\n",
       "      <td>NaN</td>\n",
       "      <td>52.0</td>\n",
       "      <td>135.0</td>\n",
       "      <td>0.466667</td>\n",
       "      <td>73.0</td>\n",
       "      <td>30.388889</td>\n",
       "      <td>NaN</td>\n",
       "    </tr>\n",
       "    <tr>\n",
       "      <th>3</th>\n",
       "      <td>3</td>\n",
       "      <td>10000032</td>\n",
       "      <td>22595853</td>\n",
       "      <td>WHITE</td>\n",
       "      <td>SENIOR</td>\n",
       "      <td>0</td>\n",
       "      <td>0</td>\n",
       "      <td>0</td>\n",
       "      <td>0</td>\n",
       "      <td>0</td>\n",
       "      <td>...</td>\n",
       "      <td>110</td>\n",
       "      <td>65</td>\n",
       "      <td>NaN</td>\n",
       "      <td>NaN</td>\n",
       "      <td>52.0</td>\n",
       "      <td>135.0</td>\n",
       "      <td>0.466667</td>\n",
       "      <td>73.0</td>\n",
       "      <td>30.388889</td>\n",
       "      <td>NaN</td>\n",
       "    </tr>\n",
       "    <tr>\n",
       "      <th>4</th>\n",
       "      <td>4</td>\n",
       "      <td>10000032</td>\n",
       "      <td>22595853</td>\n",
       "      <td>WHITE</td>\n",
       "      <td>SENIOR</td>\n",
       "      <td>0</td>\n",
       "      <td>0</td>\n",
       "      <td>0</td>\n",
       "      <td>0</td>\n",
       "      <td>0</td>\n",
       "      <td>...</td>\n",
       "      <td>110</td>\n",
       "      <td>65</td>\n",
       "      <td>NaN</td>\n",
       "      <td>NaN</td>\n",
       "      <td>52.0</td>\n",
       "      <td>135.0</td>\n",
       "      <td>0.466667</td>\n",
       "      <td>73.0</td>\n",
       "      <td>30.388889</td>\n",
       "      <td>NaN</td>\n",
       "    </tr>\n",
       "  </tbody>\n",
       "</table>\n",
       "<p>5 rows × 35 columns</p>\n",
       "</div>"
      ],
      "text/plain": [
       "   Unnamed: 0  subject_id   hadm_id   race anchor_age  GD  diabete_history  \\\n",
       "0           0    10000032  22595853  WHITE     SENIOR   0                0   \n",
       "1           1    10000032  22595853  WHITE     SENIOR   0                0   \n",
       "2           2    10000032  22595853  WHITE     SENIOR   0                0   \n",
       "3           3    10000032  22595853  WHITE     SENIOR   0                0   \n",
       "4           4    10000032  22595853  WHITE     SENIOR   0                0   \n",
       "\n",
       "   blood  circulatory  congenital  ...  Systolic_BP  Diastolic_BP  Glucose  \\\n",
       "0      0            0           0  ...          110            65      NaN   \n",
       "1      0            0           0  ...          110            65      NaN   \n",
       "2      0            0           0  ...          110            65      NaN   \n",
       "3      0            0           0  ...          110            65      NaN   \n",
       "4      0            0           0  ...          110            65      NaN   \n",
       "\n",
       "   Hemoglobin A1c   HDL    LDL  Creatinine  Triglycerides  Urea Nitrogen  \\\n",
       "0             NaN  52.0  135.0    0.466667           73.0      30.388889   \n",
       "1             NaN  52.0  135.0    0.466667           73.0      30.388889   \n",
       "2             NaN  52.0  135.0    0.466667           73.0      30.388889   \n",
       "3             NaN  52.0  135.0    0.466667           73.0      30.388889   \n",
       "4             NaN  52.0  135.0    0.466667           73.0      30.388889   \n",
       "\n",
       "   Uric Acid  \n",
       "0        NaN  \n",
       "1        NaN  \n",
       "2        NaN  \n",
       "3        NaN  \n",
       "4        NaN  \n",
       "\n",
       "[5 rows x 35 columns]"
      ]
     },
     "execution_count": 4,
     "metadata": {},
     "output_type": "execute_result"
    }
   ],
   "source": [
    "final_df=pd.merge(admits_patients_diag_omr, lab_result, on='subject_id', how='inner')\n",
    "final_df.head()\n",
    "\n"
   ]
  },
  {
   "cell_type": "code",
   "execution_count": 27,
   "metadata": {},
   "outputs": [
    {
     "name": "stdout",
     "output_type": "stream",
     "text": [
      "<class 'pandas.core.frame.DataFrame'>\n",
      "Int64Index: 984014 entries, 0 to 984013\n",
      "Data columns (total 35 columns):\n",
      " #   Column           Non-Null Count   Dtype  \n",
      "---  ------           --------------   -----  \n",
      " 0   Unnamed: 0       984014 non-null  int64  \n",
      " 1   subject_id       984014 non-null  int64  \n",
      " 2   hadm_id          984014 non-null  int64  \n",
      " 3   race             984014 non-null  object \n",
      " 4   anchor_age       984014 non-null  object \n",
      " 5   GD               984014 non-null  int64  \n",
      " 6   diabete_history  984014 non-null  int64  \n",
      " 7   blood            984014 non-null  int64  \n",
      " 8   circulatory      984014 non-null  int64  \n",
      " 9   congenital       984014 non-null  int64  \n",
      " 10  digestive        984014 non-null  int64  \n",
      " 11  endocrine        984014 non-null  int64  \n",
      " 12  genitourinary    984014 non-null  int64  \n",
      " 13  infectious       984014 non-null  int64  \n",
      " 14  injury           984014 non-null  int64  \n",
      " 15  mental           984014 non-null  int64  \n",
      " 16  misc             984014 non-null  int64  \n",
      " 17  muscular         984014 non-null  int64  \n",
      " 18  neoplasms        984014 non-null  int64  \n",
      " 19  nervous          984014 non-null  int64  \n",
      " 20  pregnancy        984014 non-null  int64  \n",
      " 21  prenatal         984014 non-null  int64  \n",
      " 22  respiratory      984014 non-null  int64  \n",
      " 23  skin             984014 non-null  int64  \n",
      " 24  BMI              984014 non-null  float64\n",
      " 25  Systolic_BP      984014 non-null  int64  \n",
      " 26  Diastolic_BP     984014 non-null  int64  \n",
      " 27  Glucose          447328 non-null  float64\n",
      " 28  Hemoglobin A1c   638414 non-null  float64\n",
      " 29  HDL              636651 non-null  float64\n",
      " 30  LDL              617636 non-null  float64\n",
      " 31  Creatinine       982016 non-null  float64\n",
      " 32  Triglycerides    676864 non-null  float64\n",
      " 33  Urea Nitrogen    978168 non-null  float64\n",
      " 34  Uric Acid        348463 non-null  float64\n",
      "dtypes: float64(9), int64(24), object(2)\n",
      "memory usage: 270.3+ MB\n"
     ]
    }
   ],
   "source": [
    "final_df.info()\n"
   ]
  },
  {
   "cell_type": "code",
   "execution_count": 30,
   "metadata": {},
   "outputs": [],
   "source": [
    "adm_pat_dia_omr_lab = pd.merge(admits_patients_diag_omr, lab_result, on='subject_id', how='inner')\n"
   ]
  },
  {
   "cell_type": "code",
   "execution_count": 31,
   "metadata": {},
   "outputs": [
    {
     "name": "stdout",
     "output_type": "stream",
     "text": [
      "<class 'pandas.core.frame.DataFrame'>\n",
      "Int64Index: 984014 entries, 0 to 984013\n",
      "Data columns (total 35 columns):\n",
      " #   Column           Non-Null Count   Dtype  \n",
      "---  ------           --------------   -----  \n",
      " 0   Unnamed: 0       984014 non-null  int64  \n",
      " 1   subject_id       984014 non-null  int64  \n",
      " 2   hadm_id          984014 non-null  int64  \n",
      " 3   race             984014 non-null  object \n",
      " 4   anchor_age       984014 non-null  object \n",
      " 5   GD               984014 non-null  int64  \n",
      " 6   diabete_history  984014 non-null  int64  \n",
      " 7   blood            984014 non-null  int64  \n",
      " 8   circulatory      984014 non-null  int64  \n",
      " 9   congenital       984014 non-null  int64  \n",
      " 10  digestive        984014 non-null  int64  \n",
      " 11  endocrine        984014 non-null  int64  \n",
      " 12  genitourinary    984014 non-null  int64  \n",
      " 13  infectious       984014 non-null  int64  \n",
      " 14  injury           984014 non-null  int64  \n",
      " 15  mental           984014 non-null  int64  \n",
      " 16  misc             984014 non-null  int64  \n",
      " 17  muscular         984014 non-null  int64  \n",
      " 18  neoplasms        984014 non-null  int64  \n",
      " 19  nervous          984014 non-null  int64  \n",
      " 20  pregnancy        984014 non-null  int64  \n",
      " 21  prenatal         984014 non-null  int64  \n",
      " 22  respiratory      984014 non-null  int64  \n",
      " 23  skin             984014 non-null  int64  \n",
      " 24  BMI              984014 non-null  float64\n",
      " 25  Systolic_BP      984014 non-null  int64  \n",
      " 26  Diastolic_BP     984014 non-null  int64  \n",
      " 27  Glucose          447328 non-null  float64\n",
      " 28  Hemoglobin A1c   638414 non-null  float64\n",
      " 29  HDL              636651 non-null  float64\n",
      " 30  LDL              617636 non-null  float64\n",
      " 31  Creatinine       982016 non-null  float64\n",
      " 32  Triglycerides    676864 non-null  float64\n",
      " 33  Urea Nitrogen    978168 non-null  float64\n",
      " 34  Uric Acid        348463 non-null  float64\n",
      "dtypes: float64(9), int64(24), object(2)\n",
      "memory usage: 270.3+ MB\n"
     ]
    }
   ],
   "source": [
    "adm_pat_dia_omr_lab.info()"
   ]
  },
  {
   "cell_type": "code",
   "execution_count": 32,
   "metadata": {},
   "outputs": [],
   "source": [
    "adm_pat_dia_omr_lab.to_csv('adm_pat_dia_omr_lab.csv')\n"
   ]
  },
  {
   "attachments": {},
   "cell_type": "markdown",
   "metadata": {},
   "source": [
    "Go with prescriptions"
   ]
  },
  {
   "cell_type": "code",
   "execution_count": 33,
   "metadata": {},
   "outputs": [
    {
     "data": {
      "text/html": [
       "<div>\n",
       "<style scoped>\n",
       "    .dataframe tbody tr th:only-of-type {\n",
       "        vertical-align: middle;\n",
       "    }\n",
       "\n",
       "    .dataframe tbody tr th {\n",
       "        vertical-align: top;\n",
       "    }\n",
       "\n",
       "    .dataframe thead th {\n",
       "        text-align: right;\n",
       "    }\n",
       "</style>\n",
       "<table border=\"1\" class=\"dataframe\">\n",
       "  <thead>\n",
       "    <tr style=\"text-align: right;\">\n",
       "      <th></th>\n",
       "      <th>subject_id</th>\n",
       "      <th>hadm_id</th>\n",
       "      <th>drug</th>\n",
       "    </tr>\n",
       "  </thead>\n",
       "  <tbody>\n",
       "    <tr>\n",
       "      <th>0</th>\n",
       "      <td>10000032</td>\n",
       "      <td>22595853</td>\n",
       "      <td>Acetaminophen</td>\n",
       "    </tr>\n",
       "    <tr>\n",
       "      <th>1</th>\n",
       "      <td>10000032</td>\n",
       "      <td>22595853</td>\n",
       "      <td>Sodium Chloride 0.9%  Flush</td>\n",
       "    </tr>\n",
       "    <tr>\n",
       "      <th>2</th>\n",
       "      <td>10000032</td>\n",
       "      <td>22595853</td>\n",
       "      <td>Furosemide</td>\n",
       "    </tr>\n",
       "    <tr>\n",
       "      <th>3</th>\n",
       "      <td>10000032</td>\n",
       "      <td>22595853</td>\n",
       "      <td>Raltegravir</td>\n",
       "    </tr>\n",
       "    <tr>\n",
       "      <th>4</th>\n",
       "      <td>10000032</td>\n",
       "      <td>22595853</td>\n",
       "      <td>Heparin</td>\n",
       "    </tr>\n",
       "  </tbody>\n",
       "</table>\n",
       "</div>"
      ],
      "text/plain": [
       "   subject_id   hadm_id                         drug\n",
       "0    10000032  22595853                Acetaminophen\n",
       "1    10000032  22595853  Sodium Chloride 0.9%  Flush\n",
       "2    10000032  22595853                   Furosemide\n",
       "3    10000032  22595853                  Raltegravir\n",
       "4    10000032  22595853                      Heparin"
      ]
     },
     "execution_count": 33,
     "metadata": {},
     "output_type": "execute_result"
    }
   ],
   "source": [
    "prescriptions = pd.read_csv(\n",
    "    mimic_path+'hosp/prescriptions.csv.gz', compression='gzip', usecols=['subject_id', 'hadm_id','drug'])\n",
    "prescriptions.head()"
   ]
  },
  {
   "cell_type": "code",
   "execution_count": 34,
   "metadata": {},
   "outputs": [
    {
     "name": "stdout",
     "output_type": "stream",
     "text": [
      "<class 'pandas.core.frame.DataFrame'>\n",
      "RangeIndex: 15416708 entries, 0 to 15416707\n",
      "Data columns (total 3 columns):\n",
      " #   Column      Dtype \n",
      "---  ------      ----- \n",
      " 0   subject_id  int64 \n",
      " 1   hadm_id     int64 \n",
      " 2   drug        object\n",
      "dtypes: int64(2), object(1)\n",
      "memory usage: 352.9+ MB\n"
     ]
    }
   ],
   "source": [
    "\n",
    "prescriptions.info()"
   ]
  },
  {
   "cell_type": "code",
   "execution_count": 35,
   "metadata": {},
   "outputs": [
    {
     "name": "stdout",
     "output_type": "stream",
     "text": [
      "总共有 1 个缺失值。\n"
     ]
    }
   ],
   "source": [
    "num_missing = prescriptions['drug'].isna().sum()\n",
    "print('总共有 {} 个缺失值。'.format(num_missing))\n"
   ]
  },
  {
   "cell_type": "code",
   "execution_count": 36,
   "metadata": {},
   "outputs": [
    {
     "name": "stdout",
     "output_type": "stream",
     "text": [
      "          subject_id   hadm_id drug\n",
      "15333304    19945152  26408801  NaN\n"
     ]
    }
   ],
   "source": [
    "\n",
    "missing_values = prescriptions[prescriptions['drug'].isna()]\n",
    "\n",
    "print(missing_values)\n"
   ]
  },
  {
   "cell_type": "code",
   "execution_count": 38,
   "metadata": {},
   "outputs": [],
   "source": [
    "prescriptions = prescriptions.dropna(subset=['drug'])\n"
   ]
  },
  {
   "cell_type": "code",
   "execution_count": 39,
   "metadata": {},
   "outputs": [
    {
     "name": "stdout",
     "output_type": "stream",
     "text": [
      "<class 'pandas.core.frame.DataFrame'>\n",
      "Int64Index: 15416707 entries, 0 to 15416707\n",
      "Data columns (total 3 columns):\n",
      " #   Column      Dtype \n",
      "---  ------      ----- \n",
      " 0   subject_id  int64 \n",
      " 1   hadm_id     int64 \n",
      " 2   drug        object\n",
      "dtypes: int64(2), object(1)\n",
      "memory usage: 470.5+ MB\n"
     ]
    }
   ],
   "source": [
    "prescriptions.info()"
   ]
  },
  {
   "cell_type": "code",
   "execution_count": 12,
   "metadata": {},
   "outputs": [
    {
     "name": "stdout",
     "output_type": "stream",
     "text": [
      "总共有 0 个缺失值。\n"
     ]
    }
   ],
   "source": [
    "num_missing = prescriptions['drug'].isna().sum()\n",
    "print('总共有 {} 个缺失值。'.format(num_missing))\n"
   ]
  },
  {
   "cell_type": "code",
   "execution_count": 40,
   "metadata": {},
   "outputs": [],
   "source": [
    "prescriptions['insulin'] = 0\n",
    "prescriptions['insulin'] = prescriptions['drug'].str.contains(\n",
    "    'insulin', case=False).astype(int)\n",
    "\n"
   ]
  },
  {
   "cell_type": "code",
   "execution_count": 41,
   "metadata": {},
   "outputs": [
    {
     "data": {
      "text/html": [
       "<div>\n",
       "<style scoped>\n",
       "    .dataframe tbody tr th:only-of-type {\n",
       "        vertical-align: middle;\n",
       "    }\n",
       "\n",
       "    .dataframe tbody tr th {\n",
       "        vertical-align: top;\n",
       "    }\n",
       "\n",
       "    .dataframe thead th {\n",
       "        text-align: right;\n",
       "    }\n",
       "</style>\n",
       "<table border=\"1\" class=\"dataframe\">\n",
       "  <thead>\n",
       "    <tr style=\"text-align: right;\">\n",
       "      <th></th>\n",
       "      <th>subject_id</th>\n",
       "      <th>hadm_id</th>\n",
       "      <th>drug</th>\n",
       "      <th>insulin</th>\n",
       "    </tr>\n",
       "  </thead>\n",
       "  <tbody>\n",
       "    <tr>\n",
       "      <th>0</th>\n",
       "      <td>10000032</td>\n",
       "      <td>22595853</td>\n",
       "      <td>Acetaminophen</td>\n",
       "      <td>0</td>\n",
       "    </tr>\n",
       "    <tr>\n",
       "      <th>1</th>\n",
       "      <td>10000032</td>\n",
       "      <td>22595853</td>\n",
       "      <td>Sodium Chloride 0.9%  Flush</td>\n",
       "      <td>0</td>\n",
       "    </tr>\n",
       "    <tr>\n",
       "      <th>2</th>\n",
       "      <td>10000032</td>\n",
       "      <td>22595853</td>\n",
       "      <td>Furosemide</td>\n",
       "      <td>0</td>\n",
       "    </tr>\n",
       "    <tr>\n",
       "      <th>3</th>\n",
       "      <td>10000032</td>\n",
       "      <td>22595853</td>\n",
       "      <td>Raltegravir</td>\n",
       "      <td>0</td>\n",
       "    </tr>\n",
       "    <tr>\n",
       "      <th>4</th>\n",
       "      <td>10000032</td>\n",
       "      <td>22595853</td>\n",
       "      <td>Heparin</td>\n",
       "      <td>0</td>\n",
       "    </tr>\n",
       "  </tbody>\n",
       "</table>\n",
       "</div>"
      ],
      "text/plain": [
       "   subject_id   hadm_id                         drug  insulin\n",
       "0    10000032  22595853                Acetaminophen        0\n",
       "1    10000032  22595853  Sodium Chloride 0.9%  Flush        0\n",
       "2    10000032  22595853                   Furosemide        0\n",
       "3    10000032  22595853                  Raltegravir        0\n",
       "4    10000032  22595853                      Heparin        0"
      ]
     },
     "execution_count": 41,
     "metadata": {},
     "output_type": "execute_result"
    }
   ],
   "source": [
    "prescriptions.head()\n"
   ]
  },
  {
   "cell_type": "code",
   "execution_count": 42,
   "metadata": {},
   "outputs": [
    {
     "data": {
      "text/plain": [
       "0    14784146\n",
       "1      632561\n",
       "Name: insulin, dtype: int64"
      ]
     },
     "execution_count": 42,
     "metadata": {},
     "output_type": "execute_result"
    }
   ],
   "source": [
    "prescriptions.insulin.value_counts()\n"
   ]
  },
  {
   "cell_type": "code",
   "execution_count": 45,
   "metadata": {},
   "outputs": [
    {
     "name": "stdout",
     "output_type": "stream",
     "text": [
      "Number of unique subject_ids with insulin=1: 56209\n",
      "Number of unique hadm_ids with insulin=1: 117125\n"
     ]
    }
   ],
   "source": [
    "insulin_data = prescriptions[prescriptions['insulin'] == 1]\n",
    "subject_id_count = insulin_data['subject_id'].nunique()\n",
    "hadm_id_count = insulin_data['hadm_id'].nunique()\n",
    "print(f\"Number of unique subject_ids with insulin=1: {subject_id_count}\")\n",
    "print(f\"Number of unique hadm_ids with insulin=1: {hadm_id_count}\")\n"
   ]
  },
  {
   "cell_type": "code",
   "execution_count": 15,
   "metadata": {},
   "outputs": [
    {
     "data": {
      "text/html": [
       "<div>\n",
       "<style scoped>\n",
       "    .dataframe tbody tr th:only-of-type {\n",
       "        vertical-align: middle;\n",
       "    }\n",
       "\n",
       "    .dataframe tbody tr th {\n",
       "        vertical-align: top;\n",
       "    }\n",
       "\n",
       "    .dataframe thead th {\n",
       "        text-align: right;\n",
       "    }\n",
       "</style>\n",
       "<table border=\"1\" class=\"dataframe\">\n",
       "  <thead>\n",
       "    <tr style=\"text-align: right;\">\n",
       "      <th></th>\n",
       "      <th>hadm_id</th>\n",
       "      <th>insulin</th>\n",
       "    </tr>\n",
       "  </thead>\n",
       "  <tbody>\n",
       "    <tr>\n",
       "      <th>0</th>\n",
       "      <td>22595853</td>\n",
       "      <td>0</td>\n",
       "    </tr>\n",
       "    <tr>\n",
       "      <th>1</th>\n",
       "      <td>22595853</td>\n",
       "      <td>0</td>\n",
       "    </tr>\n",
       "    <tr>\n",
       "      <th>2</th>\n",
       "      <td>22595853</td>\n",
       "      <td>0</td>\n",
       "    </tr>\n",
       "    <tr>\n",
       "      <th>3</th>\n",
       "      <td>22595853</td>\n",
       "      <td>0</td>\n",
       "    </tr>\n",
       "    <tr>\n",
       "      <th>4</th>\n",
       "      <td>22595853</td>\n",
       "      <td>0</td>\n",
       "    </tr>\n",
       "  </tbody>\n",
       "</table>\n",
       "</div>"
      ],
      "text/plain": [
       "    hadm_id  insulin\n",
       "0  22595853        0\n",
       "1  22595853        0\n",
       "2  22595853        0\n",
       "3  22595853        0\n",
       "4  22595853        0"
      ]
     },
     "execution_count": 15,
     "metadata": {},
     "output_type": "execute_result"
    }
   ],
   "source": [
    "pres=prescriptions[['hadm_id','insulin']]\n",
    "pres.head()"
   ]
  },
  {
   "cell_type": "code",
   "execution_count": 16,
   "metadata": {},
   "outputs": [],
   "source": [
    "pres.to_csv('prescriptions.csv')\n"
   ]
  },
  {
   "cell_type": "code",
   "execution_count": 7,
   "metadata": {},
   "outputs": [],
   "source": [
    "pres=pd.read_csv('prescriptions.csv')\n"
   ]
  },
  {
   "cell_type": "code",
   "execution_count": 8,
   "metadata": {},
   "outputs": [
    {
     "data": {
      "text/html": [
       "<div>\n",
       "<style scoped>\n",
       "    .dataframe tbody tr th:only-of-type {\n",
       "        vertical-align: middle;\n",
       "    }\n",
       "\n",
       "    .dataframe tbody tr th {\n",
       "        vertical-align: top;\n",
       "    }\n",
       "\n",
       "    .dataframe thead th {\n",
       "        text-align: right;\n",
       "    }\n",
       "</style>\n",
       "<table border=\"1\" class=\"dataframe\">\n",
       "  <thead>\n",
       "    <tr style=\"text-align: right;\">\n",
       "      <th></th>\n",
       "      <th>Unnamed: 0_x</th>\n",
       "      <th>subject_id</th>\n",
       "      <th>hadm_id</th>\n",
       "      <th>race</th>\n",
       "      <th>anchor_age</th>\n",
       "      <th>GD</th>\n",
       "      <th>diabete_history</th>\n",
       "      <th>blood</th>\n",
       "      <th>circulatory</th>\n",
       "      <th>congenital</th>\n",
       "      <th>...</th>\n",
       "      <th>Glucose</th>\n",
       "      <th>Hemoglobin A1c</th>\n",
       "      <th>HDL</th>\n",
       "      <th>LDL</th>\n",
       "      <th>Creatinine</th>\n",
       "      <th>Triglycerides</th>\n",
       "      <th>Urea Nitrogen</th>\n",
       "      <th>Uric Acid</th>\n",
       "      <th>Unnamed: 0_y</th>\n",
       "      <th>insulin</th>\n",
       "    </tr>\n",
       "  </thead>\n",
       "  <tbody>\n",
       "    <tr>\n",
       "      <th>0</th>\n",
       "      <td>0</td>\n",
       "      <td>10000032</td>\n",
       "      <td>22595853</td>\n",
       "      <td>WHITE</td>\n",
       "      <td>SENIOR</td>\n",
       "      <td>0</td>\n",
       "      <td>0</td>\n",
       "      <td>0</td>\n",
       "      <td>0</td>\n",
       "      <td>0</td>\n",
       "      <td>...</td>\n",
       "      <td>NaN</td>\n",
       "      <td>NaN</td>\n",
       "      <td>52.0</td>\n",
       "      <td>135.0</td>\n",
       "      <td>0.466667</td>\n",
       "      <td>73.0</td>\n",
       "      <td>30.388889</td>\n",
       "      <td>NaN</td>\n",
       "      <td>0</td>\n",
       "      <td>0</td>\n",
       "    </tr>\n",
       "    <tr>\n",
       "      <th>1</th>\n",
       "      <td>0</td>\n",
       "      <td>10000032</td>\n",
       "      <td>22595853</td>\n",
       "      <td>WHITE</td>\n",
       "      <td>SENIOR</td>\n",
       "      <td>0</td>\n",
       "      <td>0</td>\n",
       "      <td>0</td>\n",
       "      <td>0</td>\n",
       "      <td>0</td>\n",
       "      <td>...</td>\n",
       "      <td>NaN</td>\n",
       "      <td>NaN</td>\n",
       "      <td>52.0</td>\n",
       "      <td>135.0</td>\n",
       "      <td>0.466667</td>\n",
       "      <td>73.0</td>\n",
       "      <td>30.388889</td>\n",
       "      <td>NaN</td>\n",
       "      <td>1</td>\n",
       "      <td>0</td>\n",
       "    </tr>\n",
       "    <tr>\n",
       "      <th>2</th>\n",
       "      <td>0</td>\n",
       "      <td>10000032</td>\n",
       "      <td>22595853</td>\n",
       "      <td>WHITE</td>\n",
       "      <td>SENIOR</td>\n",
       "      <td>0</td>\n",
       "      <td>0</td>\n",
       "      <td>0</td>\n",
       "      <td>0</td>\n",
       "      <td>0</td>\n",
       "      <td>...</td>\n",
       "      <td>NaN</td>\n",
       "      <td>NaN</td>\n",
       "      <td>52.0</td>\n",
       "      <td>135.0</td>\n",
       "      <td>0.466667</td>\n",
       "      <td>73.0</td>\n",
       "      <td>30.388889</td>\n",
       "      <td>NaN</td>\n",
       "      <td>2</td>\n",
       "      <td>0</td>\n",
       "    </tr>\n",
       "    <tr>\n",
       "      <th>3</th>\n",
       "      <td>0</td>\n",
       "      <td>10000032</td>\n",
       "      <td>22595853</td>\n",
       "      <td>WHITE</td>\n",
       "      <td>SENIOR</td>\n",
       "      <td>0</td>\n",
       "      <td>0</td>\n",
       "      <td>0</td>\n",
       "      <td>0</td>\n",
       "      <td>0</td>\n",
       "      <td>...</td>\n",
       "      <td>NaN</td>\n",
       "      <td>NaN</td>\n",
       "      <td>52.0</td>\n",
       "      <td>135.0</td>\n",
       "      <td>0.466667</td>\n",
       "      <td>73.0</td>\n",
       "      <td>30.388889</td>\n",
       "      <td>NaN</td>\n",
       "      <td>3</td>\n",
       "      <td>0</td>\n",
       "    </tr>\n",
       "    <tr>\n",
       "      <th>4</th>\n",
       "      <td>0</td>\n",
       "      <td>10000032</td>\n",
       "      <td>22595853</td>\n",
       "      <td>WHITE</td>\n",
       "      <td>SENIOR</td>\n",
       "      <td>0</td>\n",
       "      <td>0</td>\n",
       "      <td>0</td>\n",
       "      <td>0</td>\n",
       "      <td>0</td>\n",
       "      <td>...</td>\n",
       "      <td>NaN</td>\n",
       "      <td>NaN</td>\n",
       "      <td>52.0</td>\n",
       "      <td>135.0</td>\n",
       "      <td>0.466667</td>\n",
       "      <td>73.0</td>\n",
       "      <td>30.388889</td>\n",
       "      <td>NaN</td>\n",
       "      <td>4</td>\n",
       "      <td>0</td>\n",
       "    </tr>\n",
       "  </tbody>\n",
       "</table>\n",
       "<p>5 rows × 37 columns</p>\n",
       "</div>"
      ],
      "text/plain": [
       "   Unnamed: 0_x  subject_id   hadm_id   race anchor_age  GD  diabete_history  \\\n",
       "0             0    10000032  22595853  WHITE     SENIOR   0                0   \n",
       "1             0    10000032  22595853  WHITE     SENIOR   0                0   \n",
       "2             0    10000032  22595853  WHITE     SENIOR   0                0   \n",
       "3             0    10000032  22595853  WHITE     SENIOR   0                0   \n",
       "4             0    10000032  22595853  WHITE     SENIOR   0                0   \n",
       "\n",
       "   blood  circulatory  congenital  ...  Glucose  Hemoglobin A1c   HDL    LDL  \\\n",
       "0      0            0           0  ...      NaN             NaN  52.0  135.0   \n",
       "1      0            0           0  ...      NaN             NaN  52.0  135.0   \n",
       "2      0            0           0  ...      NaN             NaN  52.0  135.0   \n",
       "3      0            0           0  ...      NaN             NaN  52.0  135.0   \n",
       "4      0            0           0  ...      NaN             NaN  52.0  135.0   \n",
       "\n",
       "   Creatinine  Triglycerides  Urea Nitrogen  Uric Acid  Unnamed: 0_y  insulin  \n",
       "0    0.466667           73.0      30.388889        NaN             0        0  \n",
       "1    0.466667           73.0      30.388889        NaN             1        0  \n",
       "2    0.466667           73.0      30.388889        NaN             2        0  \n",
       "3    0.466667           73.0      30.388889        NaN             3        0  \n",
       "4    0.466667           73.0      30.388889        NaN             4        0  \n",
       "\n",
       "[5 rows x 37 columns]"
      ]
     },
     "execution_count": 8,
     "metadata": {},
     "output_type": "execute_result"
    }
   ],
   "source": [
    "#merge with final\n",
    "final_df = pd.merge(final_df, pres, on='hadm_id', how='inner')\n",
    "final_df.head()"
   ]
  },
  {
   "cell_type": "code",
   "execution_count": 9,
   "metadata": {},
   "outputs": [
    {
     "name": "stdout",
     "output_type": "stream",
     "text": [
      "<class 'pandas.core.frame.DataFrame'>\n",
      "Int64Index: 47978633 entries, 0 to 47978632\n",
      "Data columns (total 37 columns):\n",
      " #   Column           Dtype  \n",
      "---  ------           -----  \n",
      " 0   Unnamed: 0_x     int64  \n",
      " 1   subject_id       int64  \n",
      " 2   hadm_id          int64  \n",
      " 3   race             object \n",
      " 4   anchor_age       object \n",
      " 5   GD               int64  \n",
      " 6   diabete_history  int64  \n",
      " 7   blood            int64  \n",
      " 8   circulatory      int64  \n",
      " 9   congenital       int64  \n",
      " 10  digestive        int64  \n",
      " 11  endocrine        int64  \n",
      " 12  genitourinary    int64  \n",
      " 13  infectious       int64  \n",
      " 14  injury           int64  \n",
      " 15  mental           int64  \n",
      " 16  misc             int64  \n",
      " 17  muscular         int64  \n",
      " 18  neoplasms        int64  \n",
      " 19  nervous          int64  \n",
      " 20  pregnancy        int64  \n",
      " 21  prenatal         int64  \n",
      " 22  respiratory      int64  \n",
      " 23  skin             int64  \n",
      " 24  BMI              float64\n",
      " 25  Systolic_BP      int64  \n",
      " 26  Diastolic_BP     int64  \n",
      " 27  Glucose          float64\n",
      " 28  Hemoglobin A1c   float64\n",
      " 29  HDL              float64\n",
      " 30  LDL              float64\n",
      " 31  Creatinine       float64\n",
      " 32  Triglycerides    float64\n",
      " 33  Urea Nitrogen    float64\n",
      " 34  Uric Acid        float64\n",
      " 35  Unnamed: 0_y     int64  \n",
      " 36  insulin          int64  \n",
      "dtypes: float64(9), int64(26), object(2)\n",
      "memory usage: 13.6+ GB\n"
     ]
    }
   ],
   "source": [
    "final_df.info()\n"
   ]
  },
  {
   "cell_type": "code",
   "execution_count": 10,
   "metadata": {},
   "outputs": [
    {
     "name": "stdout",
     "output_type": "stream",
     "text": [
      "<class 'pandas.core.frame.DataFrame'>\n",
      "Int64Index: 47978633 entries, 0 to 47978632\n",
      "Data columns (total 35 columns):\n",
      " #   Column           Dtype  \n",
      "---  ------           -----  \n",
      " 0   subject_id       int64  \n",
      " 1   hadm_id          int64  \n",
      " 2   race             object \n",
      " 3   anchor_age       object \n",
      " 4   GD               int64  \n",
      " 5   diabete_history  int64  \n",
      " 6   blood            int64  \n",
      " 7   circulatory      int64  \n",
      " 8   congenital       int64  \n",
      " 9   digestive        int64  \n",
      " 10  endocrine        int64  \n",
      " 11  genitourinary    int64  \n",
      " 12  infectious       int64  \n",
      " 13  injury           int64  \n",
      " 14  mental           int64  \n",
      " 15  misc             int64  \n",
      " 16  muscular         int64  \n",
      " 17  neoplasms        int64  \n",
      " 18  nervous          int64  \n",
      " 19  pregnancy        int64  \n",
      " 20  prenatal         int64  \n",
      " 21  respiratory      int64  \n",
      " 22  skin             int64  \n",
      " 23  BMI              float64\n",
      " 24  Systolic_BP      int64  \n",
      " 25  Diastolic_BP     int64  \n",
      " 26  Glucose          float64\n",
      " 27  Hemoglobin A1c   float64\n",
      " 28  HDL              float64\n",
      " 29  LDL              float64\n",
      " 30  Creatinine       float64\n",
      " 31  Triglycerides    float64\n",
      " 32  Urea Nitrogen    float64\n",
      " 33  Uric Acid        float64\n",
      " 34  insulin          int64  \n",
      "dtypes: float64(9), int64(24), object(2)\n",
      "memory usage: 12.9+ GB\n"
     ]
    }
   ],
   "source": [
    "final_df.drop(columns=['Unnamed: 0_x', 'Unnamed: 0_y'], inplace=True)\n",
    "final_df.info()\n"
   ]
  },
  {
   "cell_type": "markdown",
   "metadata": {},
   "source": []
  },
  {
   "attachments": {},
   "cell_type": "markdown",
   "metadata": {},
   "source": [
    "Here the final_df is too big for me to deal with, I tried to keep the insulin result, but my computer cannot handle it. As a result,adm_pat_dia_omr_lab will be the final_df instead."
   ]
  },
  {
   "cell_type": "code",
   "execution_count": 3,
   "metadata": {},
   "outputs": [],
   "source": [
    "final_df= pd.read_csv('adm_pat_dia_omr_lab.csv')"
   ]
  },
  {
   "cell_type": "code",
   "execution_count": 4,
   "metadata": {},
   "outputs": [
    {
     "data": {
      "text/html": [
       "<div>\n",
       "<style scoped>\n",
       "    .dataframe tbody tr th:only-of-type {\n",
       "        vertical-align: middle;\n",
       "    }\n",
       "\n",
       "    .dataframe tbody tr th {\n",
       "        vertical-align: top;\n",
       "    }\n",
       "\n",
       "    .dataframe thead th {\n",
       "        text-align: right;\n",
       "    }\n",
       "</style>\n",
       "<table border=\"1\" class=\"dataframe\">\n",
       "  <thead>\n",
       "    <tr style=\"text-align: right;\">\n",
       "      <th></th>\n",
       "      <th>Unnamed: 0.1</th>\n",
       "      <th>Unnamed: 0</th>\n",
       "      <th>subject_id</th>\n",
       "      <th>hadm_id</th>\n",
       "      <th>race</th>\n",
       "      <th>anchor_age</th>\n",
       "      <th>GD</th>\n",
       "      <th>diabete_history</th>\n",
       "      <th>blood</th>\n",
       "      <th>circulatory</th>\n",
       "      <th>...</th>\n",
       "      <th>Systolic_BP</th>\n",
       "      <th>Diastolic_BP</th>\n",
       "      <th>Glucose</th>\n",
       "      <th>Hemoglobin A1c</th>\n",
       "      <th>HDL</th>\n",
       "      <th>LDL</th>\n",
       "      <th>Creatinine</th>\n",
       "      <th>Triglycerides</th>\n",
       "      <th>Urea Nitrogen</th>\n",
       "      <th>Uric Acid</th>\n",
       "    </tr>\n",
       "  </thead>\n",
       "  <tbody>\n",
       "    <tr>\n",
       "      <th>0</th>\n",
       "      <td>0</td>\n",
       "      <td>0</td>\n",
       "      <td>10000032</td>\n",
       "      <td>22595853</td>\n",
       "      <td>WHITE</td>\n",
       "      <td>SENIOR</td>\n",
       "      <td>0</td>\n",
       "      <td>0</td>\n",
       "      <td>0</td>\n",
       "      <td>0</td>\n",
       "      <td>...</td>\n",
       "      <td>110</td>\n",
       "      <td>65</td>\n",
       "      <td>NaN</td>\n",
       "      <td>NaN</td>\n",
       "      <td>52.0</td>\n",
       "      <td>135.0</td>\n",
       "      <td>0.466667</td>\n",
       "      <td>73.0</td>\n",
       "      <td>30.388889</td>\n",
       "      <td>NaN</td>\n",
       "    </tr>\n",
       "    <tr>\n",
       "      <th>1</th>\n",
       "      <td>1</td>\n",
       "      <td>1</td>\n",
       "      <td>10000032</td>\n",
       "      <td>22595853</td>\n",
       "      <td>WHITE</td>\n",
       "      <td>SENIOR</td>\n",
       "      <td>0</td>\n",
       "      <td>0</td>\n",
       "      <td>0</td>\n",
       "      <td>0</td>\n",
       "      <td>...</td>\n",
       "      <td>110</td>\n",
       "      <td>65</td>\n",
       "      <td>NaN</td>\n",
       "      <td>NaN</td>\n",
       "      <td>52.0</td>\n",
       "      <td>135.0</td>\n",
       "      <td>0.466667</td>\n",
       "      <td>73.0</td>\n",
       "      <td>30.388889</td>\n",
       "      <td>NaN</td>\n",
       "    </tr>\n",
       "    <tr>\n",
       "      <th>2</th>\n",
       "      <td>2</td>\n",
       "      <td>2</td>\n",
       "      <td>10000032</td>\n",
       "      <td>22595853</td>\n",
       "      <td>WHITE</td>\n",
       "      <td>SENIOR</td>\n",
       "      <td>0</td>\n",
       "      <td>0</td>\n",
       "      <td>0</td>\n",
       "      <td>0</td>\n",
       "      <td>...</td>\n",
       "      <td>110</td>\n",
       "      <td>65</td>\n",
       "      <td>NaN</td>\n",
       "      <td>NaN</td>\n",
       "      <td>52.0</td>\n",
       "      <td>135.0</td>\n",
       "      <td>0.466667</td>\n",
       "      <td>73.0</td>\n",
       "      <td>30.388889</td>\n",
       "      <td>NaN</td>\n",
       "    </tr>\n",
       "    <tr>\n",
       "      <th>3</th>\n",
       "      <td>3</td>\n",
       "      <td>3</td>\n",
       "      <td>10000032</td>\n",
       "      <td>22595853</td>\n",
       "      <td>WHITE</td>\n",
       "      <td>SENIOR</td>\n",
       "      <td>0</td>\n",
       "      <td>0</td>\n",
       "      <td>0</td>\n",
       "      <td>0</td>\n",
       "      <td>...</td>\n",
       "      <td>110</td>\n",
       "      <td>65</td>\n",
       "      <td>NaN</td>\n",
       "      <td>NaN</td>\n",
       "      <td>52.0</td>\n",
       "      <td>135.0</td>\n",
       "      <td>0.466667</td>\n",
       "      <td>73.0</td>\n",
       "      <td>30.388889</td>\n",
       "      <td>NaN</td>\n",
       "    </tr>\n",
       "    <tr>\n",
       "      <th>4</th>\n",
       "      <td>4</td>\n",
       "      <td>4</td>\n",
       "      <td>10000032</td>\n",
       "      <td>22595853</td>\n",
       "      <td>WHITE</td>\n",
       "      <td>SENIOR</td>\n",
       "      <td>0</td>\n",
       "      <td>0</td>\n",
       "      <td>0</td>\n",
       "      <td>0</td>\n",
       "      <td>...</td>\n",
       "      <td>110</td>\n",
       "      <td>65</td>\n",
       "      <td>NaN</td>\n",
       "      <td>NaN</td>\n",
       "      <td>52.0</td>\n",
       "      <td>135.0</td>\n",
       "      <td>0.466667</td>\n",
       "      <td>73.0</td>\n",
       "      <td>30.388889</td>\n",
       "      <td>NaN</td>\n",
       "    </tr>\n",
       "  </tbody>\n",
       "</table>\n",
       "<p>5 rows × 36 columns</p>\n",
       "</div>"
      ],
      "text/plain": [
       "   Unnamed: 0.1  Unnamed: 0  subject_id   hadm_id   race anchor_age  GD  \\\n",
       "0             0           0    10000032  22595853  WHITE     SENIOR   0   \n",
       "1             1           1    10000032  22595853  WHITE     SENIOR   0   \n",
       "2             2           2    10000032  22595853  WHITE     SENIOR   0   \n",
       "3             3           3    10000032  22595853  WHITE     SENIOR   0   \n",
       "4             4           4    10000032  22595853  WHITE     SENIOR   0   \n",
       "\n",
       "   diabete_history  blood  circulatory  ...  Systolic_BP  Diastolic_BP  \\\n",
       "0                0      0            0  ...          110            65   \n",
       "1                0      0            0  ...          110            65   \n",
       "2                0      0            0  ...          110            65   \n",
       "3                0      0            0  ...          110            65   \n",
       "4                0      0            0  ...          110            65   \n",
       "\n",
       "   Glucose  Hemoglobin A1c   HDL    LDL  Creatinine  Triglycerides  \\\n",
       "0      NaN             NaN  52.0  135.0    0.466667           73.0   \n",
       "1      NaN             NaN  52.0  135.0    0.466667           73.0   \n",
       "2      NaN             NaN  52.0  135.0    0.466667           73.0   \n",
       "3      NaN             NaN  52.0  135.0    0.466667           73.0   \n",
       "4      NaN             NaN  52.0  135.0    0.466667           73.0   \n",
       "\n",
       "   Urea Nitrogen  Uric Acid  \n",
       "0      30.388889        NaN  \n",
       "1      30.388889        NaN  \n",
       "2      30.388889        NaN  \n",
       "3      30.388889        NaN  \n",
       "4      30.388889        NaN  \n",
       "\n",
       "[5 rows x 36 columns]"
      ]
     },
     "execution_count": 4,
     "metadata": {},
     "output_type": "execute_result"
    }
   ],
   "source": [
    "final_df.head()"
   ]
  },
  {
   "cell_type": "code",
   "execution_count": 5,
   "metadata": {},
   "outputs": [
    {
     "name": "stdout",
     "output_type": "stream",
     "text": [
      "<class 'pandas.core.frame.DataFrame'>\n",
      "RangeIndex: 984014 entries, 0 to 984013\n",
      "Data columns (total 36 columns):\n",
      " #   Column           Non-Null Count   Dtype  \n",
      "---  ------           --------------   -----  \n",
      " 0   Unnamed: 0.1     984014 non-null  int64  \n",
      " 1   Unnamed: 0       984014 non-null  int64  \n",
      " 2   subject_id       984014 non-null  int64  \n",
      " 3   hadm_id          984014 non-null  int64  \n",
      " 4   race             984014 non-null  object \n",
      " 5   anchor_age       984014 non-null  object \n",
      " 6   GD               984014 non-null  int64  \n",
      " 7   diabete_history  984014 non-null  int64  \n",
      " 8   blood            984014 non-null  int64  \n",
      " 9   circulatory      984014 non-null  int64  \n",
      " 10  congenital       984014 non-null  int64  \n",
      " 11  digestive        984014 non-null  int64  \n",
      " 12  endocrine        984014 non-null  int64  \n",
      " 13  genitourinary    984014 non-null  int64  \n",
      " 14  infectious       984014 non-null  int64  \n",
      " 15  injury           984014 non-null  int64  \n",
      " 16  mental           984014 non-null  int64  \n",
      " 17  misc             984014 non-null  int64  \n",
      " 18  muscular         984014 non-null  int64  \n",
      " 19  neoplasms        984014 non-null  int64  \n",
      " 20  nervous          984014 non-null  int64  \n",
      " 21  pregnancy        984014 non-null  int64  \n",
      " 22  prenatal         984014 non-null  int64  \n",
      " 23  respiratory      984014 non-null  int64  \n",
      " 24  skin             984014 non-null  int64  \n",
      " 25  BMI              984014 non-null  float64\n",
      " 26  Systolic_BP      984014 non-null  int64  \n",
      " 27  Diastolic_BP     984014 non-null  int64  \n",
      " 28  Glucose          447328 non-null  float64\n",
      " 29  Hemoglobin A1c   638414 non-null  float64\n",
      " 30  HDL              636651 non-null  float64\n",
      " 31  LDL              617636 non-null  float64\n",
      " 32  Creatinine       982016 non-null  float64\n",
      " 33  Triglycerides    676864 non-null  float64\n",
      " 34  Urea Nitrogen    978168 non-null  float64\n",
      " 35  Uric Acid        348463 non-null  float64\n",
      "dtypes: float64(9), int64(25), object(2)\n",
      "memory usage: 270.3+ MB\n"
     ]
    }
   ],
   "source": [
    "final_df.info()"
   ]
  },
  {
   "cell_type": "code",
   "execution_count": 6,
   "metadata": {},
   "outputs": [
    {
     "data": {
      "text/plain": [
       "0    846851\n",
       "1    137163\n",
       "Name: GD, dtype: int64"
      ]
     },
     "execution_count": 6,
     "metadata": {},
     "output_type": "execute_result"
    }
   ],
   "source": [
    "final_df.GD.value_counts()"
   ]
  },
  {
   "attachments": {},
   "cell_type": "markdown",
   "metadata": {},
   "source": [
    "Data Cleaning"
   ]
  },
  {
   "cell_type": "code",
   "execution_count": 7,
   "metadata": {},
   "outputs": [
    {
     "name": "stdout",
     "output_type": "stream",
     "text": [
      "<class 'pandas.core.frame.DataFrame'>\n",
      "RangeIndex: 984014 entries, 0 to 984013\n",
      "Data columns (total 32 columns):\n",
      " #   Column           Non-Null Count   Dtype  \n",
      "---  ------           --------------   -----  \n",
      " 0   race             984014 non-null  object \n",
      " 1   anchor_age       984014 non-null  object \n",
      " 2   GD               984014 non-null  int64  \n",
      " 3   diabete_history  984014 non-null  int64  \n",
      " 4   blood            984014 non-null  int64  \n",
      " 5   circulatory      984014 non-null  int64  \n",
      " 6   congenital       984014 non-null  int64  \n",
      " 7   digestive        984014 non-null  int64  \n",
      " 8   endocrine        984014 non-null  int64  \n",
      " 9   genitourinary    984014 non-null  int64  \n",
      " 10  infectious       984014 non-null  int64  \n",
      " 11  injury           984014 non-null  int64  \n",
      " 12  mental           984014 non-null  int64  \n",
      " 13  misc             984014 non-null  int64  \n",
      " 14  muscular         984014 non-null  int64  \n",
      " 15  neoplasms        984014 non-null  int64  \n",
      " 16  nervous          984014 non-null  int64  \n",
      " 17  pregnancy        984014 non-null  int64  \n",
      " 18  prenatal         984014 non-null  int64  \n",
      " 19  respiratory      984014 non-null  int64  \n",
      " 20  skin             984014 non-null  int64  \n",
      " 21  BMI              984014 non-null  float64\n",
      " 22  Systolic_BP      984014 non-null  int64  \n",
      " 23  Diastolic_BP     984014 non-null  int64  \n",
      " 24  Glucose          447328 non-null  float64\n",
      " 25  Hemoglobin A1c   638414 non-null  float64\n",
      " 26  HDL              636651 non-null  float64\n",
      " 27  LDL              617636 non-null  float64\n",
      " 28  Creatinine       982016 non-null  float64\n",
      " 29  Triglycerides    676864 non-null  float64\n",
      " 30  Urea Nitrogen    978168 non-null  float64\n",
      " 31  Uric Acid        348463 non-null  float64\n",
      "dtypes: float64(9), int64(21), object(2)\n",
      "memory usage: 240.2+ MB\n"
     ]
    }
   ],
   "source": [
    "# Drop unused or no longer needed columns\n",
    "final_df.drop(columns=['subject_id', 'hadm_id','Unnamed: 0.1','Unnamed: 0'], inplace=True)\n",
    "\n",
    "final_df.info()\n"
   ]
  },
  {
   "cell_type": "code",
   "execution_count": 8,
   "metadata": {},
   "outputs": [
    {
     "data": {
      "text/plain": [
       "race                    0\n",
       "anchor_age              0\n",
       "GD                      0\n",
       "diabete_history         0\n",
       "blood                   0\n",
       "circulatory             0\n",
       "congenital              0\n",
       "digestive               0\n",
       "endocrine               0\n",
       "genitourinary           0\n",
       "infectious              0\n",
       "injury                  0\n",
       "mental                  0\n",
       "misc                    0\n",
       "muscular                0\n",
       "neoplasms               0\n",
       "nervous                 0\n",
       "pregnancy               0\n",
       "prenatal                0\n",
       "respiratory             0\n",
       "skin                    0\n",
       "BMI                     0\n",
       "Systolic_BP             0\n",
       "Diastolic_BP            0\n",
       "Glucose            536686\n",
       "Hemoglobin A1c     345600\n",
       "HDL                347363\n",
       "LDL                366378\n",
       "Creatinine           1998\n",
       "Triglycerides      307150\n",
       "Urea Nitrogen        5846\n",
       "Uric Acid          635551\n",
       "dtype: int64"
      ]
     },
     "execution_count": 8,
     "metadata": {},
     "output_type": "execute_result"
    }
   ],
   "source": [
    "final_df.isnull().sum()\n"
   ]
  },
  {
   "cell_type": "code",
   "execution_count": 9,
   "metadata": {},
   "outputs": [
    {
     "data": {
      "text/plain": [
       "348463"
      ]
     },
     "execution_count": 9,
     "metadata": {},
     "output_type": "execute_result"
    }
   ],
   "source": [
    "final_df['Uric Acid'].count()\n"
   ]
  },
  {
   "attachments": {},
   "cell_type": "markdown",
   "metadata": {},
   "source": [
    "Number of missing values is 635551, much more than the existed value,  fill in this value may lead to bias, drop the rows with missing values could be a better choice.\n",
    "\n"
   ]
  },
  {
   "cell_type": "code",
   "execution_count": 10,
   "metadata": {},
   "outputs": [
    {
     "name": "stdout",
     "output_type": "stream",
     "text": [
      "<class 'pandas.core.frame.DataFrame'>\n",
      "RangeIndex: 984014 entries, 0 to 984013\n",
      "Data columns (total 31 columns):\n",
      " #   Column           Non-Null Count   Dtype  \n",
      "---  ------           --------------   -----  \n",
      " 0   race             984014 non-null  object \n",
      " 1   anchor_age       984014 non-null  object \n",
      " 2   GD               984014 non-null  int64  \n",
      " 3   diabete_history  984014 non-null  int64  \n",
      " 4   blood            984014 non-null  int64  \n",
      " 5   circulatory      984014 non-null  int64  \n",
      " 6   congenital       984014 non-null  int64  \n",
      " 7   digestive        984014 non-null  int64  \n",
      " 8   endocrine        984014 non-null  int64  \n",
      " 9   genitourinary    984014 non-null  int64  \n",
      " 10  infectious       984014 non-null  int64  \n",
      " 11  injury           984014 non-null  int64  \n",
      " 12  mental           984014 non-null  int64  \n",
      " 13  misc             984014 non-null  int64  \n",
      " 14  muscular         984014 non-null  int64  \n",
      " 15  neoplasms        984014 non-null  int64  \n",
      " 16  nervous          984014 non-null  int64  \n",
      " 17  pregnancy        984014 non-null  int64  \n",
      " 18  prenatal         984014 non-null  int64  \n",
      " 19  respiratory      984014 non-null  int64  \n",
      " 20  skin             984014 non-null  int64  \n",
      " 21  BMI              984014 non-null  float64\n",
      " 22  Systolic_BP      984014 non-null  int64  \n",
      " 23  Diastolic_BP     984014 non-null  int64  \n",
      " 24  Glucose          447328 non-null  float64\n",
      " 25  Hemoglobin A1c   638414 non-null  float64\n",
      " 26  HDL              636651 non-null  float64\n",
      " 27  LDL              617636 non-null  float64\n",
      " 28  Creatinine       982016 non-null  float64\n",
      " 29  Triglycerides    676864 non-null  float64\n",
      " 30  Urea Nitrogen    978168 non-null  float64\n",
      "dtypes: float64(8), int64(21), object(2)\n",
      "memory usage: 232.7+ MB\n"
     ]
    }
   ],
   "source": [
    "final_df.drop(columns=['Uric Acid'], inplace=True)\n",
    "final_df.info()\n"
   ]
  },
  {
   "cell_type": "code",
   "execution_count": 12,
   "metadata": {},
   "outputs": [
    {
     "data": {
      "text/plain": [
       "447328"
      ]
     },
     "execution_count": 12,
     "metadata": {},
     "output_type": "execute_result"
    }
   ],
   "source": [
    "final_df['Glucose'].count()"
   ]
  },
  {
   "cell_type": "code",
   "execution_count": 13,
   "metadata": {},
   "outputs": [
    {
     "name": "stdout",
     "output_type": "stream",
     "text": [
      "<class 'pandas.core.frame.DataFrame'>\n",
      "Int64Index: 447328 entries, 61 to 984013\n",
      "Data columns (total 31 columns):\n",
      " #   Column           Non-Null Count   Dtype  \n",
      "---  ------           --------------   -----  \n",
      " 0   race             447328 non-null  object \n",
      " 1   anchor_age       447328 non-null  object \n",
      " 2   GD               447328 non-null  int64  \n",
      " 3   diabete_history  447328 non-null  int64  \n",
      " 4   blood            447328 non-null  int64  \n",
      " 5   circulatory      447328 non-null  int64  \n",
      " 6   congenital       447328 non-null  int64  \n",
      " 7   digestive        447328 non-null  int64  \n",
      " 8   endocrine        447328 non-null  int64  \n",
      " 9   genitourinary    447328 non-null  int64  \n",
      " 10  infectious       447328 non-null  int64  \n",
      " 11  injury           447328 non-null  int64  \n",
      " 12  mental           447328 non-null  int64  \n",
      " 13  misc             447328 non-null  int64  \n",
      " 14  muscular         447328 non-null  int64  \n",
      " 15  neoplasms        447328 non-null  int64  \n",
      " 16  nervous          447328 non-null  int64  \n",
      " 17  pregnancy        447328 non-null  int64  \n",
      " 18  prenatal         447328 non-null  int64  \n",
      " 19  respiratory      447328 non-null  int64  \n",
      " 20  skin             447328 non-null  int64  \n",
      " 21  BMI              447328 non-null  float64\n",
      " 22  Systolic_BP      447328 non-null  int64  \n",
      " 23  Diastolic_BP     447328 non-null  int64  \n",
      " 24  Glucose          447328 non-null  float64\n",
      " 25  Hemoglobin A1c   348940 non-null  float64\n",
      " 26  HDL              331505 non-null  float64\n",
      " 27  LDL              323861 non-null  float64\n",
      " 28  Creatinine       447265 non-null  float64\n",
      " 29  Triglycerides    355449 non-null  float64\n",
      " 30  Urea Nitrogen    447270 non-null  float64\n",
      "dtypes: float64(8), int64(21), object(2)\n",
      "memory usage: 109.2+ MB\n"
     ]
    }
   ],
   "source": [
    "# Considering I'm focusing on gestational diabetes, the glucose level is very important. Drop rows that glucose value is NaN\n",
    "final_df = final_df.dropna(subset=['Glucose'])\n",
    "final_df.info()\n"
   ]
  },
  {
   "cell_type": "code",
   "execution_count": 14,
   "metadata": {},
   "outputs": [
    {
     "data": {
      "text/plain": [
       "race                    0\n",
       "anchor_age              0\n",
       "GD                      0\n",
       "diabete_history         0\n",
       "blood                   0\n",
       "circulatory             0\n",
       "congenital              0\n",
       "digestive               0\n",
       "endocrine               0\n",
       "genitourinary           0\n",
       "infectious              0\n",
       "injury                  0\n",
       "mental                  0\n",
       "misc                    0\n",
       "muscular                0\n",
       "neoplasms               0\n",
       "nervous                 0\n",
       "pregnancy               0\n",
       "prenatal                0\n",
       "respiratory             0\n",
       "skin                    0\n",
       "BMI                     0\n",
       "Systolic_BP             0\n",
       "Diastolic_BP            0\n",
       "Glucose                 0\n",
       "Hemoglobin A1c      98388\n",
       "HDL                115823\n",
       "LDL                123467\n",
       "Creatinine             63\n",
       "Triglycerides       91879\n",
       "Urea Nitrogen          58\n",
       "dtype: int64"
      ]
     },
     "execution_count": 14,
     "metadata": {},
     "output_type": "execute_result"
    }
   ],
   "source": [
    "final_df.isnull().sum()\n"
   ]
  },
  {
   "cell_type": "code",
   "execution_count": 15,
   "metadata": {},
   "outputs": [
    {
     "name": "stdout",
     "output_type": "stream",
     "text": [
      "<class 'pandas.core.frame.DataFrame'>\n",
      "Int64Index: 447328 entries, 61 to 984013\n",
      "Data columns (total 38 columns):\n",
      " #   Column              Non-Null Count   Dtype  \n",
      "---  ------              --------------   -----  \n",
      " 0   GD                  447328 non-null  int64  \n",
      " 1   diabete_history     447328 non-null  int64  \n",
      " 2   blood               447328 non-null  int64  \n",
      " 3   circulatory         447328 non-null  int64  \n",
      " 4   congenital          447328 non-null  int64  \n",
      " 5   digestive           447328 non-null  int64  \n",
      " 6   endocrine           447328 non-null  int64  \n",
      " 7   genitourinary       447328 non-null  int64  \n",
      " 8   infectious          447328 non-null  int64  \n",
      " 9   injury              447328 non-null  int64  \n",
      " 10  mental              447328 non-null  int64  \n",
      " 11  misc                447328 non-null  int64  \n",
      " 12  muscular            447328 non-null  int64  \n",
      " 13  neoplasms           447328 non-null  int64  \n",
      " 14  nervous             447328 non-null  int64  \n",
      " 15  pregnancy           447328 non-null  int64  \n",
      " 16  prenatal            447328 non-null  int64  \n",
      " 17  respiratory         447328 non-null  int64  \n",
      " 18  skin                447328 non-null  int64  \n",
      " 19  BMI                 447328 non-null  float64\n",
      " 20  Systolic_BP         447328 non-null  int64  \n",
      " 21  Diastolic_BP        447328 non-null  int64  \n",
      " 22  Glucose             447328 non-null  float64\n",
      " 23  Hemoglobin A1c      348940 non-null  float64\n",
      " 24  HDL                 331505 non-null  float64\n",
      " 25  LDL                 323861 non-null  float64\n",
      " 26  Creatinine          447265 non-null  float64\n",
      " 27  Triglycerides       355449 non-null  float64\n",
      " 28  Urea Nitrogen       447270 non-null  float64\n",
      " 29  RACE_ASIAN          447328 non-null  uint8  \n",
      " 30  RACE_BLACK          447328 non-null  uint8  \n",
      " 31  RACE_HISPANIC       447328 non-null  uint8  \n",
      " 32  RACE_OTHER/UNKNOWN  447328 non-null  uint8  \n",
      " 33  RACE_WHITE          447328 non-null  uint8  \n",
      " 34  AGE_MIDDLE_ADULT    447328 non-null  uint8  \n",
      " 35  AGE_OLD_ADULT       447328 non-null  uint8  \n",
      " 36  AGE_SENIOR          447328 non-null  uint8  \n",
      " 37  AGE_YOUNG_ADULT     447328 non-null  uint8  \n",
      "dtypes: float64(8), int64(21), uint8(9)\n",
      "memory usage: 106.2 MB\n"
     ]
    }
   ],
   "source": [
    "# Create dummy columns for categorical variables\n",
    "prefix_cols = ['RACE', 'AGE']\n",
    "dummy_cols = ['race', 'anchor_age']\n",
    "final_df = pd.get_dummies(final_df, prefix=prefix_cols, columns=dummy_cols)\n",
    "final_df.info()\n"
   ]
  },
  {
   "cell_type": "code",
   "execution_count": 16,
   "metadata": {},
   "outputs": [
    {
     "name": "stdout",
     "output_type": "stream",
     "text": [
      "<class 'pandas.core.frame.DataFrame'>\n",
      "Int64Index: 447254 entries, 61 to 984013\n",
      "Data columns (total 38 columns):\n",
      " #   Column              Non-Null Count   Dtype  \n",
      "---  ------              --------------   -----  \n",
      " 0   GD                  447254 non-null  int64  \n",
      " 1   diabete_history     447254 non-null  int64  \n",
      " 2   blood               447254 non-null  int64  \n",
      " 3   circulatory         447254 non-null  int64  \n",
      " 4   congenital          447254 non-null  int64  \n",
      " 5   digestive           447254 non-null  int64  \n",
      " 6   endocrine           447254 non-null  int64  \n",
      " 7   genitourinary       447254 non-null  int64  \n",
      " 8   infectious          447254 non-null  int64  \n",
      " 9   injury              447254 non-null  int64  \n",
      " 10  mental              447254 non-null  int64  \n",
      " 11  misc                447254 non-null  int64  \n",
      " 12  muscular            447254 non-null  int64  \n",
      " 13  neoplasms           447254 non-null  int64  \n",
      " 14  nervous             447254 non-null  int64  \n",
      " 15  pregnancy           447254 non-null  int64  \n",
      " 16  prenatal            447254 non-null  int64  \n",
      " 17  respiratory         447254 non-null  int64  \n",
      " 18  skin                447254 non-null  int64  \n",
      " 19  BMI                 447254 non-null  float64\n",
      " 20  Systolic_BP         447254 non-null  int64  \n",
      " 21  Diastolic_BP        447254 non-null  int64  \n",
      " 22  Glucose             447254 non-null  float64\n",
      " 23  Hemoglobin A1c      348929 non-null  float64\n",
      " 24  HDL                 331480 non-null  float64\n",
      " 25  LDL                 323836 non-null  float64\n",
      " 26  Creatinine          447254 non-null  float64\n",
      " 27  Triglycerides       355424 non-null  float64\n",
      " 28  Urea Nitrogen       447254 non-null  float64\n",
      " 29  RACE_ASIAN          447254 non-null  uint8  \n",
      " 30  RACE_BLACK          447254 non-null  uint8  \n",
      " 31  RACE_HISPANIC       447254 non-null  uint8  \n",
      " 32  RACE_OTHER/UNKNOWN  447254 non-null  uint8  \n",
      " 33  RACE_WHITE          447254 non-null  uint8  \n",
      " 34  AGE_MIDDLE_ADULT    447254 non-null  uint8  \n",
      " 35  AGE_OLD_ADULT       447254 non-null  uint8  \n",
      " 36  AGE_SENIOR          447254 non-null  uint8  \n",
      " 37  AGE_YOUNG_ADULT     447254 non-null  uint8  \n",
      "dtypes: float64(8), int64(21), uint8(9)\n",
      "memory usage: 106.2 MB\n"
     ]
    }
   ],
   "source": [
    "# The missing values of Creatinine and Urea Nitrogen are very small, just drop the rows with their missing values.\n",
    "final_df = final_df.dropna(subset=['Creatinine'])\n",
    "final_df = final_df.dropna(subset=['Urea Nitrogen'])\n",
    "final_df.info()\n"
   ]
  },
  {
   "cell_type": "code",
   "execution_count": 17,
   "metadata": {},
   "outputs": [
    {
     "data": {
      "text/plain": [
       "GD                         0\n",
       "diabete_history            0\n",
       "blood                      0\n",
       "circulatory                0\n",
       "congenital                 0\n",
       "digestive                  0\n",
       "endocrine                  0\n",
       "genitourinary              0\n",
       "infectious                 0\n",
       "injury                     0\n",
       "mental                     0\n",
       "misc                       0\n",
       "muscular                   0\n",
       "neoplasms                  0\n",
       "nervous                    0\n",
       "pregnancy                  0\n",
       "prenatal                   0\n",
       "respiratory                0\n",
       "skin                       0\n",
       "BMI                        0\n",
       "Systolic_BP                0\n",
       "Diastolic_BP               0\n",
       "Glucose                    0\n",
       "Hemoglobin A1c         98325\n",
       "HDL                   115774\n",
       "LDL                   123418\n",
       "Creatinine                 0\n",
       "Triglycerides          91830\n",
       "Urea Nitrogen              0\n",
       "RACE_ASIAN                 0\n",
       "RACE_BLACK                 0\n",
       "RACE_HISPANIC              0\n",
       "RACE_OTHER/UNKNOWN         0\n",
       "RACE_WHITE                 0\n",
       "AGE_MIDDLE_ADULT           0\n",
       "AGE_OLD_ADULT              0\n",
       "AGE_SENIOR                 0\n",
       "AGE_YOUNG_ADULT            0\n",
       "dtype: int64"
      ]
     },
     "execution_count": 17,
     "metadata": {},
     "output_type": "execute_result"
    }
   ],
   "source": [
    "final_df.isnull().sum()\n"
   ]
  },
  {
   "attachments": {},
   "cell_type": "markdown",
   "metadata": {},
   "source": [
    "Missing data, which were common in the databases, would introduce bias to subsequent analysis ; to avoid introducing this bias, I excluded covariates with > 40% missing data and patients with > 20% missing covariates."
   ]
  },
  {
   "cell_type": "code",
   "execution_count": 18,
   "metadata": {},
   "outputs": [],
   "source": [
    "# 计算每个变量的缺失率\n",
    "var_missing = final_df.isnull().sum() / len(final_df)\n",
    "# 选取缺失率小于40%的变量\n",
    "selected_vars = var_missing[var_missing < 0.4].index\n",
    "# 保留选中的变量\n",
    "final_df = final_df[selected_vars]\n"
   ]
  },
  {
   "cell_type": "code",
   "execution_count": 19,
   "metadata": {},
   "outputs": [],
   "source": [
    "# 计算每个患者的缺失率\n",
    "patient_missing = final_df.isnull().sum(axis=1) / len(final_df.columns)\n",
    "# 选取缺失率小于20%的患者\n",
    "selected_patients = patient_missing[patient_missing < 0.2].index\n",
    "# 保留选中的患者\n",
    "final_df = final_df.loc[selected_patients, :]\n"
   ]
  },
  {
   "cell_type": "code",
   "execution_count": 20,
   "metadata": {},
   "outputs": [
    {
     "name": "stdout",
     "output_type": "stream",
     "text": [
      "<class 'pandas.core.frame.DataFrame'>\n",
      "Int64Index: 447254 entries, 61 to 984013\n",
      "Data columns (total 38 columns):\n",
      " #   Column              Non-Null Count   Dtype  \n",
      "---  ------              --------------   -----  \n",
      " 0   GD                  447254 non-null  int64  \n",
      " 1   diabete_history     447254 non-null  int64  \n",
      " 2   blood               447254 non-null  int64  \n",
      " 3   circulatory         447254 non-null  int64  \n",
      " 4   congenital          447254 non-null  int64  \n",
      " 5   digestive           447254 non-null  int64  \n",
      " 6   endocrine           447254 non-null  int64  \n",
      " 7   genitourinary       447254 non-null  int64  \n",
      " 8   infectious          447254 non-null  int64  \n",
      " 9   injury              447254 non-null  int64  \n",
      " 10  mental              447254 non-null  int64  \n",
      " 11  misc                447254 non-null  int64  \n",
      " 12  muscular            447254 non-null  int64  \n",
      " 13  neoplasms           447254 non-null  int64  \n",
      " 14  nervous             447254 non-null  int64  \n",
      " 15  pregnancy           447254 non-null  int64  \n",
      " 16  prenatal            447254 non-null  int64  \n",
      " 17  respiratory         447254 non-null  int64  \n",
      " 18  skin                447254 non-null  int64  \n",
      " 19  BMI                 447254 non-null  float64\n",
      " 20  Systolic_BP         447254 non-null  int64  \n",
      " 21  Diastolic_BP        447254 non-null  int64  \n",
      " 22  Glucose             447254 non-null  float64\n",
      " 23  Hemoglobin A1c      348929 non-null  float64\n",
      " 24  HDL                 331480 non-null  float64\n",
      " 25  LDL                 323836 non-null  float64\n",
      " 26  Creatinine          447254 non-null  float64\n",
      " 27  Triglycerides       355424 non-null  float64\n",
      " 28  Urea Nitrogen       447254 non-null  float64\n",
      " 29  RACE_ASIAN          447254 non-null  uint8  \n",
      " 30  RACE_BLACK          447254 non-null  uint8  \n",
      " 31  RACE_HISPANIC       447254 non-null  uint8  \n",
      " 32  RACE_OTHER/UNKNOWN  447254 non-null  uint8  \n",
      " 33  RACE_WHITE          447254 non-null  uint8  \n",
      " 34  AGE_MIDDLE_ADULT    447254 non-null  uint8  \n",
      " 35  AGE_OLD_ADULT       447254 non-null  uint8  \n",
      " 36  AGE_SENIOR          447254 non-null  uint8  \n",
      " 37  AGE_YOUNG_ADULT     447254 non-null  uint8  \n",
      "dtypes: float64(8), int64(21), uint8(9)\n",
      "memory usage: 106.2 MB\n"
     ]
    }
   ],
   "source": [
    "final_df.info()\n"
   ]
  },
  {
   "cell_type": "code",
   "execution_count": 21,
   "metadata": {},
   "outputs": [
    {
     "data": {
      "text/plain": [
       "GD                         0\n",
       "diabete_history            0\n",
       "blood                      0\n",
       "circulatory                0\n",
       "congenital                 0\n",
       "digestive                  0\n",
       "endocrine                  0\n",
       "genitourinary              0\n",
       "infectious                 0\n",
       "injury                     0\n",
       "mental                     0\n",
       "misc                       0\n",
       "muscular                   0\n",
       "neoplasms                  0\n",
       "nervous                    0\n",
       "pregnancy                  0\n",
       "prenatal                   0\n",
       "respiratory                0\n",
       "skin                       0\n",
       "BMI                        0\n",
       "Systolic_BP                0\n",
       "Diastolic_BP               0\n",
       "Glucose                    0\n",
       "Hemoglobin A1c         98325\n",
       "HDL                   115774\n",
       "LDL                   123418\n",
       "Creatinine                 0\n",
       "Triglycerides          91830\n",
       "Urea Nitrogen              0\n",
       "RACE_ASIAN                 0\n",
       "RACE_BLACK                 0\n",
       "RACE_HISPANIC              0\n",
       "RACE_OTHER/UNKNOWN         0\n",
       "RACE_WHITE                 0\n",
       "AGE_MIDDLE_ADULT           0\n",
       "AGE_OLD_ADULT              0\n",
       "AGE_SENIOR                 0\n",
       "AGE_YOUNG_ADULT            0\n",
       "dtype: int64"
      ]
     },
     "execution_count": 21,
     "metadata": {},
     "output_type": "execute_result"
    }
   ],
   "source": [
    "final_df.isnull().sum()"
   ]
  },
  {
   "cell_type": "code",
   "execution_count": 22,
   "metadata": {},
   "outputs": [],
   "source": [
    "import matplotlib.pyplot as plt\n",
    "import seaborn as sns\n"
   ]
  },
  {
   "cell_type": "code",
   "execution_count": 23,
   "metadata": {},
   "outputs": [],
   "source": [
    "variables = ['BMI','Systolic_BP','Diastolic_BP','Glucose','Hemoglobin A1c','HDL','LDL','Creatinine','Triglycerides',\n",
    "             'Urea Nitrogen']\n",
    "#check the outliers"
   ]
  },
  {
   "cell_type": "code",
   "execution_count": 24,
   "metadata": {},
   "outputs": [
    {
     "data": {
      "image/png": "[encoded data removed]",
      "text/plain": [
       "<Figure size 1000x1000 with 10 Axes>"
      ]
     },
     "metadata": {},
     "output_type": "display_data"
    }
   ],
   "source": [
    "import seaborn as sns\n",
    "\n",
    "fig = plt.figure(figsize=(10, 10))\n",
    "count = 0\n",
    "for variable in variables:\n",
    "    count += 1\n",
    "    plt.subplot(4, 3, count)\n",
    "    ax = sns.boxplot(y=variable, data=final_df)\n",
    "\n",
    "fig.tight_layout()\n",
    "plt.show()\n"
   ]
  },
  {
   "attachments": {},
   "cell_type": "markdown",
   "metadata": {},
   "source": [
    "Ideally, we should keep extreme values related to the patients' poor health condition and exclude impossible values (such as negative temperature) and probable outliers (such as heart rate above 250 beats/min). In order to do so, values that fall outside boundaries defined by expert knowledge are excluded. This way, we avoid excluding extreme (but correct/possible) values."
   ]
  },
  {
   "cell_type": "code",
   "execution_count": 25,
   "metadata": {},
   "outputs": [
    {
     "name": "stdout",
     "output_type": "stream",
     "text": [
      "Number of observations removed: 21\n"
     ]
    }
   ],
   "source": [
    "nulls_before = final_df.isnull().sum().sum()\n",
    "\n",
    "final_df.loc[final_df['BMI'] > 300, 'BMI'] = np.nan\n",
    "final_df.loc[final_df['Diastolic_BP'] > 300, 'Diastolic_BP'] = np.nan\n",
    "final_df.loc[final_df['Systolic_BP'] > 10000,  'Systolic_BP'] = np.nan\n",
    "final_df.loc[final_df['Glucose'] > 2000, 'Glucose'] = np.nan\n",
    "final_df.loc[final_df['Hemoglobin A1c'] > 20, 'Hemoglobin A1c'] = np.nan\n",
    "final_df.loc[final_df['HDL'] > 300, 'HDL'] = np.nan\n",
    "final_df.loc[final_df['LDL'] > 300, 'LDL'] = np.nan\n",
    "final_df.loc[final_df['Creatinine'] > 400, 'Creatinine'] = np.nan\n",
    "final_df.loc[final_df['Triglycerides'] > 5000, 'Triglycerides'] = np.nan\n",
    "final_df.loc[final_df['Urea Nitrogen'] > 200, 'Urea Nitrogen'] = np.nan\n",
    "\n",
    "\n",
    "nulls_now = final_df.isnull().sum().sum()\n",
    "print('Number of observations removed: ' + str(nulls_now - nulls_before))\n"
   ]
  },
  {
   "cell_type": "code",
   "execution_count": 26,
   "metadata": {},
   "outputs": [
    {
     "name": "stdout",
     "output_type": "stream",
     "text": [
      "Observations corresponding to outliers: 0.0%\n"
     ]
    }
   ],
   "source": [
    "print('Observations corresponding to outliers: ' + str(round((nulls_now - nulls_before)*100/final_df.shape[0],2)) + '%')"
   ]
  },
  {
   "cell_type": "code",
   "execution_count": 27,
   "metadata": {},
   "outputs": [
    {
     "name": "stdout",
     "output_type": "stream",
     "text": [
      "<class 'pandas.core.frame.DataFrame'>\n",
      "Int64Index: 447254 entries, 61 to 984013\n",
      "Data columns (total 38 columns):\n",
      " #   Column              Non-Null Count   Dtype  \n",
      "---  ------              --------------   -----  \n",
      " 0   GD                  447254 non-null  int64  \n",
      " 1   diabete_history     447254 non-null  int64  \n",
      " 2   blood               447254 non-null  int64  \n",
      " 3   circulatory         447254 non-null  int64  \n",
      " 4   congenital          447254 non-null  int64  \n",
      " 5   digestive           447254 non-null  int64  \n",
      " 6   endocrine           447254 non-null  int64  \n",
      " 7   genitourinary       447254 non-null  int64  \n",
      " 8   infectious          447254 non-null  int64  \n",
      " 9   injury              447254 non-null  int64  \n",
      " 10  mental              447254 non-null  int64  \n",
      " 11  misc                447254 non-null  int64  \n",
      " 12  muscular            447254 non-null  int64  \n",
      " 13  neoplasms           447254 non-null  int64  \n",
      " 14  nervous             447254 non-null  int64  \n",
      " 15  pregnancy           447254 non-null  int64  \n",
      " 16  prenatal            447254 non-null  int64  \n",
      " 17  respiratory         447254 non-null  int64  \n",
      " 18  skin                447254 non-null  int64  \n",
      " 19  BMI                 447233 non-null  float64\n",
      " 20  Systolic_BP         447254 non-null  float64\n",
      " 21  Diastolic_BP        447254 non-null  float64\n",
      " 22  Glucose             447254 non-null  float64\n",
      " 23  Hemoglobin A1c      348929 non-null  float64\n",
      " 24  HDL                 331480 non-null  float64\n",
      " 25  LDL                 323836 non-null  float64\n",
      " 26  Creatinine          447254 non-null  float64\n",
      " 27  Triglycerides       355424 non-null  float64\n",
      " 28  Urea Nitrogen       447254 non-null  float64\n",
      " 29  RACE_ASIAN          447254 non-null  uint8  \n",
      " 30  RACE_BLACK          447254 non-null  uint8  \n",
      " 31  RACE_HISPANIC       447254 non-null  uint8  \n",
      " 32  RACE_OTHER/UNKNOWN  447254 non-null  uint8  \n",
      " 33  RACE_WHITE          447254 non-null  uint8  \n",
      " 34  AGE_MIDDLE_ADULT    447254 non-null  uint8  \n",
      " 35  AGE_OLD_ADULT       447254 non-null  uint8  \n",
      " 36  AGE_SENIOR          447254 non-null  uint8  \n",
      " 37  AGE_YOUNG_ADULT     447254 non-null  uint8  \n",
      "dtypes: float64(10), int64(19), uint8(9)\n",
      "memory usage: 106.2 MB\n"
     ]
    }
   ],
   "source": [
    "final_df.info()"
   ]
  },
  {
   "attachments": {},
   "cell_type": "markdown",
   "metadata": {},
   "source": [
    "Now check the result after dealing with extreme values"
   ]
  },
  {
   "cell_type": "code",
   "execution_count": 28,
   "metadata": {},
   "outputs": [
    {
     "data": {
      "image/png": "[encoded data removed]",
      "text/plain": [
       "<Figure size 1000x1000 with 10 Axes>"
      ]
     },
     "metadata": {},
     "output_type": "display_data"
    }
   ],
   "source": [
    "fig = plt.figure(figsize=(10, 10))\n",
    "count = 0\n",
    "for variable in variables:\n",
    "    count += 1\n",
    "    plt.subplot(4, 3, count)\n",
    "\n",
    "    ax = sns.boxplot(x='GD', y=variable, data=final_df)\n",
    "    ax = sns.stripplot(x='GD', y=variable, data=final_df,color=\"orange\", jitter=0.2, size=0.5)\n",
    "\n",
    "fig.tight_layout()\n",
    "plt.show()\n"
   ]
  },
  {
   "cell_type": "code",
   "execution_count": 29,
   "metadata": {},
   "outputs": [],
   "source": [
    "final_df.loc[final_df['BMI'] > 200, 'BMI'] = np.nan\n"
   ]
  },
  {
   "cell_type": "code",
   "execution_count": 30,
   "metadata": {},
   "outputs": [
    {
     "data": {
      "image/png": "[encoded data removed]",
      "text/plain": [
       "<Figure size 1000x1000 with 1 Axes>"
      ]
     },
     "metadata": {},
     "output_type": "display_data"
    }
   ],
   "source": [
    "fig = plt.figure(figsize=(10, 10))\n",
    "ax = sns.boxplot(x='GD', y='BMI', data=final_df)\n",
    "fig.tight_layout()\n",
    "plt.show()\n"
   ]
  },
  {
   "cell_type": "code",
   "execution_count": null,
   "metadata": {},
   "outputs": [],
   "source": [
    "# Fill in missing values. Try multiple imputation method."
   ]
  },
  {
   "cell_type": "code",
   "execution_count": 31,
   "metadata": {},
   "outputs": [
    {
     "data": {
      "text/plain": [
       "GD                         0\n",
       "diabete_history            0\n",
       "blood                      0\n",
       "circulatory                0\n",
       "congenital                 0\n",
       "digestive                  0\n",
       "endocrine                  0\n",
       "genitourinary              0\n",
       "infectious                 0\n",
       "injury                     0\n",
       "mental                     0\n",
       "misc                       0\n",
       "muscular                   0\n",
       "neoplasms                  0\n",
       "nervous                    0\n",
       "pregnancy                  0\n",
       "prenatal                   0\n",
       "respiratory                0\n",
       "skin                       0\n",
       "BMI                      233\n",
       "Systolic_BP                0\n",
       "Diastolic_BP               0\n",
       "Glucose                    0\n",
       "Hemoglobin A1c         98325\n",
       "HDL                   115774\n",
       "LDL                   123418\n",
       "Creatinine                 0\n",
       "Triglycerides          91830\n",
       "Urea Nitrogen              0\n",
       "RACE_ASIAN                 0\n",
       "RACE_BLACK                 0\n",
       "RACE_HISPANIC              0\n",
       "RACE_OTHER/UNKNOWN         0\n",
       "RACE_WHITE                 0\n",
       "AGE_MIDDLE_ADULT           0\n",
       "AGE_OLD_ADULT              0\n",
       "AGE_SENIOR                 0\n",
       "AGE_YOUNG_ADULT            0\n",
       "dtype: int64"
      ]
     },
     "execution_count": 31,
     "metadata": {},
     "output_type": "execute_result"
    }
   ],
   "source": [
    "final_df.isnull().sum()\n"
   ]
  },
  {
   "cell_type": "code",
   "execution_count": 32,
   "metadata": {},
   "outputs": [],
   "source": [
    "from fancyimpute import IterativeImputer\n",
    "import pandas as pd\n",
    "\n"
   ]
  },
  {
   "cell_type": "code",
   "execution_count": 33,
   "metadata": {},
   "outputs": [],
   "source": [
    "# 将 Hemoglobin A1c 这一列单独拆分出来，构建一个新的数据集\n",
    "impute_cols = [\"Hemoglobin A1c\"]\n",
    "impute_df = final_df[impute_cols].copy()\n",
    "\n",
    "# 使用 IterativeImputer 进行插补操作\n",
    "imputer = IterativeImputer()\n",
    "imputed_cols = imputer.fit_transform(impute_df)\n",
    "\n",
    "\n"
   ]
  },
  {
   "cell_type": "code",
   "execution_count": 34,
   "metadata": {},
   "outputs": [
    {
     "data": {
      "text/plain": [
       "Hemoglobin A1c    0\n",
       "dtype: int64"
      ]
     },
     "execution_count": 34,
     "metadata": {},
     "output_type": "execute_result"
    }
   ],
   "source": [
    "imputed_cols_df = pd.DataFrame(imputed_cols, columns=impute_cols, index=impute_df.index)\n",
    "imputed_cols_df.isnull().sum()\n"
   ]
  },
  {
   "cell_type": "code",
   "execution_count": 35,
   "metadata": {},
   "outputs": [
    {
     "name": "stdout",
     "output_type": "stream",
     "text": [
      "<class 'pandas.core.frame.DataFrame'>\n",
      "Int64Index: 447254 entries, 61 to 984013\n",
      "Data columns (total 1 columns):\n",
      " #   Column          Non-Null Count   Dtype  \n",
      "---  ------          --------------   -----  \n",
      " 0   Hemoglobin A1c  447254 non-null  float64\n",
      "dtypes: float64(1)\n",
      "memory usage: 6.8 MB\n"
     ]
    }
   ],
   "source": [
    "imputed_cols_df.info()"
   ]
  },
  {
   "cell_type": "markdown",
   "metadata": {},
   "source": []
  },
  {
   "cell_type": "code",
   "execution_count": 36,
   "metadata": {},
   "outputs": [
    {
     "name": "stdout",
     "output_type": "stream",
     "text": [
      "GD                         0\n",
      "diabete_history            0\n",
      "blood                      0\n",
      "circulatory                0\n",
      "congenital                 0\n",
      "digestive                  0\n",
      "endocrine                  0\n",
      "genitourinary              0\n",
      "infectious                 0\n",
      "injury                     0\n",
      "mental                     0\n",
      "misc                       0\n",
      "muscular                   0\n",
      "neoplasms                  0\n",
      "nervous                    0\n",
      "pregnancy                  0\n",
      "prenatal                   0\n",
      "respiratory                0\n",
      "skin                       0\n",
      "BMI                      233\n",
      "Systolic_BP                0\n",
      "Diastolic_BP               0\n",
      "Glucose                    0\n",
      "Hemoglobin A1c             0\n",
      "HDL                   115774\n",
      "LDL                   123418\n",
      "Creatinine                 0\n",
      "Triglycerides          91830\n",
      "Urea Nitrogen              0\n",
      "RACE_ASIAN                 0\n",
      "RACE_BLACK                 0\n",
      "RACE_HISPANIC              0\n",
      "RACE_OTHER/UNKNOWN         0\n",
      "RACE_WHITE                 0\n",
      "AGE_MIDDLE_ADULT           0\n",
      "AGE_OLD_ADULT              0\n",
      "AGE_SENIOR                 0\n",
      "AGE_YOUNG_ADULT            0\n",
      "dtype: int64\n"
     ]
    }
   ],
   "source": [
    "# 将插补后的新列替换回原来的数据集中\n",
    "final_df[\"Hemoglobin A1c\"] = imputed_cols\n",
    "\n",
    "# 检查是否替换成功\n",
    "print(final_df.isnull().sum())\n"
   ]
  },
  {
   "attachments": {},
   "cell_type": "markdown",
   "metadata": {},
   "source": [
    "Use the same method to fill in missing values of BMI, HDL, LDL, and Triglycerides."
   ]
  },
  {
   "cell_type": "code",
   "execution_count": 37,
   "metadata": {},
   "outputs": [],
   "source": [
    "impute_bmi = [\"BMI\"]\n",
    "impute_bmi_df = final_df[impute_bmi].copy()\n",
    "\n",
    "# 使用 IterativeImputer 进行插补操作\n",
    "imputer = IterativeImputer()\n",
    "imputed_bmi = imputer.fit_transform(impute_bmi_df)\n"
   ]
  },
  {
   "cell_type": "code",
   "execution_count": 38,
   "metadata": {},
   "outputs": [
    {
     "data": {
      "text/plain": [
       "BMI    0\n",
       "dtype: int64"
      ]
     },
     "execution_count": 38,
     "metadata": {},
     "output_type": "execute_result"
    }
   ],
   "source": [
    "imputed_BMI_df = pd.DataFrame(imputed_bmi, columns=impute_bmi, index=impute_bmi_df.index)\n",
    "imputed_BMI_df.isnull().sum()"
   ]
  },
  {
   "cell_type": "code",
   "execution_count": 39,
   "metadata": {},
   "outputs": [
    {
     "name": "stdout",
     "output_type": "stream",
     "text": [
      "<class 'pandas.core.frame.DataFrame'>\n",
      "Int64Index: 447254 entries, 61 to 984013\n",
      "Data columns (total 1 columns):\n",
      " #   Column  Non-Null Count   Dtype  \n",
      "---  ------  --------------   -----  \n",
      " 0   BMI     447254 non-null  float64\n",
      "dtypes: float64(1)\n",
      "memory usage: 6.8 MB\n"
     ]
    }
   ],
   "source": [
    "imputed_BMI_df.info()"
   ]
  },
  {
   "cell_type": "code",
   "execution_count": 40,
   "metadata": {},
   "outputs": [
    {
     "name": "stdout",
     "output_type": "stream",
     "text": [
      "GD                         0\n",
      "diabete_history            0\n",
      "blood                      0\n",
      "circulatory                0\n",
      "congenital                 0\n",
      "digestive                  0\n",
      "endocrine                  0\n",
      "genitourinary              0\n",
      "infectious                 0\n",
      "injury                     0\n",
      "mental                     0\n",
      "misc                       0\n",
      "muscular                   0\n",
      "neoplasms                  0\n",
      "nervous                    0\n",
      "pregnancy                  0\n",
      "prenatal                   0\n",
      "respiratory                0\n",
      "skin                       0\n",
      "BMI                        0\n",
      "Systolic_BP                0\n",
      "Diastolic_BP               0\n",
      "Glucose                    0\n",
      "Hemoglobin A1c             0\n",
      "HDL                   115774\n",
      "LDL                   123418\n",
      "Creatinine                 0\n",
      "Triglycerides          91830\n",
      "Urea Nitrogen              0\n",
      "RACE_ASIAN                 0\n",
      "RACE_BLACK                 0\n",
      "RACE_HISPANIC              0\n",
      "RACE_OTHER/UNKNOWN         0\n",
      "RACE_WHITE                 0\n",
      "AGE_MIDDLE_ADULT           0\n",
      "AGE_OLD_ADULT              0\n",
      "AGE_SENIOR                 0\n",
      "AGE_YOUNG_ADULT            0\n",
      "dtype: int64\n"
     ]
    }
   ],
   "source": [
    "# 将插补后的新列替换回原来的数据集中\n",
    "final_df[\"BMI\"] = imputed_bmi\n",
    "\n",
    "# 检查是否替换成功\n",
    "print(final_df.isnull().sum())\n"
   ]
  },
  {
   "cell_type": "code",
   "execution_count": 41,
   "metadata": {},
   "outputs": [
    {
     "data": {
      "text/plain": [
       "HDL    0\n",
       "dtype: int64"
      ]
     },
     "execution_count": 41,
     "metadata": {},
     "output_type": "execute_result"
    }
   ],
   "source": [
    "impute_hdl = [\"HDL\"]\n",
    "impute_hdl_df = final_df[impute_hdl].copy()\n",
    "\n",
    "# 使用 IterativeImputer 进行插补操作\n",
    "imputer = IterativeImputer()\n",
    "imputed_hdl = imputer.fit_transform(impute_hdl_df)\n",
    "imputed_HDL_df = pd.DataFrame(imputed_hdl, columns=impute_hdl, index=impute_hdl_df.index)\n",
    "imputed_HDL_df.isnull().sum()"
   ]
  },
  {
   "cell_type": "code",
   "execution_count": 42,
   "metadata": {},
   "outputs": [
    {
     "name": "stdout",
     "output_type": "stream",
     "text": [
      "GD                         0\n",
      "diabete_history            0\n",
      "blood                      0\n",
      "circulatory                0\n",
      "congenital                 0\n",
      "digestive                  0\n",
      "endocrine                  0\n",
      "genitourinary              0\n",
      "infectious                 0\n",
      "injury                     0\n",
      "mental                     0\n",
      "misc                       0\n",
      "muscular                   0\n",
      "neoplasms                  0\n",
      "nervous                    0\n",
      "pregnancy                  0\n",
      "prenatal                   0\n",
      "respiratory                0\n",
      "skin                       0\n",
      "BMI                        0\n",
      "Systolic_BP                0\n",
      "Diastolic_BP               0\n",
      "Glucose                    0\n",
      "Hemoglobin A1c             0\n",
      "HDL                        0\n",
      "LDL                   123418\n",
      "Creatinine                 0\n",
      "Triglycerides          91830\n",
      "Urea Nitrogen              0\n",
      "RACE_ASIAN                 0\n",
      "RACE_BLACK                 0\n",
      "RACE_HISPANIC              0\n",
      "RACE_OTHER/UNKNOWN         0\n",
      "RACE_WHITE                 0\n",
      "AGE_MIDDLE_ADULT           0\n",
      "AGE_OLD_ADULT              0\n",
      "AGE_SENIOR                 0\n",
      "AGE_YOUNG_ADULT            0\n",
      "dtype: int64\n"
     ]
    }
   ],
   "source": [
    "final_df[\"HDL\"] = imputed_hdl\n",
    "\n",
    "# 检查是否替换成功\n",
    "print(final_df.isnull().sum())"
   ]
  },
  {
   "cell_type": "code",
   "execution_count": 43,
   "metadata": {},
   "outputs": [
    {
     "data": {
      "text/plain": [
       "LDL    0\n",
       "dtype: int64"
      ]
     },
     "execution_count": 43,
     "metadata": {},
     "output_type": "execute_result"
    }
   ],
   "source": [
    "impute_ldl = [\"LDL\"]\n",
    "impute_ldl_df = final_df[impute_ldl].copy()\n",
    "\n",
    "# 使用 IterativeImputer 进行插补操作\n",
    "imputer = IterativeImputer()\n",
    "imputed_ldl = imputer.fit_transform(impute_ldl_df)\n",
    "imputed_LDL_df = pd.DataFrame(imputed_ldl, columns=impute_ldl, index=impute_ldl_df.index)\n",
    "imputed_LDL_df.isnull().sum()"
   ]
  },
  {
   "cell_type": "code",
   "execution_count": 44,
   "metadata": {},
   "outputs": [
    {
     "name": "stdout",
     "output_type": "stream",
     "text": [
      "GD                        0\n",
      "diabete_history           0\n",
      "blood                     0\n",
      "circulatory               0\n",
      "congenital                0\n",
      "digestive                 0\n",
      "endocrine                 0\n",
      "genitourinary             0\n",
      "infectious                0\n",
      "injury                    0\n",
      "mental                    0\n",
      "misc                      0\n",
      "muscular                  0\n",
      "neoplasms                 0\n",
      "nervous                   0\n",
      "pregnancy                 0\n",
      "prenatal                  0\n",
      "respiratory               0\n",
      "skin                      0\n",
      "BMI                       0\n",
      "Systolic_BP               0\n",
      "Diastolic_BP              0\n",
      "Glucose                   0\n",
      "Hemoglobin A1c            0\n",
      "HDL                       0\n",
      "LDL                       0\n",
      "Creatinine                0\n",
      "Triglycerides         91830\n",
      "Urea Nitrogen             0\n",
      "RACE_ASIAN                0\n",
      "RACE_BLACK                0\n",
      "RACE_HISPANIC             0\n",
      "RACE_OTHER/UNKNOWN        0\n",
      "RACE_WHITE                0\n",
      "AGE_MIDDLE_ADULT          0\n",
      "AGE_OLD_ADULT             0\n",
      "AGE_SENIOR                0\n",
      "AGE_YOUNG_ADULT           0\n",
      "dtype: int64\n"
     ]
    }
   ],
   "source": [
    "final_df[\"LDL\"] = imputed_ldl\n",
    "\n",
    "# 检查是否替换成功\n",
    "print(final_df.isnull().sum())"
   ]
  },
  {
   "cell_type": "code",
   "execution_count": 45,
   "metadata": {},
   "outputs": [
    {
     "data": {
      "text/plain": [
       "Triglycerides    0\n",
       "dtype: int64"
      ]
     },
     "execution_count": 45,
     "metadata": {},
     "output_type": "execute_result"
    }
   ],
   "source": [
    "impute_tri = [\"Triglycerides\"]\n",
    "impute_tri_df = final_df[impute_tri].copy()\n",
    "\n",
    "# 使用 IterativeImputer 进行插补操作\n",
    "imputer = IterativeImputer()\n",
    "imputed_tri = imputer.fit_transform(impute_tri_df)\n",
    "imputed_TRI_df = pd.DataFrame(imputed_tri, columns=impute_tri, index=impute_tri_df.index)\n",
    "imputed_TRI_df.isnull().sum()"
   ]
  },
  {
   "cell_type": "code",
   "execution_count": 46,
   "metadata": {},
   "outputs": [
    {
     "name": "stdout",
     "output_type": "stream",
     "text": [
      "GD                    0\n",
      "diabete_history       0\n",
      "blood                 0\n",
      "circulatory           0\n",
      "congenital            0\n",
      "digestive             0\n",
      "endocrine             0\n",
      "genitourinary         0\n",
      "infectious            0\n",
      "injury                0\n",
      "mental                0\n",
      "misc                  0\n",
      "muscular              0\n",
      "neoplasms             0\n",
      "nervous               0\n",
      "pregnancy             0\n",
      "prenatal              0\n",
      "respiratory           0\n",
      "skin                  0\n",
      "BMI                   0\n",
      "Systolic_BP           0\n",
      "Diastolic_BP          0\n",
      "Glucose               0\n",
      "Hemoglobin A1c        0\n",
      "HDL                   0\n",
      "LDL                   0\n",
      "Creatinine            0\n",
      "Triglycerides         0\n",
      "Urea Nitrogen         0\n",
      "RACE_ASIAN            0\n",
      "RACE_BLACK            0\n",
      "RACE_HISPANIC         0\n",
      "RACE_OTHER/UNKNOWN    0\n",
      "RACE_WHITE            0\n",
      "AGE_MIDDLE_ADULT      0\n",
      "AGE_OLD_ADULT         0\n",
      "AGE_SENIOR            0\n",
      "AGE_YOUNG_ADULT       0\n",
      "dtype: int64\n"
     ]
    }
   ],
   "source": [
    "final_df[\"Triglycerides\"] = imputed_tri\n",
    "\n",
    "# 检查是否替换成功\n",
    "print(final_df.isnull().sum())"
   ]
  },
  {
   "cell_type": "code",
   "execution_count": 47,
   "metadata": {},
   "outputs": [
    {
     "name": "stdout",
     "output_type": "stream",
     "text": [
      "<class 'pandas.core.frame.DataFrame'>\n",
      "Int64Index: 447254 entries, 61 to 984013\n",
      "Data columns (total 38 columns):\n",
      " #   Column              Non-Null Count   Dtype  \n",
      "---  ------              --------------   -----  \n",
      " 0   GD                  447254 non-null  int64  \n",
      " 1   diabete_history     447254 non-null  int64  \n",
      " 2   blood               447254 non-null  int64  \n",
      " 3   circulatory         447254 non-null  int64  \n",
      " 4   congenital          447254 non-null  int64  \n",
      " 5   digestive           447254 non-null  int64  \n",
      " 6   endocrine           447254 non-null  int64  \n",
      " 7   genitourinary       447254 non-null  int64  \n",
      " 8   infectious          447254 non-null  int64  \n",
      " 9   injury              447254 non-null  int64  \n",
      " 10  mental              447254 non-null  int64  \n",
      " 11  misc                447254 non-null  int64  \n",
      " 12  muscular            447254 non-null  int64  \n",
      " 13  neoplasms           447254 non-null  int64  \n",
      " 14  nervous             447254 non-null  int64  \n",
      " 15  pregnancy           447254 non-null  int64  \n",
      " 16  prenatal            447254 non-null  int64  \n",
      " 17  respiratory         447254 non-null  int64  \n",
      " 18  skin                447254 non-null  int64  \n",
      " 19  BMI                 447254 non-null  float64\n",
      " 20  Systolic_BP         447254 non-null  float64\n",
      " 21  Diastolic_BP        447254 non-null  float64\n",
      " 22  Glucose             447254 non-null  float64\n",
      " 23  Hemoglobin A1c      447254 non-null  float64\n",
      " 24  HDL                 447254 non-null  float64\n",
      " 25  LDL                 447254 non-null  float64\n",
      " 26  Creatinine          447254 non-null  float64\n",
      " 27  Triglycerides       447254 non-null  float64\n",
      " 28  Urea Nitrogen       447254 non-null  float64\n",
      " 29  RACE_ASIAN          447254 non-null  uint8  \n",
      " 30  RACE_BLACK          447254 non-null  uint8  \n",
      " 31  RACE_HISPANIC       447254 non-null  uint8  \n",
      " 32  RACE_OTHER/UNKNOWN  447254 non-null  uint8  \n",
      " 33  RACE_WHITE          447254 non-null  uint8  \n",
      " 34  AGE_MIDDLE_ADULT    447254 non-null  uint8  \n",
      " 35  AGE_OLD_ADULT       447254 non-null  uint8  \n",
      " 36  AGE_SENIOR          447254 non-null  uint8  \n",
      " 37  AGE_YOUNG_ADULT     447254 non-null  uint8  \n",
      "dtypes: float64(10), int64(19), uint8(9)\n",
      "memory usage: 106.2 MB\n"
     ]
    }
   ],
   "source": [
    "final_df.info()"
   ]
  },
  {
   "cell_type": "code",
   "execution_count": 48,
   "metadata": {},
   "outputs": [],
   "source": [
    "\n",
    "final_df.to_csv('final_df_no_insulin.csv', index=False)\n"
   ]
  }
 ],
 "metadata": {
  "kernelspec": {
   "display_name": "base",
   "language": "python",
   "name": "python3"
  },
  "language_info": {
   "codemirror_mode": {
    "name": "ipython",
    "version": 3
   },
   "file_extension": ".py",
   "mimetype": "text/x-python",
   "name": "python",
   "nbconvert_exporter": "python",
   "pygments_lexer": "ipython3",
   "version": "3.9.13"
  },
  "orig_nbformat": 4,
  "vscode": {
   "interpreter": {
    "hash": "cfd69f74615c4ef0133400a3bcd721013fb2808b284b1b6ac6c4460012cd3018"
   }
  }
 },
 "nbformat": 4,
 "nbformat_minor": 2
}
